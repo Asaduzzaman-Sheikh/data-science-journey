{
 "cells": [
  {
   "cell_type": "markdown",
   "id": "1bd0b22f-b53c-4f78-9ed5-a77202ce3228",
   "metadata": {},
   "source": [
    "# Very First Program\n",
    "* The Hello World"
   ]
  },
  {
   "cell_type": "code",
   "execution_count": 1,
   "id": "42752ae4-31ab-4de9-8cfa-6190d88547d1",
   "metadata": {},
   "outputs": [
    {
     "name": "stdout",
     "output_type": "stream",
     "text": [
      "Hello World!\n"
     ]
    }
   ],
   "source": [
    "# The print() function is used to show something\n",
    "print('Hello World!')"
   ]
  },
  {
   "cell_type": "markdown",
   "id": "2b37c359-92e5-48ff-a77c-c6e784ca8b64",
   "metadata": {},
   "source": [
    "# Taking User Input\n",
    "- input(): returns a string, so if the prompt is a number it must be converted to that"
   ]
  },
  {
   "cell_type": "code",
   "execution_count": 15,
   "id": "5498466d-f9ed-49da-8520-5b04db41d61f",
   "metadata": {},
   "outputs": [
    {
     "name": "stdin",
     "output_type": "stream",
     "text": [
      "Enter Work Hours:  37\n",
      "Enter rate per hour:  2.75\n"
     ]
    },
    {
     "name": "stdout",
     "output_type": "stream",
     "text": [
      "Your Total Gross Pay: 101.75\n"
     ]
    }
   ],
   "source": [
    "# The input() is used to take prompt from the user\n",
    "work_hours = float(input('Enter Work Hours: '))\n",
    "rate_per_hour = float(input('Enter rate per hour: '))\n",
    "gross_pay = work_hours * rate_per_hour\n",
    "print(f'Your Total Gross Pay: {gross_pay}')"
   ]
  },
  {
   "cell_type": "code",
   "execution_count": 6,
   "id": "345a2645-059c-4fe8-a395-262e5ae4c2a0",
   "metadata": {},
   "outputs": [
    {
     "name": "stdout",
     "output_type": "stream",
     "text": [
      "8.5\n",
      "8.0\n",
      "4.0\n",
      "7\n",
      "9\n",
      "2\n"
     ]
    }
   ],
   "source": [
    "width = 17\n",
    "height = 12.0\n",
    "\n",
    "print(width/2)\n",
    "print(width//2.0)\n",
    "print(height/3)\n",
    "print(1+2*3)\n",
    "print(3**2)\n",
    "print(8%3)"
   ]
  },
  {
   "cell_type": "code",
   "execution_count": 17,
   "id": "d1e71137-fe29-4258-b1ba-680305822be0",
   "metadata": {},
   "outputs": [
    {
     "name": "stdin",
     "output_type": "stream",
     "text": [
      "Enter Temperature in Celsius:  36\n"
     ]
    },
    {
     "name": "stdout",
     "output_type": "stream",
     "text": [
      "Fahrenheit Temperature is 96.8\n"
     ]
    }
   ],
   "source": [
    "# Write a program which prompts the user for a Celsius temperature, convert the temperature to Fahrenheit, and print out the converted temperature.\n",
    "celsius_temperature = float(input('Enter Temperature in Celsius: '))\n",
    "fahrenheit_temperature = ((9*celsius_temperature)/5)+32\n",
    "print(f'Fahrenheit Temperature is {fahrenheit_temperature}')"
   ]
  },
  {
   "cell_type": "markdown",
   "id": "fd08beb9-c285-4b81-a775-66c890c9f7c8",
   "metadata": {},
   "source": [
    "# Variable & Data Types\n",
    "- A name that refers to a value"
   ]
  },
  {
   "cell_type": "code",
   "execution_count": 4,
   "id": "e3a161f2-6054-4eca-be43-bbe680d40fbe",
   "metadata": {},
   "outputs": [
    {
     "name": "stdout",
     "output_type": "stream",
     "text": [
      "This is a string stored in a variable called \"message\"\n"
     ]
    }
   ],
   "source": [
    "message = 'This is a string stored in a variable called \\\"message\"'\n",
    "print(message)"
   ]
  },
  {
   "cell_type": "markdown",
   "id": "7ff893b2-575b-41a7-988c-0a9f02f30144",
   "metadata": {},
   "source": [
    "# Working with number\n",
    "- integer: whole number like 1,2,3...\n",
    "- float: floatng point number like 1.2,2.3,3.4......"
   ]
  },
  {
   "cell_type": "code",
   "execution_count": 3,
   "id": "2deaf820-c7a3-4fd9-871e-f55a3d49253a",
   "metadata": {},
   "outputs": [
    {
     "name": "stdout",
     "output_type": "stream",
     "text": [
      "<class 'int'>\n",
      "<class 'float'>\n",
      "Absolute value of -7 is: 7\n",
      "Exponential of a number:49\n",
      "Round value of 27.1267 is: 27\n",
      "Maximum number is:37\n",
      "Minimum number is:9\n",
      "Sum of the numbers is:53\n"
     ]
    }
   ],
   "source": [
    "integer_number = 77\n",
    "floating_point_number = 27.1267\n",
    "\n",
    "# Checking the type of the numbers\n",
    "print(type(integer_number))\n",
    "print(type(floating_point_number))\n",
    "\n",
    "# Working with numbers\n",
    "negative_number = -7\n",
    "\n",
    "# Absolute value of a number\n",
    "print(f'Absolute value of {negative_number} is: {abs(negative_number)}')\n",
    "\n",
    "number = 7\n",
    "\n",
    "# Power of a number (exponential)\n",
    "print(f'Exponential of a number:{pow(7,2)}')\n",
    "\n",
    "# Rounding a number\n",
    "print(f'Round value of {floating_point_number} is: {round(floating_point_number)}')\n",
    "\n",
    "# Finding the maximum numberb\n",
    "print(f'Maximum number is:{max(16,37,9)}')\n",
    "\n",
    "# Finding the minimum number\n",
    "print(f'Minimum number is:{min(16,37,9)}')\n",
    "\n",
    "# Finding the sum of the numbers\n",
    "# print(f'Maximum number is:{sum(16,37)}') # This will generate an error cause this function is only applicable to iterables\n",
    "print(f'Sum of the numbers is:{sum([16,37])}')"
   ]
  },
  {
   "cell_type": "markdown",
   "id": "b3663e9d-08bf-4d6c-a3f1-089e6b6df87e",
   "metadata": {},
   "source": [
    "# Working with Math module"
   ]
  },
  {
   "cell_type": "code",
   "execution_count": 23,
   "id": "3317cad9-9d07-4c6d-8cbb-e185b1fffed2",
   "metadata": {},
   "outputs": [
    {
     "name": "stdout",
     "output_type": "stream",
     "text": [
      "3.0\n",
      "6\n",
      "7\n"
     ]
    }
   ],
   "source": [
    "# Math module\n",
    "import math\n",
    "\n",
    "# Square root of a number\n",
    "print(math.sqrt(9))\n",
    "\n",
    "# floor: round the floating point number to the nearest whole number down\n",
    "print(math.floor(6.7))\n",
    "\n",
    "# ceil: opposite to the floor\n",
    "print(math.ceil(6.2))"
   ]
  },
  {
   "cell_type": "code",
   "execution_count": 4,
   "id": "55d6b443-c19f-415c-87df-805f218b11a6",
   "metadata": {},
   "outputs": [
    {
     "name": "stdin",
     "output_type": "stream",
     "text": [
      "Enter a number:  2\n",
      "Enter another number:  3\n"
     ]
    },
    {
     "name": "stdout",
     "output_type": "stream",
     "text": [
      "Result = 5\n"
     ]
    }
   ],
   "source": [
    "# Build a very basic calculator to add two integer numbers\n",
    "first_number = int(input('Enter a number: '))\n",
    "second_number = int(input('Enter another number: '))\n",
    "\n",
    "# Adding two numbers\n",
    "result = first_number + second_number\n",
    "\n",
    "print(f'Result = {result}')"
   ]
  },
  {
   "cell_type": "markdown",
   "id": "8e9e430e-009e-460d-9a86-90f6a13424d1",
   "metadata": {},
   "source": [
    "# Lists\n",
    "- can contain multiple itmes"
   ]
  },
  {
   "cell_type": "code",
   "execution_count": 26,
   "id": "d7af30f2-65b4-48ca-a43c-990e90982466",
   "metadata": {},
   "outputs": [
    {
     "name": "stdout",
     "output_type": "stream",
     "text": [
      "['apple', 'banana', 'orange', 'watermelon']\n",
      "<class 'list'>\n",
      "[1, 2, 3, 4, 5, 6, 7]\n",
      "<class 'list'>\n",
      "<class 'list'>\n",
      "<class 'list'>\n",
      "['apple', 'banana', 'orange']\n",
      "['apple', 'banana', 'lemon', 'orange']\n",
      "[1, 2, 3, 5]\n",
      "[1, 2, 3, 4, 5]\n"
     ]
    }
   ],
   "source": [
    "# Creating a list\n",
    "fruits_list = ['apple','banana','orange','watermelon']\n",
    "print(fruits_list)\n",
    "print(type(fruits_list))\n",
    "\n",
    "# Creating list using list() constructor\n",
    "number_list = list((1,2,3,4,5,6,7))\n",
    "print(number_list)\n",
    "print(type(number_list))\n",
    "\n",
    "# Creating an empty list\n",
    "empty_fruit_list = []\n",
    "print(type(empty_fruit_list))\n",
    "\n",
    "empty_number_list = list()\n",
    "print(type(empty_number_list))\n",
    "\n",
    "# Adding items to the list using the append() method\n",
    "empty_fruit_list.append('apple')\n",
    "empty_fruit_list.append('banana')\n",
    "empty_fruit_list.append('orange')\n",
    "\n",
    "print(empty_fruit_list)\n",
    "\n",
    "# Add to a specific position using the insert() method\n",
    "empty_fruit_list.insert(2,'lemon')\n",
    "print(empty_fruit_list)\n",
    "\n",
    "empty_number_list.append(1)\n",
    "empty_number_list.append(2)\n",
    "empty_number_list.append(3)\n",
    "empty_number_list.append(5)\n",
    "\n",
    "print(empty_number_list)\n",
    "\n",
    "empty_number_list.insert(3,4)\n",
    "print(empty_number_list)"
   ]
  },
  {
   "cell_type": "code",
   "execution_count": 14,
   "id": "3cbf8d36-cbf4-474c-9ef0-d2f5dc2d1119",
   "metadata": {},
   "outputs": [
    {
     "name": "stdout",
     "output_type": "stream",
     "text": [
      "['a', 's', 'd', 'f', 'g', 'q', 'w', 'e', 'r', 't']\n",
      "['a', 's', 'm', 'd', 'u', 1, 2, 3, 'a', 's', 'd', 'f', 'g', 'q', 'w', 'e', 'r', 't']\n",
      "['a', 'b', 'c', 'a', 'b', 'c']\n"
     ]
    }
   ],
   "source": [
    "# Adding list\n",
    "# Using the extend() method to extend a list\n",
    "list_1 = ['a','s','d','f','g']\n",
    "list_2 = ['q','w','e','r','t']\n",
    "\n",
    "list_1.extend(list_2)\n",
    "print(list_1)\n",
    "\n",
    "# Using the plus poerator\n",
    "list_3 = ['a','s','m','d','u',1,2,3]\n",
    "list_4 = list_3 + list_1\n",
    "print(list_4)\n",
    "\n",
    "a = ['a','b','c']\n",
    "n = [1,2,3]\n",
    "r = a * 2\n",
    "print(r)"
   ]
  },
  {
   "cell_type": "code",
   "execution_count": 83,
   "id": "1238b7e8-315c-4aea-8941-e52bb3c01547",
   "metadata": {},
   "outputs": [
    {
     "name": "stdout",
     "output_type": "stream",
     "text": [
      "[]\n",
      "[]\n"
     ]
    }
   ],
   "source": [
    "# Deleting item\n",
    "\n",
    "# Using the remove() method\n",
    "print(list_4)\n",
    "# list_4.remove('w')\n",
    "# print(list_4)\n",
    "\n",
    "# Using pop() method\n",
    "# list_4.pop()\n",
    "# print(list_4)\n",
    "\n",
    "# list_4.pop(5)\n",
    "# print(list_4)\n",
    "\n",
    "# Using the del keyword\n",
    "# del list_4[6]\n",
    "# print(list_4)\n",
    "\n",
    "# del list_4[3:5]\n",
    "\n",
    "# Using clear() method\n",
    "list_4.clear()\n",
    "print(list_4)"
   ]
  },
  {
   "cell_type": "code",
   "execution_count": 2,
   "id": "155e02e8-6673-4e8e-8bc4-fd38233b064d",
   "metadata": {},
   "outputs": [
    {
     "name": "stdout",
     "output_type": "stream",
     "text": [
      "orange\n",
      "[7, 8, 6]\n",
      "7\n",
      "[7, 9, 'apple', 'banana']\n",
      "[7, 9, 'apple', 'banana', 'orange', True, 7.7, 37.97, [7, 8, 6]]\n",
      "[1, 3, 5, 7, 9, 'apple', 'banana']\n",
      "[1, 3, 5, 7, 9, 'apple', 'banana', 'orange', True, 7.7, 37.97, [7, 8, 6]]\n",
      "[True, 7.7, 37.97]\n",
      "[7.7, 37.97, [7, 8, 6]]\n",
      "[1, 3, 5, 7, 9, 'apple', 'banana', 'orange', True]\n"
     ]
    }
   ],
   "source": [
    "# Accessing list item\n",
    "access_list = [1,3,5,7,9,'apple','banana','orange',True,7.7,37.97,[7,8,6]]\n",
    "\n",
    "# Through indexing\n",
    "print(access_list[7]) # Positive indexing\n",
    "print(access_list[-1]) # Negative indexing\n",
    "print(access_list[-1][0]) # Accessing nested list item\n",
    "\n",
    "# Through slicing\n",
    "\n",
    "# Positive slicing\n",
    "print(access_list[3:7])\n",
    "print(access_list[3:])\n",
    "print(access_list[:7])\n",
    "print(access_list[:])\n",
    "\n",
    "# Negative slicing\n",
    "print(access_list[-4:-1])\n",
    "print(access_list[-3:])\n",
    "print(access_list[:-3])"
   ]
  },
  {
   "cell_type": "code",
   "execution_count": 3,
   "id": "08cf27c2-86fc-422c-a814-266ffb2697f3",
   "metadata": {},
   "outputs": [
    {
     "name": "stdout",
     "output_type": "stream",
     "text": [
      "[1, 3, 5, 7, 9, 'apple', 'banana', 'orange', 'has been changed', 7.7, 37.97, [7, 8, 6]]\n",
      "[1, 3, 5, 7, 9, 'apple', 'banana', 'orange', 'again changed', 17.71, 37.97, [7, 8, 6]]\n",
      "[1, 3, 5, 7, 9, 'apple', 'banana', 'orange', 'again True', 37.97, [7, 8, 6]]\n",
      "[1, 3, 5, 7, 9, 'apple', 'again True1', 'again true2', 'again True', 37.97, [7, 8, 6]]\n",
      "[1, 3, 5, 'changed', 'Changed']\n"
     ]
    }
   ],
   "source": [
    "# Changing list itme\n",
    "\n",
    "# Through indexing\n",
    "access_list[8] = 'has been changed'\n",
    "print(access_list)\n",
    "\n",
    "# Through slicing\n",
    "access_list[8:10] = ['again changed',17.71]\n",
    "print(access_list)\n",
    "\n",
    "access_list[8:10] = ['again True']\n",
    "print(access_list)\n",
    "\n",
    "access_list[6:8] = ['again True1','again true2']\n",
    "print(access_list)\n",
    "\n",
    "access_list[3:] = ['changed','Changed']\n",
    "print(access_list)\n"
   ]
  },
  {
   "cell_type": "code",
   "execution_count": 72,
   "id": "08712433-ceb2-4cd7-b81f-07026feb6b1c",
   "metadata": {},
   "outputs": [
    {
     "name": "stdout",
     "output_type": "stream",
     "text": [
      "1\n",
      "3\n",
      "1\n",
      "['apple', 'banana', 'kiwi', 'mango', 'orange']\n",
      "['orange', 'mango', 'kiwi', 'banana', 'apple']\n",
      "['apple', 'banana', 'kiwi', 'mango', 'orange']\n"
     ]
    }
   ],
   "source": [
    "fruits = ['apple','banana','orange','kiwi','mango']\n",
    "\n",
    "# Getting the indenx of a item\n",
    "print(fruits.index('banana'))\n",
    "print(fruits.index('kiwi'))\n",
    "\n",
    "# Counting how many times an item occurs\n",
    "print(fruits.count('apple'))\n",
    "\n",
    "# Sorting a list in ascending order\n",
    "fruits.sort()\n",
    "print(fruits)\n",
    "\n",
    "# Sorting a list in descending order\n",
    "fruits.sort(reverse=True)\n",
    "print(fruits)\n",
    "\n",
    "fruits.reverse()\n",
    "print(fruits)"
   ]
  },
  {
   "cell_type": "code",
   "execution_count": 40,
   "id": "4d987899-8650-4b7c-ac53-38de248af57e",
   "metadata": {},
   "outputs": [
    {
     "name": "stdout",
     "output_type": "stream",
     "text": [
      "['apple', 'banana', 'kiwi', 'mango', 'orange']\n",
      "['apple', 1, 'kiwi', 'mango', 'orange']\n",
      "['apple', 'banana', 'kiwi', 'mango', 'orange']\n",
      "['apple', 'banana', 'kiwi', 'mango', 'orange']\n",
      "['apple', 'banana', 'kiwi', 3, 'orange']\n",
      "['apple', 'banana', 'kiwi', 'mango', 'orange']\n"
     ]
    }
   ],
   "source": [
    "# Copy list\n",
    "\n",
    "# Using the copy() method\n",
    "copy_fruits = fruits.copy()\n",
    "print(copy_fruits)\n",
    "\n",
    "copy_fruits[1] = 1\n",
    "print(copy_fruits)\n",
    "print(fruits)\n",
    "\n",
    "# Using the reference: will change the original list also\n",
    "# copy_fruits_2 = fruits\n",
    "# print(copy_fruits_2)\n",
    "\n",
    "# copy_fruits_2[2] = 2\n",
    "# print(copy_fruits_2)\n",
    "# print(fruits)\n",
    "\n",
    "# Using the list() constructor\n",
    "copy_fruits_3 = list(fruits)\n",
    "print(copy_fruits_3)\n",
    "\n",
    "copy_fruits_3[3] = 3\n",
    "print(copy_fruits_3)\n",
    "print(fruits)"
   ]
  },
  {
   "cell_type": "code",
   "execution_count": 42,
   "id": "704465c0-10e6-44f5-9ecd-1a31dc92307b",
   "metadata": {},
   "outputs": [
    {
     "name": "stdout",
     "output_type": "stream",
     "text": [
      "175\n",
      "67\n",
      "10\n",
      "5\n"
     ]
    }
   ],
   "source": [
    "# Some operations on list\n",
    "number = [10,30,23,67,45]\n",
    "print(sum(number))\n",
    "print(max(number))\n",
    "print(min(number))\n",
    "print(len(number))"
   ]
  },
  {
   "cell_type": "code",
   "execution_count": 47,
   "id": "f6734795-5e0b-48b1-971b-774996236215",
   "metadata": {},
   "outputs": [
    {
     "name": "stdout",
     "output_type": "stream",
     "text": [
      "10\n",
      "30\n",
      "23\n",
      "67\n",
      "45\n",
      "10\n",
      "30\n",
      "23\n",
      "67\n",
      "45\n",
      "10\n",
      "30\n",
      "23\n",
      "67\n",
      "45\n"
     ]
    }
   ],
   "source": [
    "# Loop lists\n",
    "\n",
    "# for loop\n",
    "for item in number:\n",
    "    print(item)\n",
    "\n",
    "for i in range(len(number)):\n",
    "    print(number[i])\n",
    "\n",
    "# while loop\n",
    "i = 0\n",
    "while i < len(number):\n",
    "    print(number[i])\n",
    "    i = i + 1\n"
   ]
  },
  {
   "cell_type": "code",
   "execution_count": 56,
   "id": "c60bcaf5-8e2d-4d1a-9767-952efa361566",
   "metadata": {},
   "outputs": [
    {
     "name": "stdout",
     "output_type": "stream",
     "text": [
      "['apple', 'banana', 'kiwi', 'mango', 'orange']\n",
      "[0, 1, 2, 3, 4, 5, 6, 7, 8, 9]\n",
      "['APPLE', 'BANANA', 'MANGO', 'ORANGE']\n",
      "['apple', 'cherry', 'kiwi', 'mango', 'orange']\n"
     ]
    }
   ],
   "source": [
    "# List comprehension\n",
    "thislist = [x for x in fruits]\n",
    "print(thislist)\n",
    "\n",
    "n = [n for n in range(10)]\n",
    "print(n)\n",
    "\n",
    "thislist_2 = [item.upper() for item in fruits if 'a' in item]\n",
    "print(thislist_2)\n",
    "\n",
    "thislist_3 = [item if item != 'banana' else 'cherry' for item in fruits]\n",
    "print(thislist_3)"
   ]
  },
  {
   "cell_type": "code",
   "execution_count": 108,
   "id": "f1c77906-646b-4edc-8eea-7238b5d259b6",
   "metadata": {},
   "outputs": [
    {
     "name": "stdin",
     "output_type": "stream",
     "text": [
      "Enter numbers with comma:  1\n"
     ]
    },
    {
     "name": "stdout",
     "output_type": "stream",
     "text": [
      "['1']\n",
      "[1]\n",
      "1\n",
      "['From', 'stephen.marquard@uct.ac.za', 'Sat', 'Jan', '', '5', '09:14:16', '2008']\n"
     ]
    }
   ],
   "source": [
    "user_input = input('Enter numbers with comma: ').split(',')\n",
    "print(user_input)\n",
    "number = [int(item) for item in user_input]\n",
    "print(number)\n",
    "print(sum(number))"
   ]
  },
  {
   "cell_type": "markdown",
   "id": "6b3ebf0b-ff02-4103-9c7e-d492e6e67629",
   "metadata": {},
   "source": [
    "# Strings\n",
    "- collection of characters or text"
   ]
  },
  {
   "cell_type": "code",
   "execution_count": 109,
   "id": "27826d6e-ceb9-4742-9b60-c8a96c59fb19",
   "metadata": {},
   "outputs": [
    {
     "name": "stdout",
     "output_type": "stream",
     "text": [
      " Single Line String \n",
      "\n",
      "\"This is a Multi-line String.\n",
      "We can Write multiple text line.\"\"\n",
      "\n",
      " Single Line String  \n",
      "\"This is a Multi-line String.\n",
      "We can Write multiple text line.\"\"\n",
      "True\n",
      "Found\n",
      "20\n",
      "Making all the character to upper:  SINGLE LINE STRING \n",
      "Making all the character to lower:  single line string \n",
      "Making all the character to capitalized:  single line string \n",
      "Removing all the whitespace at the beginning and end: Single Line String\n",
      "Encoded message: b' Single Line String '\n",
      "Checking if ends with: False\n",
      "Checking if ends with: True\n",
      "Checking if starts with: True\n",
      "Checking if exist: 8\n",
      "Replacing with other things i:  Single line String \n",
      "Counting a character how many times appear: 3\n",
      " Single Line String \n"
     ]
    }
   ],
   "source": [
    "message = ' Single Line String '\n",
    "print(message)\n",
    "\n",
    "message_2 = '''\\n\"This is a Multi-line String.\n",
    "We can Write multiple text line.\"\"'''\n",
    "print(message_2)\n",
    "\n",
    "# String concatenation\n",
    "combined_message = \"\\n\" + message +\" \"+ message_2\n",
    "print(combined_message)\n",
    "\n",
    "# Check membership\n",
    "print('text' in message_2)\n",
    "\n",
    "if 'text' in message_2:\n",
    "    print('Found')\n",
    "\n",
    "# Find the length\n",
    "print(len(message))\n",
    "\n",
    "# Format string & some string methods\n",
    "print(f'Making all the character to upper: {message.upper()}')\n",
    "print(f'Making all the character to lower: {message.lower()}')\n",
    "print(f'Making all the character to capitalized: {message.capitalize()}')\n",
    "print(f'Removing all the whitespace at the beginning and end: {message.strip()}')\n",
    "print(f'Encoded message: {message.encode()}')\n",
    "print(f'Checking if ends with: {message.endswith('g')}')\n",
    "print(f'Checking if ends with: {message.endswith(' ')}')\n",
    "print(f'Checking if starts with: {message.startswith(' ')}')\n",
    "print(f'Checking if exist: {message.find('Line')}')\n",
    "print(f'Replacing with other things i: {message.replace('Line', 'line')}')\n",
    "print(f'Counting a character how many times appear: {message.count('i')}')\n",
    "\n",
    "\n",
    "print(message)"
   ]
  },
  {
   "cell_type": "code",
   "execution_count": 1,
   "id": "1123110e-3628-4f83-899c-acb083fd7773",
   "metadata": {},
   "outputs": [
    {
     "name": "stdout",
     "output_type": "stream",
     "text": [
      "['From', 'stephen.marquard@uct.ac.za', 'Sat', 'Jan', '5', '09:14:16', '2008']\n",
      "['stephen.marquard@uct.ac.za', 'Sat', 'Jan', '5', '09:14:16', '2008']\n",
      "['stephen.marquard@uct.ac.za']\n",
      "['stephen', 'marquard@uct', 'ac', 'za']\n"
     ]
    }
   ],
   "source": [
    "data = 'From stephen.marquard@uct.ac.za Sat Jan  5 09:14:16 2008'\n",
    "data_list = data.split(' ')\n",
    "data_list.remove('')\n",
    "print(data_list)\n",
    "sender_info = data_list[1:]\n",
    "print(sender_info)\n",
    "sender_name = sender_info[0:1]\n",
    "print(sender_name)\n",
    "sender = sender_name[0].split('.')\n",
    "print(sender)"
   ]
  },
  {
   "cell_type": "markdown",
   "id": "33e65d95-8bcd-48fe-a547-25efb281cf63",
   "metadata": {},
   "source": [
    "# Tuples\n",
    "- A collection which is ordered and unchangable\n",
    "- No chnage, no remove, no add\n",
    "- But can delete the whole tuples"
   ]
  },
  {
   "cell_type": "code",
   "execution_count": 28,
   "id": "7cec5441-23f8-4872-b7c6-7793f96425be",
   "metadata": {},
   "outputs": [
    {
     "name": "stdout",
     "output_type": "stream",
     "text": [
      "<class 'tuple'>\n",
      "('apple',)\n",
      "<class 'tuple'>\n",
      "<class 'tuple'>\n",
      "('banana',)\n",
      "apple\n",
      "mango\n",
      "('orange', 'mango', 'kiwi')\n",
      "['apple', 4, 'orange', 'mango', 'kiwi', 7]\n",
      "<class 'tuple'>\n",
      "('apple', 4, 'orange', 'mango', 'kiwi', 7)\n"
     ]
    }
   ],
   "source": [
    "# Create a tuples\n",
    "this_tuples = ('apple','banana','orange','mango','kiwi')\n",
    "print(type(this_tuples))\n",
    "\n",
    "# Using tuple constructor\n",
    "# tuple_constructor = tuple(('apple'))\n",
    "tuple_constructor = tuple(('apple',))\n",
    "print(tuple_constructor)\n",
    "print(type(tuple_constructor))\n",
    "\n",
    "# Normall\n",
    "norma_tuple = ('banana',)\n",
    "print(type(norma_tuple))\n",
    "print(norma_tuple)\n",
    "\n",
    "# Access item\n",
    "print(this_tuples[0])\n",
    "print(this_tuples[-2])\n",
    "print(this_tuples[2:5])\n",
    "\n",
    "# Occurs error\n",
    "# this_tuples[1] = 4\n",
    "# print(this_tuples)\n",
    "\n",
    "# this_tuples.append(7)\n",
    "\n",
    "# To do so, first change the tuple to a list, and then do so\n",
    "convert_to_list = list(this_tuples)\n",
    "convert_to_list[1] = 4\n",
    "convert_to_list.append(7)\n",
    "print(convert_to_list)\n",
    "\n",
    "# Now convert the list to a tuples\n",
    "converted_to_tuple = tuple(convert_to_list)\n",
    "print(type(converted_to_tuple))\n",
    "print(converted_to_tuple)"
   ]
  },
  {
   "cell_type": "code",
   "execution_count": 29,
   "id": "45f43e9a-8fd0-4757-9344-019f8227eb5b",
   "metadata": {},
   "outputs": [
    {
     "name": "stdout",
     "output_type": "stream",
     "text": [
      "(1, 2, 3, 4, 5, 'apple', 'banana', 'orange')\n"
     ]
    }
   ],
   "source": [
    "# delete\n",
    "del tuple_constructor\n",
    "# print(tuple_constructor)\n",
    "\n",
    "# Join tuples\n",
    "tuple_1 = (1,2,3,4,5)\n",
    "tuple_2 = ('apple','banana','orange')\n",
    "resultant_tuple = tuple_1 + tuple_2\n",
    "print(resultant_tuple)"
   ]
  },
  {
   "cell_type": "code",
   "execution_count": 41,
   "id": "fe597264-419f-408d-b87b-29ba53142f8b",
   "metadata": {},
   "outputs": [
    {
     "name": "stdout",
     "output_type": "stream",
     "text": [
      "apple\n",
      "banana\n",
      "orange\n",
      "mango\n",
      "kiwi\n",
      "('apple', 'banana', 'orange', 'mango', 'kiwi')\n",
      "apple\n",
      "banana\n",
      "['orange', 'mango', 'kiwi']\n"
     ]
    }
   ],
   "source": [
    "# Unpacking the tuples\n",
    "packed_tuple = ('apple','banana','orange','mango','kiwi') # this is called packing\n",
    "\n",
    "# Unpacking the tuples\n",
    "(a,b,o,m,k) = packed_tuple\n",
    "print(a)\n",
    "print(b)\n",
    "print(o)\n",
    "print(m)\n",
    "print(k)\n",
    "\n",
    "# k = 1\n",
    "# print(k)\n",
    "print(packed_tuple)\n",
    "\n",
    "# If the variable is less than the values, we can use the * sign on a variable. It will be assigned as a list to that specific variable\n",
    "(s,t,*l) = packed_tuple\n",
    "print(s)\n",
    "print(t)\n",
    "print(l)"
   ]
  },
  {
   "cell_type": "code",
   "execution_count": 48,
   "id": "115c5fe0-622d-458f-bdd4-9a93c0925042",
   "metadata": {},
   "outputs": [
    {
     "name": "stdout",
     "output_type": "stream",
     "text": [
      "apple\n",
      "banana\n",
      "orange\n",
      "mango\n",
      "kiwi\n",
      "\n",
      "\n",
      "apple\n",
      "banana\n",
      "orange\n",
      "mango\n",
      "kiwi\n",
      "\n",
      "\n",
      "apple\n",
      "banana\n",
      "orange\n",
      "mango\n",
      "kiwi\n"
     ]
    }
   ],
   "source": [
    "# Loop\n",
    "for fruit in packed_tuple:\n",
    "    print(fruit)\n",
    "print('\\n')\n",
    "for i in range(len(packed_tuple)):\n",
    "    print(packed_tuple[i])\n",
    "\n",
    "print('\\n')\n",
    "\n",
    "# WHile loop\n",
    "i = 0\n",
    "while i < len(packed_tuple):\n",
    "    item = packed_tuple[i]\n",
    "    print(item)\n",
    "    i = i + 1"
   ]
  },
  {
   "cell_type": "code",
   "execution_count": 56,
   "id": "be757d5e-7d9f-4d96-938a-b22fe338435a",
   "metadata": {},
   "outputs": [
    {
     "name": "stdout",
     "output_type": "stream",
     "text": [
      "3\n",
      "4\n",
      "True\n",
      "False\n",
      "Found\n"
     ]
    }
   ],
   "source": [
    "# Methods \n",
    "t_1 = (1,2,3,4,5,3,5,7,6,4,3)\n",
    "print(t_1.count(3))\n",
    "print(t_1.index(5))\n",
    "\n",
    "# Check membership\n",
    "print(1 in t_1)\n",
    "print(1 not in t_1)\n",
    "\n",
    "\n",
    "if 1 in t_1:\n",
    "    print('Found')"
   ]
  },
  {
   "cell_type": "markdown",
   "id": "53749aa9-31d3-4e43-83d7-7549454c2a33",
   "metadata": {},
   "source": [
    "# Sets\n",
    "- Unordered\n",
    "- Unchangeable: once created no change\n",
    "- Unindexed\n",
    "- No duplicate\n",
    "- But can add and remove"
   ]
  },
  {
   "cell_type": "code",
   "execution_count": 2,
   "id": "c51217b1-1b67-43ab-9018-953a8b0cade4",
   "metadata": {},
   "outputs": [
    {
     "name": "stdout",
     "output_type": "stream",
     "text": [
      "<class 'set'>\n",
      "{1, 2, 3, 4, 5, 6, 7}\n",
      "<class 'set'>\n",
      "{1, 2, 3, 4, 5, 6, 7}\n",
      "<class 'set'>\n",
      "True\n",
      "False\n",
      "{5, 6, 7, 8, 9}\n",
      "{1, 2, 3, 4, 5, 6, 7, 8, 9}\n",
      "{False, 1, 2, 3, 4, 5, 6, 7, 8, 9, 'apple', 'banana'}\n"
     ]
    }
   ],
   "source": [
    "# Create a set\n",
    "new_set = {1,2,3,3,4,5,6,6,7}\n",
    "print(type(new_set))\n",
    "print(new_set)\n",
    "\n",
    "empty_set = set()\n",
    "print(type(empty_set))\n",
    "\n",
    "set_using_constructor = set((1,2,3,4,5,6,7))\n",
    "print(set_using_constructor)\n",
    "print(type(set_using_constructor))\n",
    "\n",
    "# Access\n",
    "# print(new_set[1]) # Unindexed, so no access through indexing\n",
    "\n",
    "# Check membership\n",
    "print(3 in new_set)\n",
    "print(3 not in new_set)\n",
    "\n",
    "# Add to set\n",
    "# Add a single item\n",
    "empty_set.add(9)\n",
    "empty_set.add(7)\n",
    "empty_set.add(8)\n",
    "empty_set.add(5)\n",
    "empty_set.add(6)\n",
    "\n",
    "print(empty_set)\n",
    "\n",
    "# Add a whole set\n",
    "targeted_set = {1,2,3,4}\n",
    "empty_set.update(targeted_set)\n",
    "print(empty_set)\n",
    "\n",
    "# update() method can be used to add any iterable to another set\n",
    "empty_set.update(['apple','banana',False,0,1,True])\n",
    "print(empty_set)"
   ]
  },
  {
   "cell_type": "code",
   "execution_count": 3,
   "id": "63ac23fa-9651-48a8-9b45-99e8a8388d86",
   "metadata": {},
   "outputs": [
    {
     "name": "stdout",
     "output_type": "stream",
     "text": [
      "{False, 1, 2, 3, 4, 5, 6, 7, 9, 'apple', 'banana'}\n"
     ]
    }
   ],
   "source": [
    "# Remove item\n",
    "# empty_set.remove(9) # If not found, raise error\n",
    "# print(empty_set)\n",
    "\n",
    "empty_set.discard(8) # If not found, raise no error\n",
    "print(empty_set)\n",
    "\n",
    "# empty_set.pop() # pop a random item\n",
    "# print(empty_set)\n",
    "\n",
    "# empty_set.clear() # empty the set\n",
    "# print(empty_set)\n",
    "\n",
    "# del empty_set # delete totally \n",
    "# print(empty_set)"
   ]
  },
  {
   "cell_type": "code",
   "execution_count": 18,
   "id": "ea02c57c-13b5-41f9-a489-8a7c721a523e",
   "metadata": {},
   "outputs": [
    {
     "name": "stdout",
     "output_type": "stream",
     "text": [
      "{1, 2, 3, 4, 5, 6, 7}\n",
      "{1, 2, 3, 4, 5, 6, 7, 10, 11, 23}\n",
      "{1, 2, 3, 4}\n",
      "set()\n",
      "{5, 6, 7}\n",
      "{5, 6, 7}\n",
      "{5, 6, 7}\n"
     ]
    }
   ],
   "source": [
    "# Join set\n",
    "\"\"\"\n",
    "    Doesn't affect the original            Affect the original                 Shortcut\n",
    "-------------------------------------------------------------------------------------------\n",
    "1. union()--------------------------------> update()--------------------> |,|=\n",
    "2. intersection()-------------------------> intersection_update()-------------> &,&=\n",
    "3. difference()---------------------------> difference_update()---------------> -,-=\n",
    "4. symmetric_difference()-----------------> symmetric_difference_update()-----> ^,^=\n",
    "\"\"\"\n",
    "\n",
    "set_a = {1,2,3,4}\n",
    "set_b = {1,2,3,3,4,4,5,6,7}\n",
    "\n",
    "# Union\n",
    "union_set = set_a.union(set_b)\n",
    "print(union_set)\n",
    "\n",
    "union_with_list = union_set.union([10,11,23])\n",
    "print(union_with_list)\n",
    "\n",
    "# Intersection\n",
    "intersection_set = set_b.intersection(set_a)\n",
    "print(intersection_set)\n",
    "\n",
    "# Difference\n",
    "set_difference = set_a.difference(set_b)\n",
    "print(set_difference)\n",
    "\n",
    "set_difference_2 = set_b.difference(set_a)\n",
    "print(set_difference_2)\n",
    "\n",
    "# Symmetric difference\n",
    "set_difference = set_a.symmetric_difference(set_b)\n",
    "print(set_difference)\n",
    "\n",
    "set_difference_2 = set_b.symmetric_difference(set_a)\n",
    "print(set_difference_2)"
   ]
  },
  {
   "cell_type": "code",
   "execution_count": 22,
   "id": "d9189901-252b-47e0-897d-e43ca75500b0",
   "metadata": {},
   "outputs": [
    {
     "name": "stdout",
     "output_type": "stream",
     "text": [
      "{1, 2, 3, 4, 5, 6, 7}\n",
      "{1, 2, 3, 4}\n",
      "set()\n",
      "{5, 6, 7}\n",
      "{5, 6, 7}\n",
      "{5, 6, 7}\n"
     ]
    }
   ],
   "source": [
    "# Using shortcut\n",
    "\n",
    "# Union\n",
    "union_set = set_a |set_b\n",
    "print(union_set)\n",
    "\n",
    "# union_with_list = union_set| [10,11,23] # with the shortcut symbol, only set can be utilized\n",
    "# print(union_with_list)\n",
    "\n",
    "# Intersection\n",
    "intersection_set = set_b & set_a\n",
    "print(intersection_set)\n",
    "\n",
    "# Difference\n",
    "set_difference = set_a - set_b\n",
    "print(set_difference)\n",
    "\n",
    "set_difference_2 = set_b - set_a\n",
    "print(set_difference_2)\n",
    "\n",
    "# Symmetric difference\n",
    "set_difference = set_a ^ set_b\n",
    "print(set_difference)\n",
    "\n",
    "set_difference_2 = set_b ^ set_a\n",
    "print(set_difference_2)"
   ]
  },
  {
   "cell_type": "code",
   "execution_count": 26,
   "id": "dc187a7c-6e16-4015-89a8-4a5a8575e297",
   "metadata": {},
   "outputs": [
    {
     "name": "stdout",
     "output_type": "stream",
     "text": [
      "{1, 2, 3, 4, 5, 6, 7}\n",
      "{1, 2, 3, 4, 5, 6, 7, 10, 11, 23}\n",
      "{1, 2, 3, 4, 5, 6, 7}\n",
      "set()\n",
      "{1, 2, 3, 4, 5, 6, 7, 10, 11, 23}\n",
      "{1, 2, 3, 4, 5, 6, 7, 10, 11, 23}\n",
      "{5, 6, 7}\n"
     ]
    }
   ],
   "source": [
    "# Join with update\n",
    "\n",
    "a_set = {1,2,3,4}\n",
    "b_set = {1,2,3,3,4,4,5,6,7}\n",
    "# Union\n",
    "a_set.update(b_set)\n",
    "print(a_set)\n",
    "\n",
    "a_set.update([10,11,23])\n",
    "print(a_set)\n",
    "\n",
    "# Intersection\n",
    "b_set.intersection_update(a_set)\n",
    "print(b_set)\n",
    "\n",
    "# Difference\n",
    "b_set.difference_update(a_set)\n",
    "print(b_set)\n",
    "\n",
    "a_set.difference_update(b_set)\n",
    "print(a_set)\n",
    "\n",
    "# Symmetric difference\n",
    "a_set.symmetric_difference_update(b_set)\n",
    "print(a_set)\n",
    "\n",
    "b_set.symmetric_difference_update(a_set)\n",
    "print(set_difference_2)"
   ]
  },
  {
   "cell_type": "code",
   "execution_count": 32,
   "id": "ff3caff8-a6c4-481e-8872-626e2a7f2841",
   "metadata": {},
   "outputs": [
    {
     "name": "stdout",
     "output_type": "stream",
     "text": [
      "False\n",
      "False\n",
      "True\n",
      "False\n",
      "False\n",
      "True\n",
      "----------------Shortcut------------\n",
      "True\n",
      "False\n",
      "False\n",
      "True\n"
     ]
    }
   ],
   "source": [
    "# Some set methods\n",
    "A = {1,2,3}\n",
    "B = {1,2,3,4}\n",
    "\n",
    "\"\"\"\n",
    "1. Disjoint: check if two sets have a common element; if have-false return; otherwise true\n",
    "2. Subset(like child): A set is a subset of B if all the elements of A are in B\n",
    "3. Superset(like parent): B is a superset of A if B contains all the elements of A\n",
    "4. Proper subset: A != B\n",
    "5. Proper superset: B must have at least one extra element than A\n",
    "\"\"\"\n",
    "print(A.isdisjoint(B))\n",
    "print(B.isdisjoint(A))\n",
    "\n",
    "print(A.issubset(B))\n",
    "print(B.issubset(A))\n",
    "\n",
    "print(A.issuperset(B))\n",
    "print(B.issuperset(A))\n",
    "\n",
    "print('----------------Shortcut------------')\n",
    "# Shortcut\n",
    "print(A <= B)\n",
    "print(B <= A)\n",
    "\n",
    "print(A >= B)\n",
    "print(B >= A)"
   ]
  },
  {
   "cell_type": "code",
   "execution_count": 1,
   "id": "529a6cf1-9f15-429a-a255-6fc9cd83dfdf",
   "metadata": {},
   "outputs": [
    {
     "name": "stdout",
     "output_type": "stream",
     "text": [
      "<class 'frozenset'>\n",
      "frozenset({1, 2, 3, 4, 5, 6, 7})\n"
     ]
    }
   ],
   "source": [
    "# Frozenset: once created, no action can be taken\n",
    "frozen_set = frozenset({1,2,3,4,5,6,7})\n",
    "print(type(frozen_set))\n",
    "print(frozen_set)"
   ]
  },
  {
   "cell_type": "markdown",
   "id": "47e7ca8a-8304-4e6e-ad12-461de5a0219d",
   "metadata": {},
   "source": [
    "# Dictionary\n",
    "- Used to store data values in key:value pairs\n",
    "- Ordered, changeable, but no duplicate allow"
   ]
  },
  {
   "cell_type": "code",
   "execution_count": 29,
   "id": "001447fd-7eae-43e4-9cef-939430cd81ad",
   "metadata": {},
   "outputs": [
    {
     "name": "stdout",
     "output_type": "stream",
     "text": [
      "<class 'dict'>\n",
      "{'Name': 'Asaduzzaman', 'Age': 23, 'Department': 'Computer Science & Engineering', 'Section': '9E'}\n",
      "<class 'dict'>\n",
      "{'fruit_1': 'apple', 'fruit_2': 'banana', 'fruit_3': 'orange'}\n",
      "<class 'dict'>\n"
     ]
    }
   ],
   "source": [
    "# Creating dictionary\n",
    "thisdict = {\n",
    "    \"Name\": \"Asaduzzaman\",\n",
    "    \"Age\": 23,\n",
    "    \"Department\": \"Computer Science & Engineering\",\n",
    "    \"Section\": \"9E\"\n",
    "}\n",
    "print(type(thisdict))\n",
    "print(thisdict)\n",
    "\n",
    "# Using dict() constructor\n",
    "fruit_dict = dict(fruit_1 = 'apple', fruit_2 = 'banana', fruit_3 = 'orange')\n",
    "print(type(fruit_dict))\n",
    "print(fruit_dict)\n",
    "\n",
    "empty_dict = dict()\n",
    "print(type(empty_dict))"
   ]
  },
  {
   "cell_type": "code",
   "execution_count": 15,
   "id": "937f574d-7db5-4569-9511-0b370a9ce422",
   "metadata": {},
   "outputs": [
    {
     "name": "stdout",
     "output_type": "stream",
     "text": [
      "Asaduzzaman\n",
      "23\n",
      "dict_keys(['Name', 'Age', 'Department', 'Section'])\n",
      "dict_values(['Asaduzzaman', 23, 'Computer Science & Engineering', '9E'])\n",
      "dict_items([('Name', 'Asaduzzaman'), ('Age', 23), ('Department', 'Computer Science & Engineering'), ('Section', '9E')])\n",
      "True\n"
     ]
    }
   ],
   "source": [
    "# Access items\n",
    "print(thisdict['Name'])\n",
    "\n",
    "print(thisdict.get('Age'))\n",
    "\n",
    "print(thisdict.keys()) # return all the keys as list\n",
    "\n",
    "print(thisdict.values()) # return all the values as list\n",
    "\n",
    "print(thisdict.items()) # return all the key:value as tyuple list\n",
    "\n",
    "# Check membership\n",
    "print('Age' in thisdict)"
   ]
  },
  {
   "cell_type": "code",
   "execution_count": 18,
   "id": "a9290aec-65cf-408f-b0fa-5da65eec77ab",
   "metadata": {},
   "outputs": [
    {
     "name": "stdout",
     "output_type": "stream",
     "text": [
      "{'Name': 'Asaduzzaman Sheikh', 'Age': 23, 'Department': 'Computer Science & Engineering', 'Section': '9E'}\n",
      "{'Name': 'Asaduzzaman Sheikh', 'Age': 23, 'Department': 'CSE', 'Section': '9E'}\n"
     ]
    }
   ],
   "source": [
    "# Change items\n",
    "thisdict['Name'] = 'Asaduzzaman Sheikh'\n",
    "print(thisdict)\n",
    "\n",
    "thisdict.update({'Department':'CSE'})\n",
    "print(thisdict)"
   ]
  },
  {
   "cell_type": "code",
   "execution_count": 21,
   "id": "5308c89c-43df-4ce6-8a0e-33d447613fdd",
   "metadata": {},
   "outputs": [
    {
     "name": "stdout",
     "output_type": "stream",
     "text": [
      "{'Name': 'Alice', 'Age': 23, 'Department': 'CSE'}\n",
      "{'Name': 'Alice', 'Age': 23, 'Department': 'CSE', 'Section': '9E'}\n"
     ]
    }
   ],
   "source": [
    "# Add items\n",
    "empty_dict['Name'] = 'Alice'\n",
    "print(empty_dict)\n",
    "\n",
    "empty_dict.update({'Age':23})\n",
    "empty_dict.update({'Department':'CSE'})\n",
    "empty_dict.update({'Section': '9E'})\n",
    "\n",
    "print(empty_dict)"
   ]
  },
  {
   "cell_type": "code",
   "execution_count": 38,
   "id": "b1b8b7ea-c919-4eff-8e65-b456a1e189bd",
   "metadata": {},
   "outputs": [],
   "source": [
    "# Remove items\n",
    "# fruit_dict.pop('fruit_1')\n",
    "# print(fruit_dict)\n",
    "\n",
    "# fruit_dict.popitem() # remove the last inserted item\n",
    "# print(fruit_dict)\n",
    "\n",
    "# del fruit_dict['fruit_2']\n",
    "# print(fruit_dict)\n",
    "\n",
    "# fruit_dict.clear()\n",
    "# print(fruit_dict)\n",
    "\n",
    "# del fruit_dict\n",
    "# print(fruit_dict)"
   ]
  },
  {
   "cell_type": "code",
   "execution_count": 51,
   "id": "1cd5ee73-7549-40fd-a276-ee7796f166a0",
   "metadata": {},
   "outputs": [
    {
     "name": "stdout",
     "output_type": "stream",
     "text": [
      "Asaduzzaman\n",
      "23\n",
      "Computer Science & Engineering\n",
      "9E\n",
      "----------------------------\n",
      "Name: Asaduzzaman\n",
      "Age: 23\n",
      "Department: Computer Science & Engineering\n",
      "Section: 9E\n",
      "----------------------------\n",
      "Name\n",
      "Age\n",
      "Department\n",
      "Section\n",
      "----------------------------\n",
      "Asaduzzaman\n",
      "23\n",
      "Computer Science & Engineering\n",
      "9E\n",
      "----------------------------\n",
      "Name: Asaduzzaman\n",
      "Age: 23\n",
      "Department: Computer Science & Engineering\n",
      "Section: 9E\n"
     ]
    }
   ],
   "source": [
    "# Loop dictionary\n",
    "for i in thisdict:\n",
    "    print(thisdict[i])\n",
    "print('----------------------------')\n",
    "for item in thisdict:\n",
    "    print(f'{item}: {thisdict[item]}')\n",
    "print('----------------------------')\n",
    "\n",
    "for key in thisdict.keys():\n",
    "    print(key)\n",
    "print('----------------------------')\n",
    "\n",
    "for values in thisdict.values():\n",
    "    print(values)\n",
    "print('----------------------------')\n",
    "\n",
    "for key, value in thisdict.items():\n",
    "    print(f'{key}: {value}')"
   ]
  },
  {
   "cell_type": "code",
   "execution_count": 53,
   "id": "3a58e7b1-5fba-4ec8-bebc-5bab0cc234fd",
   "metadata": {},
   "outputs": [
    {
     "name": "stdout",
     "output_type": "stream",
     "text": [
      "<class 'dict'>\n",
      "{'Name': 'Asaduzzaman', 'Age': 23, 'Department': 'Computer Science & Engineering', 'Section': '9E'}\n",
      "<class 'dict'>\n",
      "{'Name': 'Asaduzzaman', 'Age': 23, 'Department': 'Computer Science & Engineering', 'Section': '9E'}\n"
     ]
    }
   ],
   "source": [
    "# Copy dictionary\n",
    "copy_dict = thisdict.copy()\n",
    "print(type(copy_dict))\n",
    "print(copy_dict)\n",
    "\n",
    "second_copy = dict(thisdict)\n",
    "print(type(second_copy))\n",
    "print(second_copy)"
   ]
  },
  {
   "cell_type": "code",
   "execution_count": 56,
   "id": "0c4dc547-4b5e-4e2a-99ec-e32b9760eb99",
   "metadata": {},
   "outputs": [
    {
     "name": "stdout",
     "output_type": "stream",
     "text": [
      "<class 'dict'>\n",
      "{'child_1': {'Name': 'Asaduzzaman', 'Age': 23}, 'child_2': {'Name': 'Alice', 'Age': 23}, 'child_3': {'Name': 'John', 'Age': 25}}\n"
     ]
    }
   ],
   "source": [
    "# Nested dictionary\n",
    "parent = {\n",
    "    'child_1':{\n",
    "        'Name': 'Asaduzzaman',\n",
    "        'Age': 23\n",
    "    },\n",
    "    'child_2':{\n",
    "        'Name': 'Alice',\n",
    "        'Age': 23\n",
    "    },\n",
    "    'child_3':{\n",
    "        'Name': 'John',\n",
    "        'Age': 25\n",
    "    }\n",
    "}\n",
    "\n",
    "print(type(parent))\n",
    "print(parent)"
   ]
  },
  {
   "cell_type": "code",
   "execution_count": 64,
   "id": "dab6dd22-1e49-40f5-a182-471a0eda4542",
   "metadata": {},
   "outputs": [
    {
     "name": "stdout",
     "output_type": "stream",
     "text": [
      "Asaduzzaman\n"
     ]
    }
   ],
   "source": [
    "# Access nested dict item\n",
    "print(parent['child_1']['Name'])"
   ]
  },
  {
   "cell_type": "code",
   "execution_count": 71,
   "id": "99a26890-590e-4e18-968f-4b74c8061750",
   "metadata": {},
   "outputs": [
    {
     "name": "stdout",
     "output_type": "stream",
     "text": [
      "child_1:\n",
      "Name: Asaduzzaman\n",
      "Age: 23\n",
      "child_2:\n",
      "Name: Alice\n",
      "Age: 23\n",
      "child_3:\n",
      "Name: John\n",
      "Age: 25\n"
     ]
    }
   ],
   "source": [
    "# Loop nested dict\n",
    "for key,value in parent.items():\n",
    "    print(f'{key}:')\n",
    "\n",
    "    # for m,n in value.items():\n",
    "    #     print(f'{m}: {n}')\n",
    "    for n in value:\n",
    "        print(f'{n}: {value[n]}')\n",
    "\n",
    "    "
   ]
  },
  {
   "cell_type": "code",
   "execution_count": 79,
   "id": "674201e4-fd03-4f6f-9d57-4e7de49efadd",
   "metadata": {},
   "outputs": [
    {
     "name": "stdout",
     "output_type": "stream",
     "text": [
      "<class 'dict'>\n",
      "{'key1': 0, 'key2': 0}\n",
      "<class 'dict'>\n",
      "{'Name': 'Ford', 'Color': 'White', 'Model': 'Mustang', 'Year': 1964}\n",
      "Mustang\n"
     ]
    }
   ],
   "source": [
    "# Dictionary methods\n",
    "keys = {'key1','key2'}\n",
    "values = 0\n",
    "\n",
    "formed_dict = dict.fromkeys(keys,values)\n",
    "print(type(formed_dict))\n",
    "print(formed_dict)\n",
    "\n",
    "car = dict(Name = 'Ford', Color = 'White', Model = 'Mustang', Year = 1964)\n",
    "print(type(car))\n",
    "print(car)\n",
    "\n",
    "default_key_value = car.setdefault('Model','Bronco')\n",
    "print(default_key_value)"
   ]
  },
  {
   "cell_type": "markdown",
   "id": "a99c6c07-000e-4b82-afdd-3d7d383cf558",
   "metadata": {},
   "source": [
    "# Conditional execution"
   ]
  },
  {
   "cell_type": "code",
   "execution_count": 81,
   "id": "c597710c-cd17-41e3-a3a5-677f2fe9fcb6",
   "metadata": {},
   "outputs": [
    {
     "name": "stdout",
     "output_type": "stream",
     "text": [
      "False\n",
      "True\n",
      "False\n",
      "True\n",
      "False\n",
      "True\n",
      "False\n",
      "True\n"
     ]
    }
   ],
   "source": [
    "# Boolean expression\n",
    "x = 7\n",
    "y = 10\n",
    "print(x == y )\n",
    "print(x != y)\n",
    "print(x > y)\n",
    "print(x < y)\n",
    "print(x >= y)\n",
    "print(x <= y)\n",
    "print(x is y)\n",
    "print(x is not y)"
   ]
  },
  {
   "cell_type": "code",
   "execution_count": 84,
   "id": "7056a3f0-5320-42d3-851b-8e2471a2f046",
   "metadata": {},
   "outputs": [
    {
     "name": "stdout",
     "output_type": "stream",
     "text": [
      "Small\n"
     ]
    }
   ],
   "source": [
    "# If condition\n",
    "if x > y:\n",
    "    print('Big')\n",
    "if x < y:\n",
    "    print('Small')\n",
    "\n",
    "# Short hand if\n",
    "if x > y: print(\"big\")"
   ]
  },
  {
   "cell_type": "code",
   "execution_count": 89,
   "id": "568fc048-7865-468a-bdd6-b4235fdd56f5",
   "metadata": {},
   "outputs": [
    {
     "name": "stdout",
     "output_type": "stream",
     "text": [
      "Not Big\n",
      "Tiny\n",
      "Same\n"
     ]
    }
   ],
   "source": [
    "# If Else\n",
    "if x > y:\n",
    "    print('Big')\n",
    "else:\n",
    "    print('Not Big')\n",
    "\n",
    "# Short hand\n",
    "a = 10\n",
    "b = 10\n",
    "print('Big') if a > b else print('Tiny')\n",
    "print('Big') if a > b else print('Same') if a == b else print('Tiny')"
   ]
  },
  {
   "cell_type": "code",
   "execution_count": 96,
   "id": "f8ef6dc0-efc5-4aa3-85b4-ba327d2b02ed",
   "metadata": {},
   "outputs": [
    {
     "name": "stdout",
     "output_type": "stream",
     "text": [
      "O Big\n",
      "One condition is ture\n"
     ]
    }
   ],
   "source": [
    "# Logical and, or, not\n",
    "m = 33\n",
    "n = 30\n",
    "o = 35\n",
    "\n",
    "if m > n and m > o:\n",
    "    print('M Big')\n",
    "elif n > m and n > o:\n",
    "    print('N Big')\n",
    "else:\n",
    "    print('O Big')\n",
    "\n",
    "if m > n or m > o:\n",
    "    print('One condition is ture')\n",
    "\n",
    "if not (m > n or m > o):\n",
    "    print('One condition is ture')"
   ]
  },
  {
   "cell_type": "code",
   "execution_count": 101,
   "id": "5c6271ea-cf24-4093-8801-408473ad2e1c",
   "metadata": {},
   "outputs": [
    {
     "name": "stdout",
     "output_type": "stream",
     "text": [
      "Outer case satisfied\n"
     ]
    }
   ],
   "source": [
    "# Conditional block with pass statement\n",
    "if m > n:\n",
    "    pass\n",
    "\n",
    "# Nested condition\n",
    "if m > n:\n",
    "    if m > o:\n",
    "        print('Both case satisfied')\n",
    "    else:\n",
    "        print('Outer case satisfied')"
   ]
  },
  {
   "cell_type": "markdown",
   "id": "971a8459-a0f6-421f-8d5d-932d295f13e5",
   "metadata": {},
   "source": [
    "# Loops"
   ]
  },
  {
   "cell_type": "code",
   "execution_count": 16,
   "id": "228f325c-3f52-4430-bd89-0fa294803737",
   "metadata": {},
   "outputs": [
    {
     "name": "stdout",
     "output_type": "stream",
     "text": [
      "0\n",
      "1\n",
      "2\n",
      "3\n",
      "4\n",
      "5\n",
      "0\n",
      "1\n",
      "2\n",
      "3\n",
      "4\n",
      "Finished\n"
     ]
    }
   ],
   "source": [
    "# While loop\n",
    "i = 0\n",
    "while i < 6:\n",
    "    print(i)\n",
    "    i = i + 1\n",
    "\n",
    "j = 0\n",
    "while j < 7:\n",
    "    if j == 5:\n",
    "        break\n",
    "    print(j)\n",
    "    j = j + 1\n",
    "\n",
    "k = 0\n",
    "while k < 9:\n",
    "    k = k + 1\n",
    "    k = k + 1\n",
    "    if k == 5:\n",
    "        continue\n",
    "else:\n",
    "    print('Finished')"
   ]
  },
  {
   "cell_type": "code",
   "execution_count": 19,
   "id": "5657485a-d342-4936-87fc-08d92a802f13",
   "metadata": {},
   "outputs": [
    {
     "name": "stdout",
     "output_type": "stream",
     "text": [
      "0\n",
      "1\n",
      "2\n",
      "3\n",
      "4\n",
      "5\n",
      "6\n",
      "7\n",
      "8\n",
      "9\n",
      "number 0: 1\n",
      "number 1: 2\n",
      "number 2: 3\n",
      "number 3: 4\n",
      "number 4: 5\n",
      "number 5: 6\n",
      "number 6: 7\n",
      "number 7: 8\n",
      "number 8: 9\n",
      "number 9: 10\n",
      "0\n",
      "1\n",
      "2\n",
      "3\n",
      "4\n",
      "0\n",
      "1\n",
      "2\n",
      "3\n",
      "4\n",
      "6\n",
      "Finished\n"
     ]
    }
   ],
   "source": [
    "# Foor loop\n",
    "for i in range(10):\n",
    "    print(i)\n",
    "\n",
    "for i,j in enumerate(range(1,11)):\n",
    "    print(f'number {i}: {j}')\n",
    "\n",
    "for i in range(7):\n",
    "    if i == 5:\n",
    "        break\n",
    "    print(i)\n",
    "\n",
    "for i in range(7):\n",
    "    if i == 5:\n",
    "        continue\n",
    "    print(i)\n",
    "else: print('Finished')\n",
    "    "
   ]
  }
 ],
 "metadata": {
  "kernelspec": {
   "display_name": "Python 3 (ipykernel)",
   "language": "python",
   "name": "python3"
  },
  "language_info": {
   "codemirror_mode": {
    "name": "ipython",
    "version": 3
   },
   "file_extension": ".py",
   "mimetype": "text/x-python",
   "name": "python",
   "nbconvert_exporter": "python",
   "pygments_lexer": "ipython3",
   "version": "3.13.5"
  }
 },
 "nbformat": 4,
 "nbformat_minor": 5
}
