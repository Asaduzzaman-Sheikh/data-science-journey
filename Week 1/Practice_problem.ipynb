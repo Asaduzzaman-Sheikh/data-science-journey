{
 "cells": [
  {
   "cell_type": "markdown",
   "id": "80e48556-f797-4fd0-b4a9-4d08d374e149",
   "metadata": {},
   "source": [
    "# 🧮 PART 1 — Practice Problems"
   ]
  },
  {
   "cell_type": "markdown",
   "id": "c298cb10-4775-4877-8a58-b626c3fcec0f",
   "metadata": {},
   "source": [
    "# 🧩 Problem 1 — Temperature Converter\n",
    "- Write a program that:\n",
    "\n",
    "  - Asks the user for temperature in Celsius.\n",
    "\n",
    "  - Converts it to Fahrenheit and Kelvin.\n",
    "\n",
    "  - Prints the results with 2 decimal places."
   ]
  },
  {
   "cell_type": "code",
   "execution_count": 1,
   "id": "520cbd1e-e283-4ec1-a5da-3f03273a9842",
   "metadata": {},
   "outputs": [
    {
     "name": "stdin",
     "output_type": "stream",
     "text": [
      "Enter Temperature in Celsius:  36\n"
     ]
    },
    {
     "name": "stdout",
     "output_type": "stream",
     "text": [
      "Temperature in Fahrenheit is 96.80\n",
      "Temperature in Kelvin is 309.15\n"
     ]
    }
   ],
   "source": [
    "# Take temperature from user in celsius\n",
    "celsius_temp = float(input('Enter Temperature in Celsius: '))\n",
    "fahrenheit_temp = ((celsius_temp/5)*9) +32\n",
    "kelvin_temp = celsius_temp + 273.15\n",
    "\n",
    "print(f'Temperature in Fahrenheit is {fahrenheit_temp:.2f}')\n",
    "print(f'Temperature in Kelvin is {kelvin_temp:.2f}')"
   ]
  },
  {
   "cell_type": "markdown",
   "id": "a656e2f8-f19e-4a39-87fe-3d83ac0d6d08",
   "metadata": {},
   "source": [
    "# 🧩 Problem 2 — Odd or Even Counter\n",
    "\n",
    "- Ask user for a list of integers separated by spaces.\n",
    "\n",
    "- Print how many are odd and how many are even."
   ]
  },
  {
   "cell_type": "code",
   "execution_count": 10,
   "id": "782fb0d2-218a-4c1b-b189-0c1da9f12daa",
   "metadata": {},
   "outputs": [
    {
     "name": "stdin",
     "output_type": "stream",
     "text": [
      "Enter Integer number seperated by space:  1 2 3 4 5 6 7\n"
     ]
    },
    {
     "name": "stdout",
     "output_type": "stream",
     "text": [
      "[1, 2, 3, 4, 5, 6, 7]\n",
      "Total Even Number is: 3 and Total Odd Number is: 4\n"
     ]
    }
   ],
   "source": [
    "# Take a list of integer \n",
    "user_input = input('Enter Integer number seperated by space: ')\n",
    "split_user_input = user_input.split()\n",
    "# print(split_user_input)\n",
    "\n",
    "converted_to_integer = [int(number) for number in split_user_input]\n",
    "print(converted_to_integer)\n",
    "\n",
    "# Checking how many even and odd numbers are in the list\n",
    "count_even = 0\n",
    "count_odd = 0\n",
    "\n",
    "for number in converted_to_integer:\n",
    "    if number % 2 == 0:\n",
    "        count_even = count_even + 1\n",
    "    else:\n",
    "        count_odd = count_odd + 1\n",
    "\n",
    "print(f'Total Even Number is: {count_even} and Total Odd Number is: {count_odd}')\n"
   ]
  },
  {
   "cell_type": "markdown",
   "id": "1ffd1688-ffa9-4e93-b745-5554884a118c",
   "metadata": {},
   "source": [
    "# 🧩 Problem 3 — Student Grade Calculator\n",
    "- Ask for a student’s marks (0–100) and print their grade"
   ]
  },
  {
   "cell_type": "code",
   "execution_count": 17,
   "id": "14c21772-a19c-4cc2-a56e-0d0595e30e72",
   "metadata": {},
   "outputs": [
    {
     "name": "stdin",
     "output_type": "stream",
     "text": [
      "Enter Your Marks:  40\n"
     ]
    },
    {
     "name": "stdout",
     "output_type": "stream",
     "text": [
      "D Garde\n"
     ]
    }
   ],
   "source": [
    "# Marks input\n",
    "marks = float(input('Enter Your Marks: '))\n",
    "if marks < 40:\n",
    "    print('Failed')\n",
    "elif marks < 50:\n",
    "    print('D Garde')\n",
    "elif marks < 60:\n",
    "    print('C Grade')\n",
    "elif marks < 70:\n",
    "    print('B Grade')\n",
    "elif marks < 80:\n",
    "    print('A Grade')\n",
    "else:\n",
    "    print('A+')"
   ]
  },
  {
   "cell_type": "markdown",
   "id": "e7180059-16ae-4011-b587-890ced53aed4",
   "metadata": {},
   "source": [
    "# 🧩 Problem 4 — Sum of Multiples\n",
    "- Find the sum of all numbers between 1 and N (input from user) that are divisible by 3 or 5."
   ]
  },
  {
   "cell_type": "code",
   "execution_count": 27,
   "id": "46cf423b-46cf-4432-9ca3-7197391abcc2",
   "metadata": {},
   "outputs": [
    {
     "name": "stdin",
     "output_type": "stream",
     "text": [
      "Enter N Numbers seperated by Space 1 2 3 4 5 6 7 8 9\n"
     ]
    },
    {
     "name": "stdout",
     "output_type": "stream",
     "text": [
      "[1, 2, 3, 4, 5, 6, 7, 8, 9]\n",
      "[3, 5, 6, 9]\n",
      "Sum of the numbers that are divisible by 3 or 5: 23\n"
     ]
    }
   ],
   "source": [
    "# Taking N numbers\n",
    "numbers = input('Enter N Numbers seperated by Space').split()\n",
    "\n",
    "# Converting to integer\n",
    "integer_number = [int(number) for number in numbers]\n",
    "print(integer_number)\n",
    "\n",
    "list_div_by_3_and_5 = list()\n",
    "\n",
    "for n in integer_number:\n",
    "    if n % 3 == 0 or n % 5 == 0:\n",
    "        list_div_by_3_and_5.append(n)\n",
    "print(list_div_by_3_and_5)\n",
    "print(f'Sum of the numbers that are divisible by 3 or 5: {sum(list_div_by_3_and_5)}')"
   ]
  },
  {
   "cell_type": "markdown",
   "id": "0a14a7ba-8827-4315-9d6e-a1051ad8e3d8",
   "metadata": {},
   "source": [
    "# 🧩 Problem 5 — Count Vowels and Consonants\n",
    "- Ask for a string and print number of vowels and consonants.\n",
    "- Ignore case and spaces."
   ]
  },
  {
   "cell_type": "code",
   "execution_count": 31,
   "id": "23ea9779-5845-4f1b-8974-2797a9babc30",
   "metadata": {},
   "outputs": [
    {
     "name": "stdin",
     "output_type": "stream",
     "text": [
      "Enter Your Text:  Address number-1230\n"
     ]
    },
    {
     "name": "stdout",
     "output_type": "stream",
     "text": [
      "address number-1230\n",
      "Number of vowel: 4, number of consonant: 9\n"
     ]
    }
   ],
   "source": [
    "# Taking a string as user input\n",
    "string_input = input('Enter Your Text: ').lower()\n",
    "print(string_input)\n",
    "vowel_list = list()\n",
    "consonant_list = list()\n",
    "for character in string_input:\n",
    "    if character.isalpha():\n",
    "        if character in 'aeiou':\n",
    "            vowel_list.append(character)\n",
    "        else:\n",
    "            consonant_list.append(character)\n",
    "\n",
    "print(f'Number of vowel: {len(vowel_list)}, number of consonant: {len(consonant_list)}')"
   ]
  },
  {
   "cell_type": "markdown",
   "id": "7be8240c-3677-4142-9128-50fcc89d69ca",
   "metadata": {},
   "source": [
    "# 🧩 Problem 6 — Simple Interest Calculator\n",
    "- Input: principal, rate, and time (in years).\n",
    "- Output: simple interest = P × R × T / 100."
   ]
  },
  {
   "cell_type": "code",
   "execution_count": 45,
   "id": "7ab67ded-18aa-41d1-886f-fa52226dba3c",
   "metadata": {},
   "outputs": [
    {
     "name": "stdin",
     "output_type": "stream",
     "text": [
      "Enter your amount:  3\n",
      "Enter rate 'e.g.,2.5':  4\n",
      "Enter how many years:  6\n"
     ]
    },
    {
     "name": "stdout",
     "output_type": "stream",
     "text": [
      "Your total interest is 0.72\n"
     ]
    }
   ],
   "source": [
    "# Taking user input\n",
    "principle = float(input('Enter your amount: '))\n",
    "rate = float(input('Enter rate \\'e.g.,2.5\\': '))\n",
    "time = float(input(\"Enter how many years: \"))\n",
    "\n",
    "interest = (principle * rate* time)/100\n",
    "print(f'Your total interest is {interest}')"
   ]
  },
  {
   "cell_type": "markdown",
   "id": "cce0d605-90b4-4a49-8290-0af0535d3be8",
   "metadata": {},
   "source": [
    "# 💻 PART 2 — Mini-Project"
   ]
  },
  {
   "attachments": {
    "d6e8e18b-660a-4b9a-8052-2eb4d6b9c229.png": {
     "image/png": "[encoded data removed]"
    }
   },
   "cell_type": "markdown",
   "id": "2af43adf-42a7-4b83-8000-c082b72252f4",
   "metadata": {},
   "source": [
    "#  “ATM Machine Simulator”\n",
    "- 🔧 Requirements\n",
    "    - Start with a balance (e.g., balance = 5000 TK).\n",
    "    - A simple password login before showing the menu.\n",
    "    - Show a menu:\n",
    "    - ![{0F33AF0E-AE37-4D59-ABC6-C517F5D246DC}.png](attachment:d6e8e18b-660a-4b9a-8052-2eb4d6b9c229.png) \n",
    "    - Let the user choose repeatedly until they select Exit.\n",
    "    - Validate input (e.g., can’t withdraw more than balance).\n",
    "    - Use while True: loop and break to exit."
   ]
  },
  {
   "cell_type": "code",
   "execution_count": 9,
   "id": "215ff6db-a3c8-4a63-bfb9-7bafa64279cd",
   "metadata": {},
   "outputs": [
    {
     "name": "stdin",
     "output_type": "stream",
     "text": [
      "Enter passaword to login:  verify\n"
     ]
    },
    {
     "name": "stdout",
     "output_type": "stream",
     "text": [
      "=================== Main Menu =====================\n",
      "1. Check Balance\n",
      "2. Deposite Money\n",
      "3. Withdraw Money\n",
      "4. Exit\n"
     ]
    },
    {
     "name": "stdin",
     "output_type": "stream",
     "text": [
      "Enter your choice:  1\n"
     ]
    },
    {
     "name": "stdout",
     "output_type": "stream",
     "text": [
      "Your current balance: 1000000.00\n",
      "=================== Main Menu =====================\n",
      "1. Check Balance\n",
      "2. Deposite Money\n",
      "3. Withdraw Money\n",
      "4. Exit\n"
     ]
    },
    {
     "name": "stdin",
     "output_type": "stream",
     "text": [
      "Enter your choice:  4\n"
     ]
    },
    {
     "name": "stdout",
     "output_type": "stream",
     "text": [
      "Thank you for banking with us.\n"
     ]
    }
   ],
   "source": [
    "balance = 1000000.000\n",
    "log_in = 'verify'\n",
    "while True:\n",
    "    password = input('Enter passaword to login: ')\n",
    "    if password == log_in:\n",
    "        break;\n",
    "    else:\n",
    "        print('Invalid password. Try again!')\n",
    "\n",
    "while True:\n",
    "    # Showing the menu\n",
    "    print('=================== Main Menu =====================')\n",
    "    print('1. Check Balance')\n",
    "    print('2. Deposite Money')\n",
    "    print('3. Withdraw Money')\n",
    "    print('4. Exit')\n",
    "\n",
    "    # Taking user choice\n",
    "    user_choice = int(input('Enter your choice: '))\n",
    "\n",
    "    # Conditional execution for check balance\n",
    "    if user_choice == 1:\n",
    "        print(f'Your current balance: {balance:.2f}')\n",
    "\n",
    "    # Conditional execution for deposite money\n",
    "    elif user_choice == 2:\n",
    "        amount = float(input('Enter amount: '))\n",
    "        if amount < 1000.00:\n",
    "            print('Invalid amount! You must deposite at least $1000.00')\n",
    "        else:\n",
    "            print('Working on it. Please waite for a while')\n",
    "            balance = balance + amount\n",
    "\n",
    "            print(f'You have successfully deposited: ${amount:.2f}')\n",
    "            print(f'Your current balance: {balance:.2f}')\n",
    "\n",
    "    # Conditional execution for withdraw money\n",
    "    elif user_choice == 3:\n",
    "        amount = float(input('Enter amount: '))\n",
    "\n",
    "        # Check if the amount is valid or not\n",
    "        if amount < 1000.00:\n",
    "            print('Invalid amount! You must withdraw at least $1000.00')\n",
    "        else:\n",
    "            if (balance - amount) >= 1000.00:\n",
    "                balance = balance - amount\n",
    "\n",
    "                print(f'You have successfully withdrawn: ${amount:.2f}')\n",
    "                print(f'Your current balance: {balance:.2f}')\n",
    "            else:\n",
    "                print('Invalid amount! You must keep at least $1000.00 in your account')\n",
    "\n",
    "    # Exit\n",
    "    elif user_choice == 4:\n",
    "        print('Thank you for banking with us.')\n",
    "        break\n",
    "    # Handle invalid option\n",
    "    else:\n",
    "        print('Invalid option!')"
   ]
  }
 ],
 "metadata": {
  "kernelspec": {
   "display_name": "Python 3 (ipykernel)",
   "language": "python",
   "name": "python3"
  },
  "language_info": {
   "codemirror_mode": {
    "name": "ipython",
    "version": 3
   },
   "file_extension": ".py",
   "mimetype": "text/x-python",
   "name": "python",
   "nbconvert_exporter": "python",
   "pygments_lexer": "ipython3",
   "version": "3.13.5"
  }
 },
 "nbformat": 4,
 "nbformat_minor": 5
}
