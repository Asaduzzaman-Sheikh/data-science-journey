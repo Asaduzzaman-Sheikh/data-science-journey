{
 "cells": [
  {
   "cell_type": "markdown",
   "id": "bfacd25e-4f08-48c3-849a-0144791f62db",
   "metadata": {},
   "source": [
    "# 🧩 1. Sum and Average of a List\n",
    "- Write a program that takes a list of numbers and calculates their sum and average using functions."
   ]
  },
  {
   "cell_type": "code",
   "execution_count": 4,
   "id": "48b5cc62-5ba8-498c-bab7-94613066b937",
   "metadata": {},
   "outputs": [
    {
     "name": "stdout",
     "output_type": "stream",
     "text": [
      "[1, 2, 3, 4, 5, 6, 7, 8, 9, 10, 11, 12, 13, 14]\n",
      "Sum: 105\n",
      "Average: 7.5\n"
     ]
    }
   ],
   "source": [
    "number = [number for number in range(1,15)]\n",
    "print(number)\n",
    "\n",
    "# Calculate sum\n",
    "total = sum(number)\n",
    "average = total / len(number)\n",
    "\n",
    "print(f'Sum: {total}')\n",
    "print(f'Average: {average}')"
   ]
  },
  {
   "cell_type": "markdown",
   "id": "5e027520-b99a-4a3b-88c0-755f1ceb2c7b",
   "metadata": {},
   "source": [
    "# 🧩 2. Remove Duplicates from List\n",
    "- Use a set() to remove duplicates from this list:\n",
    "    - numbers = [2, 3, 5, 2, 11, 3, 7, 5]"
   ]
  },
  {
   "cell_type": "code",
   "execution_count": 6,
   "id": "ba644123-8e51-4b38-8f3c-bc85933b8539",
   "metadata": {},
   "outputs": [
    {
     "name": "stdout",
     "output_type": "stream",
     "text": [
      "[2, 3, 5, 7, 11]\n"
     ]
    }
   ],
   "source": [
    "numbers = [2,3,5,2,11,3,7,5]\n",
    "numbers_set = set(numbers)\n",
    "\n",
    "numbers_list = list(numbers_set)\n",
    "print(numbers_list)"
   ]
  },
  {
   "cell_type": "markdown",
   "id": "805dd8d4-37ef-4696-95e6-e88bb05ba35b",
   "metadata": {},
   "source": [
    "# 🧩 3. List of Squares (Comprehension)\n",
    "- Generate a list of squares from 1 to 10 using list comprehension."
   ]
  },
  {
   "cell_type": "code",
   "execution_count": 7,
   "id": "3df615b0-dc75-418e-9292-7c7c1de5fdaf",
   "metadata": {},
   "outputs": [
    {
     "name": "stdout",
     "output_type": "stream",
     "text": [
      "Squares: [1, 4, 9, 16, 25, 36, 49, 64, 81, 100]\n"
     ]
    }
   ],
   "source": [
    "squares = [n**2 for n in range(1,11)]\n",
    "print(f'Squares: {squares}')"
   ]
  },
  {
   "cell_type": "markdown",
   "id": "30a83633-f3d5-4ead-aeed-fb0a4d7933d6",
   "metadata": {},
   "source": [
    "# 🧩 4. Largest and Smallest in List\n",
    "- Find the max and min values from a list without using built-in functions (i.e., loop manually)."
   ]
  },
  {
   "cell_type": "code",
   "execution_count": 10,
   "id": "ae03f0e8-6eb0-4033-9ffb-16056fc81123",
   "metadata": {},
   "outputs": [
    {
     "name": "stdout",
     "output_type": "stream",
     "text": [
      "Maximum value in is 100\n",
      "Minimum value in is 1\n"
     ]
    }
   ],
   "source": [
    "max_value = squares[0]\n",
    "min_value = squares[0]\n",
    "\n",
    "# Finding maximum and minimum value in the list\n",
    "for number in squares:\n",
    "    if number > max_value:\n",
    "        max_value = number\n",
    "    if number < min_value:\n",
    "        min_value = number\n",
    "\n",
    "print(f'Maximum value in is {max_value}')\n",
    "print(f'Minimum value in is {min_value}')"
   ]
  },
  {
   "attachments": {
    "dc56c07b-c8f3-460c-b91c-813d565ca700.png": {
     "image/png": "[encoded data removed]"
    }
   },
   "cell_type": "markdown",
   "id": "c27ce976-f0b3-4de7-8336-af96d62ddfe6",
   "metadata": {},
   "source": [
    "# 🧩 5. Tuple Unpacking\n",
    "- Given:\n",
    "  - person = (\"Alice\", 25, \"Data Scientist\")\n",
    "  - unpack and print:\n",
    "  - ![{8B312ACF-7F2F-4768-B1A5-1CDA81EB361F}.png](attachment:dc56c07b-c8f3-460c-b91c-813d565ca700.png)\n",
    "  "
   ]
  },
  {
   "cell_type": "code",
   "execution_count": 11,
   "id": "c6d9319a-c741-4a16-9cfa-cfb6ef8d71ff",
   "metadata": {},
   "outputs": [
    {
     "name": "stdout",
     "output_type": "stream",
     "text": [
      "Name: Alice\n",
      "Age: 25\n",
      "Profession: Data Scientist\n"
     ]
    }
   ],
   "source": [
    "person = ('Alice',25,'Data Scientist')\n",
    "(name,age,profession) = person\n",
    "\n",
    "print(f'Name: {name}')\n",
    "print(f'Age: {age}')\n",
    "print(f'Profession: {profession}')"
   ]
  },
  {
   "cell_type": "markdown",
   "id": "8ca5fd4a-6b34-4ba8-a3a6-070babc30305",
   "metadata": {},
   "source": [
    "# 🧩 6. Set Operations\n",
    "- Given:\n",
    "\n",
    "    - A = {1, 2, 3, 4}\n",
    "    - B = {3, 4, 5, 6}\n",
    "\n",
    "\n",
    "- Find:\n",
    "\n",
    "    - Union\n",
    "\n",
    "    - Intersection\n",
    "\n",
    "    - Difference (A - B)\n",
    "\n",
    "    - Symmetric Difference"
   ]
  },
  {
   "cell_type": "code",
   "execution_count": 18,
   "id": "4c9a12d5-d081-4bbf-9234-43fb6000a0bf",
   "metadata": {},
   "outputs": [
    {
     "name": "stdout",
     "output_type": "stream",
     "text": [
      "{1, 2, 3, 4, 5, 6}\n",
      "{3}\n",
      "{1, 2}\n",
      "{1, 2, 4, 5, 6}\n"
     ]
    }
   ],
   "source": [
    "A = {1,2,3}\n",
    "B = {3,4,5,6}\n",
    "\n",
    "# Find the union\n",
    "union = A.union(B)\n",
    "print(union)\n",
    "\n",
    "# Find intersection\n",
    "intersection = A.intersection(B)\n",
    "print(intersection)\n",
    "\n",
    "# Find difference\n",
    "diffeence = A.difference(B)\n",
    "print(diffeence)\n",
    "\n",
    "# Find symmetric difference\n",
    "symmetric_difference = A.symmetric_difference(B)\n",
    "print(symmetric_difference)"
   ]
  },
  {
   "cell_type": "markdown",
   "id": "7d97a2e1-d6df-431b-94d3-8e51cf831f7c",
   "metadata": {},
   "source": [
    "# 🧩 7. Frequency Counter (Dict)\n",
    "- Count the frequency of each letter in the word \"datascience\" and store it in a dictionary."
   ]
  },
  {
   "cell_type": "code",
   "execution_count": 29,
   "id": "c2cf1215-e00d-44f6-b1a3-1823dc8255f2",
   "metadata": {},
   "outputs": [
    {
     "name": "stdout",
     "output_type": "stream",
     "text": [
      "{'d': 1, 'a': 2, 't': 1, 's': 1, 'c': 2, 'i': 1, 'e': 2, 'n': 1}\n"
     ]
    }
   ],
   "source": [
    "text = 'datascience'\n",
    "frequency = dict()\n",
    "\n",
    "# for character in text:\n",
    "#     # print(f'{character} = {text.count(character)}')\n",
    "    \n",
    "#     frequency.update({character: text.count(character)})\n",
    "\n",
    "for character in text:\n",
    "    if character in frequency:\n",
    "        frequency[character] += 1\n",
    "    else:\n",
    "        frequency[character] = 1\n",
    "\n",
    "print(frequency)"
   ]
  },
  {
   "cell_type": "markdown",
   "id": "cdf8397e-3954-4db8-829d-b0c884cd5355",
   "metadata": {},
   "source": [
    "# 🧩 8. Student Marks Dictionary\n",
    "- Create a dictionary: marks = {\"Alice\": 85, \"Bob\": 72, \"Charlie\": 90}\n",
    "- Find:\n",
    "    - Average mark\n",
    "    - Who got the highest mark"
   ]
  },
  {
   "cell_type": "code",
   "execution_count": 57,
   "id": "4a52ccef-06ce-4555-8fb3-929df7e01489",
   "metadata": {},
   "outputs": [
    {
     "name": "stdout",
     "output_type": "stream",
     "text": [
      "Average mark: 82.33333333333333\n",
      "Charlie got the highest mark: 90\n"
     ]
    }
   ],
   "source": [
    "marks = {\n",
    "    'Alice': 85,\n",
    "    'Bob': 72,\n",
    "    'Charlie': 90\n",
    "}\n",
    "total = 0\n",
    "highest_mark = 0\n",
    "highest_key = ''\n",
    "for key, value in marks.items():\n",
    "    total = total + value\n",
    "    \n",
    "    if value > highest_mark:\n",
    "        highest_mark = value\n",
    "        highest_key = key\n",
    "    \n",
    "\n",
    "# Calculate average\n",
    "average = total / len(marks)\n",
    "# print(total)\n",
    "print(f'Average mark: {average}')\n",
    "# print(highest_mark)\n",
    "print(f'{highest_key} got the highest mark: {highest_mark}')"
   ]
  },
  {
   "cell_type": "markdown",
   "id": "233db160-de6e-4ef0-812d-9ecb70708936",
   "metadata": {},
   "source": [
    "# 🧩 9. Convert Two Lists to Dictionary\n",
    "    - keys = [\"name\", \"age\", \"city\"]\n",
    "    - values = [\"Alice\", 25, \"Dhaka\"]\n",
    "    - Convert them into: {\"name\": \"Alice\", \"age\": 25, \"city\": \"Dhaka\"}"
   ]
  },
  {
   "cell_type": "code",
   "execution_count": 65,
   "id": "8b8582b3-1ab9-4080-a916-7a6653d4afab",
   "metadata": {},
   "outputs": [
    {
     "name": "stdout",
     "output_type": "stream",
     "text": [
      "{'name': 'Alice', 'age': 25, 'city': 'Dhaka'}\n"
     ]
    }
   ],
   "source": [
    "keys = ['name','age','city']\n",
    "values = ['Alice',25,'Dhaka']\n",
    "\n",
    "\"\"\" zip(list_1,list_2) takes two list as key and value and return zip object combining them as key:value \"\"\"\n",
    "\n",
    "info = dict(zip(keys,values)) # concise way\n",
    "\n",
    "# for i in range(len(keys)):\n",
    "#     info.update({keys[i]: values[i]})\n",
    "\n",
    "print(info)"
   ]
  },
  {
   "cell_type": "markdown",
   "id": "c7773226-8e3e-404e-8e4b-65da7945bab0",
   "metadata": {},
   "source": [
    "# 🧩 10. Dictionary Comprehension\n",
    "- Create a dictionary of numbers and their squares (1–10) using dictionary comprehension."
   ]
  },
  {
   "cell_type": "code",
   "execution_count": 1,
   "id": "b03caa81-ecc8-471d-aa0d-d8077245bf48",
   "metadata": {},
   "outputs": [
    {
     "name": "stdout",
     "output_type": "stream",
     "text": [
      "{'1': 1, '2': 4, '3': 9, '4': 16, '5': 25, '6': 36, '7': 49, '8': 64, '9': 81, '10': 100}\n"
     ]
    }
   ],
   "source": [
    "squares = {str(key):key**2 for key in range(1,11)}\n",
    "print(squares)"
   ]
  },
  {
   "cell_type": "markdown",
   "id": "cc83749e-da7c-41b7-91e2-9025837358d7",
   "metadata": {},
   "source": [
    "# 🧩 11. Check Key Existence\n",
    "- Write a function that checks if a given key exists in a dictionary and returns True/False."
   ]
  },
  {
   "cell_type": "code",
   "execution_count": 5,
   "id": "21d15eeb-4a4a-4f15-99c5-e378e4cfdda5",
   "metadata": {},
   "outputs": [
    {
     "name": "stdout",
     "output_type": "stream",
     "text": [
      "False\n"
     ]
    }
   ],
   "source": [
    "# Function if a given key exist or not\n",
    "\n",
    "student = {\n",
    "    'name':'Asaduzzaman',\n",
    "    'age': 23,\n",
    "    'section': '9E'\n",
    "}\n",
    "def is_exist(key):\n",
    "    return key in student\n",
    "\n",
    "\n",
    "print(is_exist('department'))"
   ]
  },
  {
   "cell_type": "markdown",
   "id": "ff648f76-3959-4d06-bed0-f93dd47524ad",
   "metadata": {},
   "source": [
    "# 🧩 12. Nested Dictionary Access\n",
    "- Given:\n",
    "\n",
    "    - students = {\n",
    "        \"Alice\": {\"age\": 22, \"marks\": {\"math\": 85, \"cs\": 90}},\n",
    "        \"Bob\": {\"age\": 21, \"marks\": {\"math\": 78, \"cs\": 88}}\n",
    "    }\n",
    "\n",
    "\n",
    "- Print each student’s name, age, and CS marks."
   ]
  },
  {
   "cell_type": "code",
   "execution_count": 27,
   "id": "97fcdb36-ab07-47e4-ae0d-690b6c71e931",
   "metadata": {},
   "outputs": [
    {
     "name": "stdout",
     "output_type": "stream",
     "text": [
      "Name: Alice, Age: 22, and CS Marks: 90\n",
      "Name: Bob, Age: 21, and CS Marks: 88\n"
     ]
    }
   ],
   "source": [
    "students = {\n",
    "    'Alice':{\n",
    "        'age': 22,\n",
    "        'marks': {\n",
    "            'math':85,\n",
    "            'cs': 90\n",
    "        }\n",
    "    },\n",
    "    'Bob':{\n",
    "        'age': 21,\n",
    "        'marks':{\n",
    "            'math': 78,\n",
    "            'cs': 88\n",
    "        }\n",
    "    }\n",
    "}\n",
    "for key, value in students.items():\n",
    "    age = value['age']\n",
    "    cs_marks = value['marks']['cs']\n",
    "    print(f'Name: {key}, Age: {age}, and CS Marks: {cs_marks}')\n",
    "        \n",
    "        \n",
    "            \n",
    "    "
   ]
  }
 ],
 "metadata": {
  "kernelspec": {
   "display_name": "Python 3 (ipykernel)",
   "language": "python",
   "name": "python3"
  },
  "language_info": {
   "codemirror_mode": {
    "name": "ipython",
    "version": 3
   },
   "file_extension": ".py",
   "mimetype": "text/x-python",
   "name": "python",
   "nbconvert_exporter": "python",
   "pygments_lexer": "ipython3",
   "version": "3.13.5"
  }
 },
 "nbformat": 4,
 "nbformat_minor": 5
}
