{
 "cells": [
  {
   "cell_type": "markdown",
   "id": "d7fda00e-103f-4b59-854c-f31f2c7e391b",
   "metadata": {},
   "source": [
    "# Pyhton Object-Oriented Programming\n",
    "- Class: Blueprint to create an objecr\n",
    "- Object: Bundle of related attributes and methods"
   ]
  },
  {
   "cell_type": "code",
   "execution_count": 3,
   "id": "6d2b99a8-7df7-4d93-91b6-96ad4af4e10f",
   "metadata": {},
   "outputs": [
    {
     "name": "stdout",
     "output_type": "stream",
     "text": [
      "Mustang\n",
      "2025\n",
      "White\n",
      "False\n"
     ]
    }
   ],
   "source": [
    "# Create a class Car\n",
    "class Car:\n",
    "    def __init__(self,name,year,color,is_for_sale):\n",
    "        \"\"\" Instance variables: belong only to the instance \"\"\"\n",
    "        self.name = name\n",
    "        self.year = year\n",
    "        self.color = color\n",
    "        self.is_for_sale = is_for_sale\n",
    "\n",
    "# Create an object of class Car\n",
    "car_1 = Car('Mustang',2025,'White',False)\n",
    "\n",
    "# Access the instance variables\n",
    "print(car_1.name)\n",
    "print(car_1.year)\n",
    "print(car_1.color)\n",
    "print(car_1.is_for_sale)"
   ]
  },
  {
   "cell_type": "code",
   "execution_count": 11,
   "id": "0207e60c-a5a4-4028-95fd-b3f1c0cbd438",
   "metadata": {},
   "outputs": [
    {
     "name": "stdout",
     "output_type": "stream",
     "text": [
      "Name: Asaduzzaman, Department: CSE\n",
      "Name: Alice, Department: CSE\n",
      "Name: Bob, Department: MATH\n",
      "Graduate year: 2026, total graduated students: 3\n"
     ]
    }
   ],
   "source": [
    "class Student:\n",
    "    \"\"\" Class variable: shared among all instances \"\"\"\n",
    "    graduate_year = 2026\n",
    "    student_numbers = 0\n",
    "    \n",
    "    def __init__(self, name,departemnt):\n",
    "        self.name = name\n",
    "        self.departemnt = departemnt\n",
    "\n",
    "        # Access class variable using class name instead of object name\n",
    "        Student.student_numbers += 1\n",
    "\n",
    "    # User-defined methods\n",
    "    def display_info(self):\n",
    "        print(f'Name: {self.name}, Department: {self.departemnt}')\n",
    "        \n",
    "\n",
    "student_1 = Student('Asaduzzaman','CSE')\n",
    "student_2 = Student('Alice','CSE')\n",
    "student_3 = Student('Bob','MATH')\n",
    "\n",
    "\n",
    "# Access methods\n",
    "student_1.display_info()\n",
    "student_2.display_info()\n",
    "student_3.display_info()\n",
    "\n",
    "\n",
    "# Access the class variable\n",
    "print(f'Graduate year: {Student.graduate_year}, total graduated students: {Student.student_numbers}')"
   ]
  },
  {
   "cell_type": "code",
   "execution_count": 17,
   "id": "fc0925e2-bd67-422a-b6f1-b3769419f6e3",
   "metadata": {},
   "outputs": [
    {
     "name": "stdout",
     "output_type": "stream",
     "text": [
      "Name: Asaduzzaman\n",
      "Age:23\n",
      "Address: Dhaka\n"
     ]
    }
   ],
   "source": [
    "# Use __str__(self) method\n",
    "class Person:\n",
    "    def __init__(self,name,age,address):\n",
    "        self.name = name\n",
    "        self.age = age\n",
    "        self.address = address\n",
    "\n",
    "    # __str__() method to return string object\n",
    "    def __str__(self):\n",
    "        return f'Name: {self.name}\\nAge:{self.age}\\nAddress: {self.address}'\n",
    "        \n",
    "\n",
    "person_1 = Person('Asaduzzaman',23,'Dhaka')\n",
    "\n",
    "# Print the object\n",
    "print(person_1)"
   ]
  },
  {
   "cell_type": "code",
   "execution_count": 1,
   "id": "6f7540bb-e4d1-4c99-bc92-9fba52cce2ed",
   "metadata": {},
   "outputs": [
    {
     "name": "stdout",
     "output_type": "stream",
     "text": [
      "1\n",
      "2\n"
     ]
    }
   ],
   "source": [
    "class Delete:\n",
    "\n",
    "    def __init__(self,number_1, number_2, number_3):\n",
    "        self.number_1 = number_1\n",
    "        self.number_2 = number_2\n",
    "        self.number_3 = number_3\n",
    "\n",
    "number = Delete(1,2,3)\n",
    "\n",
    "print(number.number_1)\n",
    "\n",
    "# Delete instace variable\n",
    "\n",
    "# del number.number_2\n",
    "# print(number.number_2)\n",
    "\n",
    "print(number.number_2)\n",
    "\n",
    "# Delete instance\n",
    "# del number\n",
    "# print(number.number_1)\n",
    "# print(number.number_2)\n",
    "# print(number.number_3)\n"
   ]
  },
  {
   "cell_type": "markdown",
   "id": "41787d4d-ccb8-4d19-b2de-8bec8b52b8b0",
   "metadata": {},
   "source": [
    "# Inheritance\n",
    "- A way where a class inherits an existing class: sub class (child class)\n",
    "- A class is inherited by a class: super class (parent class)"
   ]
  },
  {
   "cell_type": "code",
   "execution_count": 13,
   "id": "38738a4c-cd04-44fb-89b2-f81e4a34cb02",
   "metadata": {},
   "outputs": [
    {
     "name": "stdout",
     "output_type": "stream",
     "text": [
      "Bugs is fleeing\n",
      "Bugs is eating\n",
      "Bugs is sleeping\n",
      "\n",
      "Tony is hunting\n",
      "Tony is eating\n",
      "Tony is sleeping\n",
      "\n",
      "Nemo is fleeing\n",
      "Nemo is eating\n",
      "Nemo is sleeping\n",
      "\n",
      "Nemo is hunting\n",
      "Nemo is eating\n",
      "Nemo is sleeping\n"
     ]
    }
   ],
   "source": [
    "# Grand parent class \n",
    "class Animal:\n",
    "    def __init__(self,name):\n",
    "        self.name = name\n",
    "        self.is_alive = True\n",
    "    def eat(self):\n",
    "        print(f'{self.name} is eating')\n",
    "    def sleep(self):\n",
    "        print(f'{self.name} is sleeping')\n",
    "# Parent classes\n",
    "class Prey(Animal):\n",
    "    def flee(self):\n",
    "        print(f'{self.name} is fleeing')\n",
    "class Predator(Animal):\n",
    "    def hunt(self):\n",
    "        print(f'{self.name} is hunting')\n",
    "\n",
    "# Child classes\n",
    "class Rabbit(Prey):\n",
    "    pass\n",
    "\n",
    "class Hawk(Predator):\n",
    "    pass\n",
    "\n",
    "class Fish(Prey, Predator):\n",
    "    pass\n",
    "\n",
    "\n",
    "rabbit = Rabbit('Bugs')\n",
    "hawk = Hawk('Tony')\n",
    "fish = Fish('Nemo')\n",
    "\n",
    "rabbit.flee()\n",
    "rabbit.eat()\n",
    "rabbit.sleep()\n",
    "print()\n",
    "\n",
    "hawk.hunt()\n",
    "hawk.eat()\n",
    "hawk.sleep()\n",
    "print()\n",
    "\n",
    "fish.flee()\n",
    "fish.eat()\n",
    "fish.sleep()\n",
    "print()\n",
    "\n",
    "fish.hunt()\n",
    "fish.eat()\n",
    "fish.sleep()"
   ]
  },
  {
   "cell_type": "markdown",
   "id": "f297d0f0-ce7a-4aaf-8c91-ad5f79f3360f",
   "metadata": {},
   "source": [
    "# Abstract Class\n",
    "- Cannot be instantiated if has any abstract method in it; otherwise possible"
   ]
  },
  {
   "cell_type": "code",
   "execution_count": 18,
   "id": "e9694140-8740-42c7-b390-46d6334f954d",
   "metadata": {},
   "outputs": [
    {
     "name": "stdout",
     "output_type": "stream",
     "text": [
      "a\n"
     ]
    }
   ],
   "source": [
    "from abc import ABC, abstractmethod\n",
    "class Base(ABC):\n",
    "    def __init__(self):\n",
    "        self.name = 'a'\n",
    "\n",
    "base =Base()\n",
    "print(base.name)"
   ]
  },
  {
   "cell_type": "code",
   "execution_count": 1,
   "id": "ec895c8a-e63c-4e5e-b15e-e9953666bb77",
   "metadata": {},
   "outputs": [
    {
     "name": "stdout",
     "output_type": "stream",
     "text": [
      "An abstract class can have a constructor\n"
     ]
    }
   ],
   "source": [
    "from abc import ABC, abstractmethod\n",
    "class Parent(ABC):\n",
    "    def __init__(self):\n",
    "        self.name = 'An abstract class can have a constructor'\n",
    "    @abstractmethod\n",
    "    def display(self):\n",
    "        pass\n",
    "\n",
    "class Child(Parent):\n",
    "    \n",
    "    def display(self):\n",
    "        print(f'{self.name}')\n",
    "\n",
    "child = Child()\n",
    "\n",
    "child.display()"
   ]
  },
  {
   "cell_type": "markdown",
   "id": "ed425a51-071e-45a0-b7f3-582940611625",
   "metadata": {},
   "source": [
    "# Super Function\n",
    "- Used to give access to methods and properties of a parent or sibling class."
   ]
  },
  {
   "cell_type": "code",
   "execution_count": 1,
   "id": "065dc1bb-a373-4643-8cce-4dc4e1993789",
   "metadata": {},
   "outputs": [
    {
     "name": "stdout",
     "output_type": "stream",
     "text": [
      "The color is White and not filled\n",
      "The area of this square is 49\n"
     ]
    }
   ],
   "source": [
    "class Shape:\n",
    "    def __init__(self, color, is_filled):\n",
    "        self.color = color\n",
    "        self.is_filled = is_filled\n",
    "    def describe(self):\n",
    "        print(f'The color is {self.color} and {'filled' if self.is_filled else 'not filled'}')\n",
    "\n",
    "class Circle(Shape):\n",
    "    def __init__(self, color, is_filled, radius):\n",
    "        super().__init__(color, is_filled)\n",
    "        self.radius = radius\n",
    "    \n",
    "\n",
    "    # Extending parent class's method\n",
    "    def describe(self):\n",
    "        # Invoking parent class's method\n",
    "        super().describe()\n",
    "        print(f'The area of this circle is {3.1416 * self.radius ** 2}')\n",
    "\n",
    "class Square(Shape):\n",
    "    def __init__(self, color, is_filled, width):\n",
    "        super().__init__(color, is_filled)\n",
    "        self.width = width\n",
    "\n",
    "    \n",
    "    def describe(self):\n",
    "        super().describe()\n",
    "        print(f'The area of this square is {self.width ** 2}')\n",
    "\n",
    "class Triangle(Shape):\n",
    "    def __init__(self, color, is_filled, width, height):\n",
    "        super().__init__(color, is_filled)\n",
    "        self.width = width\n",
    "        self.height = height\n",
    "\n",
    "    def describe(self):\n",
    "        super().describe()\n",
    "        print(f'The area of this triangle is {self.width * self.height / 2}')\n",
    "\n",
    "circle = Circle('Green', True, 6)\n",
    "square = Square('White', False, 7)\n",
    "triangle = Triangle('Teal', True, 7, 10)\n",
    "\n",
    "square.describe()"
   ]
  },
  {
   "cell_type": "markdown",
   "id": "b3dc9cca-b833-44b8-b1f3-186cec45ef8c",
   "metadata": {},
   "source": [
    "# Polymorphism\n",
    "- Means many forms; an class/functions/object can take many forms"
   ]
  },
  {
   "cell_type": "code",
   "execution_count": 12,
   "id": "c33d1424-fd2b-4a66-a001-c9cab6f8e0ee",
   "metadata": {},
   "outputs": [
    {
     "name": "stdout",
     "output_type": "stream",
     "text": [
      "28.2744cm^2\n",
      "36cm^2\n",
      "21.0cm^2\n",
      "706.86cm^2\n"
     ]
    }
   ],
   "source": [
    "from abc import ABC, abstractmethod\n",
    "class Shape:\n",
    "    @abstractmethod\n",
    "    def area(self):\n",
    "        pass\n",
    "        \n",
    "\n",
    "class Circle(Shape):\n",
    "    def __init__(self, radius):\n",
    "        self.radius = radius\n",
    "    def area(self):\n",
    "        return 3.1416 * self.radius**2\n",
    "\n",
    "class Square(Shape):\n",
    "    def __init__(self, side):\n",
    "        self.side = side\n",
    "    def area(self):\n",
    "        return self.side**2\n",
    "class Triangle(Shape):\n",
    "    def __init__(self, height, width):\n",
    "        self.height = height\n",
    "        self.width = width\n",
    "    def area(self):\n",
    "        return self.height*self.width/2\n",
    "\n",
    "class Pizza(Circle):\n",
    "    def __init__(self, topping, radius):\n",
    "        super().__init__(radius)\n",
    "        self.topping = topping\n",
    "        \n",
    "\n",
    "shapes = [Circle(3), Square(6), Triangle(6,7), Pizza('pepparoni', 15)]\n",
    "for shape in shapes:\n",
    "    print(f'{shape.area()}cm^2')\n",
    "\n"
   ]
  },
  {
   "cell_type": "code",
   "execution_count": 17,
   "id": "0ac0ac3e-f598-4ed7-ac9e-fdaa08bee959",
   "metadata": {},
   "outputs": [
    {
     "name": "stdout",
     "output_type": "stream",
     "text": [
      "Brand: Ford, Model: Mustang\n",
      "move!\n",
      "Brand: Ibiza, Model: Touring 20\n",
      "Sail!\n",
      "Brand: Boeing, Model: 747\n",
      "Fly!\n"
     ]
    }
   ],
   "source": [
    "class Vehicle:\n",
    "    def __init__(self, brand,model):\n",
    "        self.brand = brand\n",
    "        self.model = model\n",
    "    def move(self):\n",
    "        print('move!')\n",
    "\n",
    "class Car(Vehicle):\n",
    "    pass\n",
    "\n",
    "class Boat(Vehicle):\n",
    "    def move(self):\n",
    "        print('Sail!')\n",
    "\n",
    "class Plane(Vehicle):\n",
    "    def move(self):\n",
    "        print('Fly!')\n",
    "\n",
    "vehicles = [ Car(\"Ford\", \"Mustang\"), Boat(\"Ibiza\", \"Touring 20\"), Plane(\"Boeing\", \"747\") ]\n",
    "\n",
    "for vehicle in vehicles:\n",
    "    print(f'Brand: {vehicle.brand}, Model: {vehicle.model}')\n",
    "    vehicle.move()"
   ]
  },
  {
   "cell_type": "markdown",
   "id": "ebd42050-1405-467c-a198-d80ca00fcda9",
   "metadata": {},
   "source": [
    "# Duck Typing\n",
    "- Must have necessary attributes and methods\n",
    "- If it is like a duck, and sounds like a duck, it must be a duck"
   ]
  },
  {
   "cell_type": "code",
   "execution_count": 22,
   "id": "151e17b5-1256-4c06-a53a-408fc318c9e5",
   "metadata": {},
   "outputs": [
    {
     "name": "stdout",
     "output_type": "stream",
     "text": [
      "WOOF!\n",
      "True\n",
      "MEOW!\n",
      "True\n",
      "HONK!\n",
      "False\n"
     ]
    }
   ],
   "source": [
    "class Animal:\n",
    "    alive = True\n",
    "\n",
    "class Dog(Animal):\n",
    "    def speak(self):\n",
    "        print(\"WOOF!\")\n",
    "\n",
    "class Cat(Animal):\n",
    "    def speak(self):\n",
    "        print(\"MEOW!\")\n",
    "\n",
    "class Car:\n",
    "    alive = False\n",
    "    def speak(self):\n",
    "        print(\"HONK!\")\n",
    "\n",
    "animals = [Dog(), Cat(), Car()]\n",
    "\n",
    "for animal in animals:\n",
    "    animal.speak()\n",
    "    print(animal.alive)"
   ]
  },
  {
   "cell_type": "markdown",
   "id": "f25b09ab-7723-403e-be10-1bb2d9a0a4b5",
   "metadata": {},
   "source": [
    "# Aggregation\n",
    "- Represents a relationship where one object (the whole/container) contains references to one or more INDEPENDENT objects(the parts)"
   ]
  },
  {
   "cell_type": "code",
   "execution_count": 1,
   "id": "93d11b1a-6278-4c83-824d-52ad6df01637",
   "metadata": {},
   "outputs": [
    {
     "name": "stdout",
     "output_type": "stream",
     "text": [
      "--------------NUB Library------------------\n",
      "Harry Potter by J.K Rowling\n",
      "Python Programming by A.B.C\n"
     ]
    }
   ],
   "source": [
    "# Container class\n",
    "class Library:\n",
    "    def __init__(self, name):\n",
    "        self.name = name\n",
    "        self.books = []\n",
    "\n",
    "    def add_books(self, book):\n",
    "        self.books.append(book)\n",
    "\n",
    "    def book_list(self):\n",
    "        return [f'{book.title} by {book.author}' for book in self.books]\n",
    "\n",
    "# Class which object to be added\n",
    "class Book:\n",
    "    def __init__(self, title, author):\n",
    "        self.title = title\n",
    "        self.author = author\n",
    "\n",
    "library = Library(\"NUB Library\")\n",
    "print(f'--------------{library.name}------------------')\n",
    "\n",
    "book1 = Book(\"Harry Potter\", \"J.K Rowling\")\n",
    "book2 = Book(\"Python Programming\", \"A.B.C\")\n",
    "\n",
    "library.add_books(book1) # Adding book1 object\n",
    "library.add_books(book2) # Adding book2 object\n",
    "\n",
    "for book in library.book_list():\n",
    "    print(book)"
   ]
  },
  {
   "cell_type": "markdown",
   "id": "79f1fd1e-832c-4244-8a42-36fb4ac7f7a9",
   "metadata": {},
   "source": [
    "# Composition\n",
    "- The composed object directly owns its components which cannot exist independently\n",
    "- \"Owns-a\" relationship"
   ]
  },
  {
   "cell_type": "code",
   "execution_count": 7,
   "id": "1882251f-7470-41bb-9a05-a84c986068ad",
   "metadata": {},
   "outputs": [
    {
     "name": "stdout",
     "output_type": "stream",
     "text": [
      "Ford Muustang 500Hp 18inc\n",
      "Chevrolet Corvette 670Hp 19inc\n"
     ]
    }
   ],
   "source": [
    "class Engine:\n",
    "    def __init__(self, horse_power):\n",
    "        self.horse_power = horse_power\n",
    "\n",
    "class Wheel:\n",
    "    def __init__(self, wheel_size):\n",
    "        self.wheel_size = wheel_size\n",
    "\n",
    "class Car:\n",
    "    def __init__(self, make, model, horse_power, wheel_size):\n",
    "        self.make = make\n",
    "        self.model = model\n",
    "        self.horse_power = Engine(horse_power)\n",
    "        self.wheel_size = [Wheel(wheel_size) for wheel in range(4)]\n",
    "\n",
    "    def display_car(self):\n",
    "        return f'{self.make} {self.model} {self.horse_power.horse_power}Hp {self.wheel_size[0].wheel_size}inc'\n",
    "\n",
    "\n",
    "car1 = Car(make='Ford', model='Mustang', horse_power=500, wheel_size=18)\n",
    "car2 = Car(make='Chevrolet', model='Corvette', horse_power=670, wheel_size=19)\n",
    "\n",
    "print(car1.display_car()) \n",
    "print(car2.display_car())"
   ]
  },
  {
   "cell_type": "markdown",
   "id": "6ac6b707-5a08-4273-81a8-f96bacaed232",
   "metadata": {},
   "source": [
    "# Nested Class"
   ]
  },
  {
   "cell_type": "code",
   "execution_count": 1,
   "id": "3c73c137-43e6-4f64-a84f-f6b6761a5681",
   "metadata": {},
   "outputs": [
    {
     "name": "stdout",
     "output_type": "stream",
     "text": [
      "Samsung\n",
      "Alice, CEO\n",
      "Bob, HR\n"
     ]
    }
   ],
   "source": [
    "class Company:\n",
    "    def __init__(self, name):\n",
    "        self.name = name\n",
    "        self.employee = []\n",
    "    def add_employee(self,name,position):\n",
    "        new_employee = self.Employee(name,position)\n",
    "        self.employee.append(new_employee)\n",
    "\n",
    "    class Employee:\n",
    "        def __init__(self, name, position):\n",
    "            self.name = name\n",
    "            self.position = position\n",
    "        def get_details(self):\n",
    "            return f'{self.name}, {self.position}'\n",
    "\n",
    "    def employee_list(self):\n",
    "        return [employee.get_details() for employee in self.employee]\n",
    "\n",
    "company1 = Company(\"Samsung\")\n",
    "print(company1.name)\n",
    "company1.add_employee(\"Alice\",\"CEO\")\n",
    "company1.add_employee(\"Bob\", \"HR\")\n",
    "\n",
    "for employee in company1.employee_list():\n",
    "    print(employee)"
   ]
  },
  {
   "cell_type": "markdown",
   "id": "78fa7068-c283-493b-9416-3f2dafdddba0",
   "metadata": {},
   "source": [
    "# Static Methods\n",
    "- Belong to a class rather than any object\n",
    "\n",
    "# Class Methods\n",
    "- Allow opertaions related to the class itself"
   ]
  },
  {
   "cell_type": "code",
   "execution_count": 20,
   "id": "5feaf178-9483-451e-9dcb-fc4459ff7565",
   "metadata": {},
   "outputs": [
    {
     "name": "stdout",
     "output_type": "stream",
     "text": [
      "Asaduzzaman, 23 years old.\n",
      "Aice, 22 years old.\n",
      "Smith, 25 years old.\n",
      "Total number of student #3\n"
     ]
    }
   ],
   "source": [
    "class Student:\n",
    "    \n",
    "    # CLASS VARIABLE\n",
    "    total_student = 0\n",
    "    \n",
    "    def __init__(self, name, age):\n",
    "        self.name = name\n",
    "        self.age = age\n",
    "        Student.total_student += 1\n",
    "\n",
    "    def get_student_info(self):\n",
    "        return f'{self.name}, {self.age} years old.'\n",
    "\n",
    "    # STATIC MATHOD\n",
    "    @staticmethod\n",
    "    def valid_age(age):\n",
    "        return  'Valid' if age >= 18 else 'Not Valid'\n",
    "\n",
    "\n",
    "    # # CLASS METHOD\n",
    "    @classmethod\n",
    "    def total_student_info(cls):\n",
    "        return f'Total number of student #{Student.total_student}'\n",
    "    \n",
    "    \n",
    "# CREATING OBJECT OF STUDENT CLASS\n",
    "student1 = Student('Asaduzzaman', 23)\n",
    "student2 = Student('Aice', 22)\n",
    "student3 = Student('Smith', 25)\n",
    "\n",
    "# ACCESSING INSTANCE METHODS\n",
    "print(student1.get_student_info())\n",
    "print(student2.get_student_info())\n",
    "print(student3.get_student_info())\n",
    "\n",
    "# ACCESSING THE STATIC METHOD BY THE CLASS NAME INSTEAD OF INSTANCE\n",
    "# print(Student.valid_age(17))\n",
    "\n",
    "# ACCESSING THE CLASS METHOD\n",
    "print(Student.total_student_info())"
   ]
  },
  {
   "cell_type": "markdown",
   "id": "6892396d-fe5a-44c1-b13b-2db02c787764",
   "metadata": {},
   "source": [
    "# Magic Methods\n",
    "- Also known as 'Dunder Method'"
   ]
  },
  {
   "cell_type": "code",
   "execution_count": 60,
   "id": "1134d44c-999b-4a5f-bf05-1d7ebe5ce949",
   "metadata": {},
   "outputs": [
    {
     "name": "stdout",
     "output_type": "stream",
     "text": [
      "Learning Python (5th Edition) by Mark Lutz with #1640 pages\n",
      "Head First Python (3rd Edition) by Paul Barry with #720 pages\n",
      "Object-Oriented Programming in Python: Create Your Own Adventure Game by Irv Kalb with #420 pages\n",
      "\n",
      "False\n",
      "False\n",
      "False\n",
      "False\n",
      "False\n",
      "\n",
      "2360\n",
      "920\n",
      "1180800\n",
      "2.2777777777777777\n",
      "\n",
      "True\n",
      "False\n",
      "\n",
      "Book Title: Learning Python (5th Edition)\n",
      "Author: Mark Lutz\n",
      "Number of Pages: #1640\n",
      "key 'font' not found\n"
     ]
    }
   ],
   "source": [
    "class Book:\n",
    "    def __init__(self,title,author,pages):\n",
    "        self.title = title\n",
    "        self.author = author\n",
    "        self.pages = pages\n",
    "\n",
    "    # STRING METHOD\n",
    "    def __str__(self):\n",
    "        return f\"{self.title} by {self.author} with #{self.pages} pages\"\n",
    "\n",
    "    # LESS THEN, GREATER THAN, EQUAL METHODS\n",
    "    def __lt__(self,other):\n",
    "        return self.pages < other.pages\n",
    "\n",
    "    def __gt__(self,other):\n",
    "        return self.pages > other.pages\n",
    "\n",
    "    def __eq__(self,other):\n",
    "        return self.title == other.title\n",
    "\n",
    "    # ARITHMETIC OPERATIONS METHODS\n",
    "    def __add__(self,other):\n",
    "        return self.pages + other.pages\n",
    "\n",
    "    def __sub__(self,other):\n",
    "        return self.pages - other.pages\n",
    "\n",
    "    def __mul__(self,other):\n",
    "        return self.pages * other.pages\n",
    "\n",
    "    def __truediv__(self,other):\n",
    "        return self.pages / other.pages\n",
    "\n",
    "    # CHECK MEMBERSHIP\n",
    "    def __contains__(self,keyword):\n",
    "        return keyword in self.title or keyword in self.author\n",
    "        \n",
    "\n",
    "    # GET THE VALUE OF A SPECIFIC KEY\n",
    "    def __getitem__(self, key):\n",
    "        if key.lower() == \"title\":\n",
    "            return f'Book Title: {self.title}'\n",
    "        elif key.lower() == \"author\":\n",
    "            return f'Author: {self.author}'\n",
    "        elif key.lower() == \"pages\":\n",
    "            return f'Number of Pages: #{self.pages}'\n",
    "        else:\n",
    "            return f\"key '{key}' not found\"\n",
    "\n",
    "book1 = Book(\"Learning Python (5th Edition)\", \"Mark Lutz\", 1640)\n",
    "book2 = Book(\"Head First Python (3rd Edition)\",\"Paul Barry\", 720)\n",
    "book3 = Book(\"Object-Oriented Programming in Python: Create Your Own Adventure Game\",\"Irv Kalb\",420)\n",
    "\n",
    "# PRINT OBJECT\n",
    "print(book1)\n",
    "print(book2)\n",
    "print(book3)\n",
    "print()\n",
    "\n",
    "# CHECK IF AN OBJECT IS SATISFIED SPECIFIC CONDITIONS CORRESPONDING TO OTHER\n",
    "print(book1 < book2)\n",
    "print(book1 < book2)\n",
    "print(book1 < book2)\n",
    "print(book1 < book2)\n",
    "print(book1 == book2)\n",
    "print()\n",
    "\n",
    "# ARITHMETIC OPERATIONS\n",
    "print(book1 + book2)\n",
    "print(book1 - book2)\n",
    "print(book1 * book2)\n",
    "print(book1 / book2)\n",
    "print()\n",
    "\n",
    "# CHECK MEMBERSHIP\n",
    "print(\"Lutz\" in book1)\n",
    "print(\"Lutz\" in book2)\n",
    "print()\n",
    "\n",
    "# GET THE VALUE OF A SPECIFIC KEY\n",
    "print(book1[\"title\"])\n",
    "print(book1[\"Author\"])\n",
    "print(book1[\"Pages\"])\n",
    "print(book1[\"font\"])"
   ]
  },
  {
   "cell_type": "markdown",
   "id": "5da29c81-f3f1-4b67-9e93-7452bd80e54c",
   "metadata": {},
   "source": [
    "# Encapsulation\n",
    "- binding the data and methods together and controlling hpow the data can be accessed outside the class"
   ]
  },
  {
   "cell_type": "code",
   "execution_count": 73,
   "id": "a5b87610-85b1-48b2-83b5-91f218e2c62d",
   "metadata": {},
   "outputs": [
    {
     "name": "stdout",
     "output_type": "stream",
     "text": [
      "Asaduzzaman\n",
      "23\n",
      "\n",
      "Alice\n",
      "22\n"
     ]
    }
   ],
   "source": [
    "class Student:\n",
    "    def __init__(self, name, age):\n",
    "        # PRIVATE ATTRIBUTES\n",
    "        self.__name = name\n",
    "        self.__age = age\n",
    "\n",
    "    # GETTER METHODs TO ACCESS THE PRIVATE ATTRIBUTE\n",
    "    @property\n",
    "    def Name(self):\n",
    "        return self.__name\n",
    "\n",
    "    @property\n",
    "    def Age(self):\n",
    "        return self.__age\n",
    "\n",
    "    # SETTER METHOD TO SET THE VALUE OF THE PRIVATE ATTRIBUTES\n",
    "    @Name.setter\n",
    "    def Name(self, new_name):\n",
    "        if new_name == '':\n",
    "            print('Name is empty!')\n",
    "        else:\n",
    "            self.__name = new_name\n",
    "\n",
    "    @Age.setter\n",
    "    def Age(self, new_age):\n",
    "        if new_age < 18:\n",
    "            print('Age must be at least 18')\n",
    "        else:\n",
    "            self.__age = new_age\n",
    "\n",
    "    @Name.deleter\n",
    "    def Name(self):\n",
    "        del self.__name\n",
    "        print('Deleted successfully')\n",
    "\n",
    "    @Age.deleter\n",
    "    def Age(self):\n",
    "        del sel\n",
    "\n",
    "student = Student(\"Asaduzzaman\", 23)\n",
    "print(student.Name)\n",
    "print(student.Age)\n",
    "print()\n",
    "\n",
    "student.Name = 'Alice'\n",
    "student.Age = 22\n",
    "print(student.Name)\n",
    "print(student.Age)\n"
   ]
  }
 ],
 "metadata": {
  "kernelspec": {
   "display_name": "Python 3 (ipykernel)",
   "language": "python",
   "name": "python3"
  },
  "language_info": {
   "codemirror_mode": {
    "name": "ipython",
    "version": 3
   },
   "file_extension": ".py",
   "mimetype": "text/x-python",
   "name": "python",
   "nbconvert_exporter": "python",
   "pygments_lexer": "ipython3",
   "version": "3.13.5"
  }
 },
 "nbformat": 4,
 "nbformat_minor": 5
}
