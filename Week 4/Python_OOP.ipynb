{
 "cells": [
  {
   "cell_type": "markdown",
   "id": "d7fda00e-103f-4b59-854c-f31f2c7e391b",
   "metadata": {},
   "source": [
    "# Pyhton Object-Oriented Programming\n",
    "- Class: Blueprint to create an objecr\n",
    "- Object: Bundle of related attributes and methods"
   ]
  },
  {
   "cell_type": "code",
   "execution_count": 3,
   "id": "6d2b99a8-7df7-4d93-91b6-96ad4af4e10f",
   "metadata": {},
   "outputs": [
    {
     "name": "stdout",
     "output_type": "stream",
     "text": [
      "Mustang\n",
      "2025\n",
      "White\n",
      "False\n"
     ]
    }
   ],
   "source": [
    "# Create a class Car\n",
    "class Car:\n",
    "    def __init__(self,name,year,color,is_for_sale):\n",
    "        \"\"\" Instance variables: belong only to the instance \"\"\"\n",
    "        self.name = name\n",
    "        self.year = year\n",
    "        self.color = color\n",
    "        self.is_for_sale = is_for_sale\n",
    "\n",
    "# Create an object of class Car\n",
    "car_1 = Car('Mustang',2025,'White',False)\n",
    "\n",
    "# Access the instance variables\n",
    "print(car_1.name)\n",
    "print(car_1.year)\n",
    "print(car_1.color)\n",
    "print(car_1.is_for_sale)"
   ]
  },
  {
   "cell_type": "code",
   "execution_count": 11,
   "id": "0207e60c-a5a4-4028-95fd-b3f1c0cbd438",
   "metadata": {},
   "outputs": [
    {
     "name": "stdout",
     "output_type": "stream",
     "text": [
      "Name: Asaduzzaman, Department: CSE\n",
      "Name: Alice, Department: CSE\n",
      "Name: Bob, Department: MATH\n",
      "Graduate year: 2026, total graduated students: 3\n"
     ]
    }
   ],
   "source": [
    "class Student:\n",
    "    \"\"\" Class variable: shared among all instances \"\"\"\n",
    "    graduate_year = 2026\n",
    "    student_numbers = 0\n",
    "    \n",
    "    def __init__(self, name,departemnt):\n",
    "        self.name = name\n",
    "        self.departemnt = departemnt\n",
    "\n",
    "        # Access class variable using class name instead of object name\n",
    "        Student.student_numbers += 1\n",
    "\n",
    "    # User-defined methods\n",
    "    def display_info(self):\n",
    "        print(f'Name: {self.name}, Department: {self.departemnt}')\n",
    "        \n",
    "\n",
    "student_1 = Student('Asaduzzaman','CSE')\n",
    "student_2 = Student('Alice','CSE')\n",
    "student_3 = Student('Bob','MATH')\n",
    "\n",
    "\n",
    "# Access methods\n",
    "student_1.display_info()\n",
    "student_2.display_info()\n",
    "student_3.display_info()\n",
    "\n",
    "\n",
    "# Access the class variable\n",
    "print(f'Graduate year: {Student.graduate_year}, total graduated students: {Student.student_numbers}')"
   ]
  },
  {
   "cell_type": "code",
   "execution_count": 17,
   "id": "fc0925e2-bd67-422a-b6f1-b3769419f6e3",
   "metadata": {},
   "outputs": [
    {
     "name": "stdout",
     "output_type": "stream",
     "text": [
      "Name: Asaduzzaman\n",
      "Age:23\n",
      "Address: Dhaka\n"
     ]
    }
   ],
   "source": [
    "# Use __str__(self) method\n",
    "class Person:\n",
    "    def __init__(self,name,age,address):\n",
    "        self.name = name\n",
    "        self.age = age\n",
    "        self.address = address\n",
    "\n",
    "    # __str__() method to return string object\n",
    "    def __str__(self):\n",
    "        return f'Name: {self.name}\\nAge:{self.age}\\nAddress: {self.address}'\n",
    "        \n",
    "\n",
    "person_1 = Person('Asaduzzaman',23,'Dhaka')\n",
    "\n",
    "# Print the object\n",
    "print(person_1)"
   ]
  },
  {
   "cell_type": "code",
   "execution_count": 1,
   "id": "6f7540bb-e4d1-4c99-bc92-9fba52cce2ed",
   "metadata": {},
   "outputs": [
    {
     "name": "stdout",
     "output_type": "stream",
     "text": [
      "1\n",
      "2\n"
     ]
    }
   ],
   "source": [
    "class Delete:\n",
    "\n",
    "    def __init__(self,number_1, number_2, number_3):\n",
    "        self.number_1 = number_1\n",
    "        self.number_2 = number_2\n",
    "        self.number_3 = number_3\n",
    "\n",
    "number = Delete(1,2,3)\n",
    "\n",
    "print(number.number_1)\n",
    "\n",
    "# Delete instace variable\n",
    "\n",
    "# del number.number_2\n",
    "# print(number.number_2)\n",
    "\n",
    "print(number.number_2)\n",
    "\n",
    "# Delete instance\n",
    "# del number\n",
    "# print(number.number_1)\n",
    "# print(number.number_2)\n",
    "# print(number.number_3)\n"
   ]
  },
  {
   "cell_type": "markdown",
   "id": "41787d4d-ccb8-4d19-b2de-8bec8b52b8b0",
   "metadata": {},
   "source": [
    "# Inheritance\n",
    "- A way where a class inherits an existing class: sub class (child class)\n",
    "- A class is inherited by a class: super class (parent class)"
   ]
  },
  {
   "cell_type": "code",
   "execution_count": 13,
   "id": "38738a4c-cd04-44fb-89b2-f81e4a34cb02",
   "metadata": {},
   "outputs": [
    {
     "name": "stdout",
     "output_type": "stream",
     "text": [
      "Bugs is fleeing\n",
      "Bugs is eating\n",
      "Bugs is sleeping\n",
      "\n",
      "Tony is hunting\n",
      "Tony is eating\n",
      "Tony is sleeping\n",
      "\n",
      "Nemo is fleeing\n",
      "Nemo is eating\n",
      "Nemo is sleeping\n",
      "\n",
      "Nemo is hunting\n",
      "Nemo is eating\n",
      "Nemo is sleeping\n"
     ]
    }
   ],
   "source": [
    "# Grand parent class \n",
    "class Animal:\n",
    "    def __init__(self,name):\n",
    "        self.name = name\n",
    "        self.is_alive = True\n",
    "    def eat(self):\n",
    "        print(f'{self.name} is eating')\n",
    "    def sleep(self):\n",
    "        print(f'{self.name} is sleeping')\n",
    "# Parent classes\n",
    "class Prey(Animal):\n",
    "    def flee(self):\n",
    "        print(f'{self.name} is fleeing')\n",
    "class Predator(Animal):\n",
    "    def hunt(self):\n",
    "        print(f'{self.name} is hunting')\n",
    "\n",
    "# Child classes\n",
    "class Rabbit(Prey):\n",
    "    pass\n",
    "\n",
    "class Hawk(Predator):\n",
    "    pass\n",
    "\n",
    "class Fish(Prey, Predator):\n",
    "    pass\n",
    "\n",
    "\n",
    "rabbit = Rabbit('Bugs')\n",
    "hawk = Hawk('Tony')\n",
    "fish = Fish('Nemo')\n",
    "\n",
    "rabbit.flee()\n",
    "rabbit.eat()\n",
    "rabbit.sleep()\n",
    "print()\n",
    "\n",
    "hawk.hunt()\n",
    "hawk.eat()\n",
    "hawk.sleep()\n",
    "print()\n",
    "\n",
    "fish.flee()\n",
    "fish.eat()\n",
    "fish.sleep()\n",
    "print()\n",
    "\n",
    "fish.hunt()\n",
    "fish.eat()\n",
    "fish.sleep()"
   ]
  },
  {
   "cell_type": "markdown",
   "id": "f297d0f0-ce7a-4aaf-8c91-ad5f79f3360f",
   "metadata": {},
   "source": [
    "# Abstract Class\n",
    "- Cannot be instantiated if has any abstract method in it; otherwise possible"
   ]
  },
  {
   "cell_type": "code",
   "execution_count": 18,
   "id": "e9694140-8740-42c7-b390-46d6334f954d",
   "metadata": {},
   "outputs": [
    {
     "name": "stdout",
     "output_type": "stream",
     "text": [
      "a\n"
     ]
    }
   ],
   "source": [
    "from abc import ABC, abstractmethod\n",
    "class Base(ABC):\n",
    "    def __init__(self):\n",
    "        self.name = 'a'\n",
    "\n",
    "base =Base()\n",
    "print(base.name)"
   ]
  },
  {
   "cell_type": "code",
   "execution_count": 24,
   "id": "ec895c8a-e63c-4e5e-b15e-e9953666bb77",
   "metadata": {},
   "outputs": [
    {
     "name": "stdout",
     "output_type": "stream",
     "text": [
      "An abstract class can have a constructor\n"
     ]
    }
   ],
   "source": [
    "from abc import ABC, abstractmethod\n",
    "class Parent(ABC):\n",
    "    def __init__(self):\n",
    "        self.name = 'An abstract class can have a constructor'\n",
    "    @abstractmethod\n",
    "    def display(self):\n",
    "        pass\n",
    "\n",
    "class Child(Parent):\n",
    "    \n",
    "    def display(self):\n",
    "        print(f'{self.name}')\n",
    "\n",
    "child = Child()\n",
    "\n",
    "child.display()"
   ]
  }
 ],
 "metadata": {
  "kernelspec": {
   "display_name": "Python 3 (ipykernel)",
   "language": "python",
   "name": "python3"
  },
  "language_info": {
   "codemirror_mode": {
    "name": "ipython",
    "version": 3
   },
   "file_extension": ".py",
   "mimetype": "text/x-python",
   "name": "python",
   "nbconvert_exporter": "python",
   "pygments_lexer": "ipython3",
   "version": "3.13.5"
  }
 },
 "nbformat": 4,
 "nbformat_minor": 5
}
