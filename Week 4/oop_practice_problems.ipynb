{
 "cells": [
  {
   "cell_type": "markdown",
   "id": "3b323518-9300-449c-a6c1-c90f8e3979ac",
   "metadata": {},
   "source": [
    "# 🧩 1. Create a Class Student\n",
    "- Attributes: name, age\n",
    "- Methods:\n",
    "\n",
    "- get_info() → returns \"Name: X, Age: Y\""
   ]
  },
  {
   "cell_type": "code",
   "execution_count": 1,
   "id": "c034d82c-1121-42fd-8225-28deb42f3eb9",
   "metadata": {},
   "outputs": [
    {
     "name": "stdout",
     "output_type": "stream",
     "text": [
      "Name: Asaduzzaman, Age: 23\n"
     ]
    }
   ],
   "source": [
    "class Student:\n",
    "    def __init__(self, name, age):\n",
    "        self.name = name\n",
    "        self.age = age\n",
    "    def get_info(self):\n",
    "        return f\"Name: {self.name}, Age: {self.age}\"\n",
    "\n",
    "student = Student(\"Asaduzzaman\", 23)\n",
    "print(student.get_info())"
   ]
  },
  {
   "cell_type": "markdown",
   "id": "9dc05da5-4a07-4ca9-b1a2-946343285078",
   "metadata": {},
   "source": [
    "# 🧩 2. Add a Class Variable\n",
    "- Add a class variable total_students that counts how many objects are created."
   ]
  },
  {
   "cell_type": "code",
   "execution_count": 4,
   "id": "c2646ef9-6059-42cd-8ceb-e420571b8ef0",
   "metadata": {},
   "outputs": [
    {
     "name": "stdout",
     "output_type": "stream",
     "text": [
      "Name: Asaduzzaman, Age: 23\n",
      "Total number of student: 1\n"
     ]
    }
   ],
   "source": [
    "class Student:\n",
    "    # CLASS VARIABLE\n",
    "    total_student = 0\n",
    "    def __init__(self, name, age):\n",
    "        self.name = name\n",
    "        self.age = age\n",
    "        Student.total_student += 1\n",
    "    def get_info(self):\n",
    "        return f\"Name: {self.name}, Age: {self.age}\"\n",
    "\n",
    "student = Student(\"Asaduzzaman\", 23)\n",
    "print(student.get_info())\n",
    "print(f\"Total number of student: {Student.total_student}\")"
   ]
  },
  {
   "cell_type": "markdown",
   "id": "d8ab524f-b513-4e7d-a2f4-b2637f9e9e6d",
   "metadata": {},
   "source": [
    "# 🧩 3. Constructor and Destructor\n",
    "- Create a class Car with attributes brand and model.\n",
    "- Print a message when the object is created and destroyed."
   ]
  },
  {
   "cell_type": "code",
   "execution_count": 21,
   "id": "c9fb9ac0-1344-42a9-9bbc-e32e3ef1b44d",
   "metadata": {},
   "outputs": [
    {
     "name": "stdout",
     "output_type": "stream",
     "text": [
      "Toyota, Camry created successfully.\n",
      "Honda, Civic created successfully.\n",
      "Honda, Civic deleted successfully!\n",
      "Toyota, Camry deleted successfully!\n",
      "Honda, Civic deleted successfully!\n"
     ]
    }
   ],
   "source": [
    "class Car:\n",
    "    def __init__(self, brand, model):\n",
    "        self.brand = brand\n",
    "        self.model = model\n",
    "\n",
    "        # MESSAGE TO TELL OBJECT IS SUCCESSFULLY CREATED\n",
    "        print(f\"{self.brand}, {self.model} created successfully.\")\n",
    "        \n",
    "    def __del__(self):\n",
    "        print(f\"{self.brand}, {self.model} deleted successfully!\")\n",
    "\n",
    "    def display_info(self):\n",
    "        print(f\"Brand: {self.brand}, Model: {self.model}\")\n",
    "\n",
    "# CREATING CAR OBJECT\n",
    "car1 = Car(\"Toyota\", \"Camry\")\n",
    "car2 = Car(\"Honda\", \"Civic\")\n",
    "\n",
    "# DELETING THE CAR\n",
    "del car1\n",
    "del car2"
   ]
  },
  {
   "cell_type": "markdown",
   "id": "abcdd390-7ac7-4bc1-ba9e-f1b6d1c72b4f",
   "metadata": {},
   "source": [
    "# 🧩 4. Private Attributes (Encapsulation)\n",
    "- Make a class BankAccount with private attribute __balance.\n",
    "- Use methods deposit() and withdraw() to modify balance safely."
   ]
  },
  {
   "cell_type": "code",
   "execution_count": 46,
   "id": "9abf04b9-faea-48a4-9c64-4d29b65dfe02",
   "metadata": {},
   "outputs": [
    {
     "name": "stdout",
     "output_type": "stream",
     "text": [
      "SUCCESSFULLY DEPOSITED 10 TK\n",
      "10010\n",
      "\n",
      "SUCCESSFULLY WITHDRAWN 1000 tk\n",
      "9010\n"
     ]
    }
   ],
   "source": [
    "class BankAccount:\n",
    "    def __init__(self, balance):\n",
    "        self.__balance = balance\n",
    "\n",
    "    # GETTER METHOD\n",
    "    @property\n",
    "    def Balance(self):\n",
    "        return self.__balance\n",
    "\n",
    "    # SETTER METHOD\n",
    "    @Balance.setter\n",
    "    def Balance(self, value):\n",
    "        if value > 0:\n",
    "            self.__balance = value\n",
    "        else:\n",
    "            print(\"Balance must be greater than zero!\")\n",
    "\n",
    "    def deposit(self, amount):\n",
    "        if amount > 0:\n",
    "            self.__balance += amount\n",
    "            print(f\"SUCCESSFULLY DEPOSITED {amount} TK\")\n",
    "        else:\n",
    "            print(\"Amount must be greater than zero!\")\n",
    "\n",
    "    def withdraw(self, amount):\n",
    "        if amount > self.__balance or amount < 100:\n",
    "            print(\"WITHDRAW DENIED!\")\n",
    "        else:\n",
    "            if self.__balance - amount < 100:\n",
    "                print(\"WITHDRAW DENIED!\")\n",
    "\n",
    "            else:\n",
    "                self.__balance -= amount\n",
    "                print(f\"SUCCESSFULLY WITHDRAWN {amount} tk\")\n",
    "\n",
    "account1 = BankAccount(10000)\n",
    "account1.deposit(10)     \n",
    "print(account1.Balance)\n",
    "print()\n",
    "\n",
    "account1.withdraw(1000)\n",
    "print(account1.Balance)\n"
   ]
  },
  {
   "cell_type": "markdown",
   "id": "ee1c67bf-f11d-48d2-a993-839f6dc91c90",
   "metadata": {},
   "source": [
    "# 🧩 5. Inheritance Example\n",
    "- Then call speak() for both subclasses.\n",
    "# 🧩 6. Polymorphism Example\n",
    "- Write a function animal_sound(animal) that calls animal.speak() for any subclass instance."
   ]
  },
  {
   "cell_type": "code",
   "execution_count": 60,
   "id": "cb62eb54-48e0-4247-a7cc-90f0f0b5106d",
   "metadata": {},
   "outputs": [
    {
     "name": "stdout",
     "output_type": "stream",
     "text": [
      "Woof!\n",
      "Meow!\n"
     ]
    }
   ],
   "source": [
    "class Animal:\n",
    "    def speak(self): pass\n",
    "\n",
    "\n",
    "class Dog(Animal):\n",
    "    def speak(self):\n",
    "        print(\"Woof!\")\n",
    "\n",
    "class Cat(Animal):\n",
    "    def speak(self): \n",
    "        print(\"Meow!\")\n",
    "\n",
    "def animal_sound(animal):\n",
    "    animal.speak()\n",
    "\n",
    "\n",
    "dog = Dog()\n",
    "cat = Cat()\n",
    "\n",
    "# CALLNG SPEAK METHOD\n",
    "# animal1.speak()\n",
    "# animal2.speak()\n",
    "\n",
    "# CALLING ANIMAL_SOUND METHOD\n",
    "animal_sound(dog)\n",
    "animal_sound(cat)"
   ]
  },
  {
   "cell_type": "markdown",
   "id": "953d7d52-b42c-4bf3-87df-3890cb9082cc",
   "metadata": {},
   "source": [
    "# 🧩 7. Class vs Instance Variables\n",
    "- Demonstrate difference between:\n",
    "- class Employee:\n",
    "    company = \"Google\"\n",
    "    def __init__(self, name):\n",
    "        self.name = name\n",
    "- Create two objects, change one’s company attribute, and observe behavior."
   ]
  },
  {
   "cell_type": "code",
   "execution_count": 73,
   "id": "c1d9a8b4-c7d6-42f5-84b6-7b14e318fb5a",
   "metadata": {},
   "outputs": [
    {
     "name": "stdout",
     "output_type": "stream",
     "text": [
      "Name; Asaduzzaman, Company: Google\n",
      "Name; Alice, Company: Google\n",
      "Name; Alice, Company: Google\n",
      "Samsung\n",
      "Amazon\n"
     ]
    }
   ],
   "source": [
    "class Employee:\n",
    "    company = \"Google\"\n",
    "\n",
    "    def __init__(self, name):\n",
    "        self.name = name\n",
    "\n",
    "    def display_info(self):\n",
    "        print(f\"Name; {self.name}, Company: {Employee.company}\")\n",
    "\n",
    "employee1 = Employee(\"Asaduzzaman\")\n",
    "employee2 = Employee(\"Alice\")\n",
    "employee1.display_info()\n",
    "employee2.display_info()\n",
    "\n",
    "# CHANGE EMPLOYEE 2 COMPANY NAME\n",
    "employee2.company = \"Amazon\"\n",
    "employee2.display_info()\n",
    "\n",
    "Employee.company = \"Samsung\"\n",
    "\n",
    "print(employee1.company)\n",
    "print(employee2.company)"
   ]
  },
  {
   "cell_type": "markdown",
   "id": "f7433c64-893b-4377-9078-027fe0c2a125",
   "metadata": {},
   "source": [
    "# 🧩 9. Operator Overloading\n",
    "- Overload + operator for a class Vector to add two vectors:\n",
    "- v1 + v2 → (x1+x2, y1+y2)"
   ]
  },
  {
   "cell_type": "code",
   "execution_count": 74,
   "id": "2a60274b-dc49-4c87-a178-68b1e9293a76",
   "metadata": {},
   "outputs": [
    {
     "name": "stdout",
     "output_type": "stream",
     "text": [
      "(7, 9)\n"
     ]
    }
   ],
   "source": [
    "class Vector:\n",
    "    def __init__(self, x, y):\n",
    "        self.x = x\n",
    "        self.y = y\n",
    "\n",
    "    def __add__(self, other):\n",
    "        return Vector(self.x + other.x, self.y + other.y)\n",
    "    def __str__(self):\n",
    "        return f\"({self.x}, {self.y})\"\n",
    "\n",
    "vector_1 = Vector(4,6)\n",
    "vector_2 = Vector(3,3)\n",
    "\n",
    "print(vector_1 + vector_2)"
   ]
  }
 ],
 "metadata": {
  "kernelspec": {
   "display_name": "Python 3 (ipykernel)",
   "language": "python",
   "name": "python3"
  },
  "language_info": {
   "codemirror_mode": {
    "name": "ipython",
    "version": 3
   },
   "file_extension": ".py",
   "mimetype": "text/x-python",
   "name": "python",
   "nbconvert_exporter": "python",
   "pygments_lexer": "ipython3",
   "version": "3.13.5"
  }
 },
 "nbformat": 4,
 "nbformat_minor": 5
}
