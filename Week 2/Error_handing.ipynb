{
 "cells": [
  {
   "cell_type": "markdown",
   "id": "ac0dad2e-6545-464a-abc5-4bea13a36e7d",
   "metadata": {},
   "source": [
    "# Error Handling (Exception Handlnig)\n",
    "- An exception is an event that interrupts the flow of a code"
   ]
  },
  {
   "cell_type": "code",
   "execution_count": 1,
   "id": "323579e2-3594-4ffb-b2f5-752d2cf54869",
   "metadata": {},
   "outputs": [
    {
     "ename": "ZeroDivisionError",
     "evalue": "division by zero",
     "output_type": "error",
     "traceback": [
      "\u001b[1;31m---------------------------------------------------------------------------\u001b[0m",
      "\u001b[1;31mZeroDivisionError\u001b[0m                         Traceback (most recent call last)",
      "Cell \u001b[1;32mIn[1], line 1\u001b[0m\n\u001b[1;32m----> 1\u001b[0m \u001b[38;5;241m1\u001b[39m \u001b[38;5;241m/\u001b[39m \u001b[38;5;241m0\u001b[39m\n",
      "\u001b[1;31mZeroDivisionError\u001b[0m: division by zero"
     ]
    }
   ],
   "source": [
    "1 / 0"
   ]
  },
  {
   "cell_type": "code",
   "execution_count": 10,
   "id": "de4e814c-a1e2-40fb-a6d2-262608a09b12",
   "metadata": {},
   "outputs": [
    {
     "name": "stdin",
     "output_type": "stream",
     "text": [
      "Enter an integer number:  12\n",
      "Enter another integer number:  sds\n"
     ]
    },
    {
     "name": "stdout",
     "output_type": "stream",
     "text": [
      "Enter integer number only!\n",
      "Successfully finished execution\n"
     ]
    }
   ],
   "source": [
    "# Exception handling using try...except\n",
    "\n",
    "try:\n",
    "    numerator = int(input('Enter an integer number: '))\n",
    "    denominator = int(input('Enter another integer number: '))\n",
    "    result = numerator / denominator\n",
    "except ZeroDivisionError:\n",
    "    print('Can not divide by zero!')\n",
    "except ValueError:\n",
    "    print('Enter integer number only!')\n",
    "except Exception:\n",
    "    print('Something went wrong!')\n",
    "else:\n",
    "    print(result)\n",
    "finally:\n",
    "    print('Successfully finished execution')\n"
   ]
  }
 ],
 "metadata": {
  "kernelspec": {
   "display_name": "Python 3 (ipykernel)",
   "language": "python",
   "name": "python3"
  },
  "language_info": {
   "codemirror_mode": {
    "name": "ipython",
    "version": 3
   },
   "file_extension": ".py",
   "mimetype": "text/x-python",
   "name": "python",
   "nbconvert_exporter": "python",
   "pygments_lexer": "ipython3",
   "version": "3.13.5"
  }
 },
 "nbformat": 4,
 "nbformat_minor": 5
}
