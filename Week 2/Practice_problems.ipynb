{
 "cells": [
  {
   "cell_type": "markdown",
   "id": "8b68437c-994f-41b3-a17d-a73da4961201",
   "metadata": {},
   "source": [
    "# 🧩 1. Even or Odd Function\n",
    "\n",
    "- Write a function is_even(n) that returns True if a number is even, otherwise False.\n",
    "- Then test it for a list of numbers [1, 4, 7, 10, 15]."
   ]
  },
  {
   "cell_type": "code",
   "execution_count": 16,
   "id": "594a5a31-fa76-4991-abb6-ebb0b2459dde",
   "metadata": {},
   "outputs": [
    {
     "name": "stdout",
     "output_type": "stream",
     "text": [
      "2 is even? True\n",
      "1 is even? False\n",
      "4 is even? True\n",
      "7 is even? False\n",
      "10 is even? True\n",
      "15 is even? False\n",
      "\n"
     ]
    }
   ],
   "source": [
    "def is_even(n):\n",
    "    return n % 2 == 0\n",
    "print(f'2 is even? {is_even(2)}')\n",
    "\n",
    "numbers = [1,4,7,10,15]\n",
    "for number in numbers:\n",
    "    print(f'{number} is even? {is_even(number)}')\n",
    "print()\n",
    "# is_even = lambda n: n % 2 == 0\n",
    "# print(is_even(4))\n",
    "\n",
    "# for n in numbers:\n",
    "#     print(is_even(n))\n",
    "    "
   ]
  },
  {
   "cell_type": "markdown",
   "id": "5cec0bc3-02a8-42d6-93b0-af5198eee35d",
   "metadata": {},
   "source": [
    "# 🧩 2. Factorial Calculator\n",
    "- Create a function factorial(n) that returns the factorial of a number using a loop (not recursion).\n",
    "- Example: factorial(5) → 120"
   ]
  },
  {
   "cell_type": "code",
   "execution_count": 49,
   "id": "ca0f404e-2152-4472-ab41-28fc5d0ba07d",
   "metadata": {},
   "outputs": [
    {
     "name": "stdout",
     "output_type": "stream",
     "text": [
      "120\n"
     ]
    }
   ],
   "source": [
    "# Using while loop\n",
    "def factorial(n):\n",
    "    i = 1\n",
    "    result = 1\n",
    "    while i <= n:\n",
    "        result = result * i \n",
    "        i = i + 1\n",
    "    return result\n",
    "\n",
    "print(factorial(5))"
   ]
  },
  {
   "cell_type": "code",
   "execution_count": 50,
   "id": "87bc1410-c9a3-4aa7-a78d-d0131d4b8f02",
   "metadata": {},
   "outputs": [
    {
     "name": "stdout",
     "output_type": "stream",
     "text": [
      "120\n"
     ]
    }
   ],
   "source": [
    "# Without recursion using for loop\n",
    "def fact(n):\n",
    "    result = 1\n",
    "    for i in range(1,n + 1):\n",
    "        result = result * i\n",
    "    return result\n",
    "print(fact(5))\n",
    "\n",
    "# With recursion\n",
    "# def fact(n):\n",
    "#     if n == 0 or n == 1:\n",
    "#         return 1\n",
    "#     return n * fact(n - 1)\n",
    "# print(fact(5))"
   ]
  },
  {
   "cell_type": "markdown",
   "id": "18183efc-5406-48ad-be56-fca58554e727",
   "metadata": {},
   "source": [
    "# 🧩 3. Reverse String\n",
    "- Write a function reverse_string(text) that returns the reversed version of any string.\n",
    "- Example: reverse_string(\"python\") → \"nohtyp\""
   ]
  },
  {
   "cell_type": "code",
   "execution_count": 10,
   "id": "6f08e4a0-9ba3-4e16-b675-df72e6d60fd1",
   "metadata": {},
   "outputs": [
    {
     "name": "stdout",
     "output_type": "stream",
     "text": [
      "ecitcarp\n"
     ]
    }
   ],
   "source": [
    "def reverse_string(text):\n",
    "    reverse_text = text[::-1]\n",
    "    return reverse_text \n",
    "\n",
    "print(reverse_string('practice'))"
   ]
  },
  {
   "cell_type": "markdown",
   "id": "f9133659-f50b-43a3-83e2-043949cb4220",
   "metadata": {},
   "source": [
    "# 🧩 4. Count Vowels\n",
    "- Define a function count_vowels(word) that returns how many vowels are in a string.\n",
    "- Make it case-insensitive."
   ]
  },
  {
   "cell_type": "code",
   "execution_count": 21,
   "id": "260a7aad-ab1c-4d5d-8b00-e1490f395e60",
   "metadata": {},
   "outputs": [
    {
     "name": "stdout",
     "output_type": "stream",
     "text": [
      "['e', 'e', 'u', 'i', 'o']\n",
      "5\n"
     ]
    }
   ],
   "source": [
    "def count_vowel(word):\n",
    "    vowel = list()\n",
    "    for character in word.lower():\n",
    "        if character.isalpha():\n",
    "            if character in 'aeiou':\n",
    "                vowel.append(character)\n",
    "    return vowel\n",
    "print(count_vowel('Test the function 1234@7'))\n",
    "print(len(count_vowel('Test the function 1234@7')))\n"
   ]
  },
  {
   "cell_type": "markdown",
   "id": "0b888f97-6602-45ab-87b1-97dffa0da08e",
   "metadata": {},
   "source": [
    "# 🧩 5. Simple Calculator\n",
    "- Write a function calculate(a, b, operation) that performs:\n",
    "\n",
    "    - add → a + b\n",
    "\n",
    "    - subtract → a - b\n",
    "\n",
    "    - multiply → a * b\n",
    "\n",
    "    - divide → a / b\n",
    "    - Handle division by zero with a message instead of an error."
   ]
  },
  {
   "cell_type": "code",
   "execution_count": 32,
   "id": "31ad684c-cb97-49b5-af07-b4f9149bb1a4",
   "metadata": {},
   "outputs": [
    {
     "name": "stdout",
     "output_type": "stream",
     "text": [
      "10\n"
     ]
    }
   ],
   "source": [
    "def calculate(a, b, operation):\n",
    "    if operation == 'add':\n",
    "        return a + b\n",
    "    elif operation == 'subtract':\n",
    "        return a - b\n",
    "    elif operation == 'multiply':\n",
    "        return a * b\n",
    "    elif operation == 'divide':\n",
    "        try:\n",
    "            result = a / b\n",
    "        except ZeroDivisionError:\n",
    "            return 'Can not divide by zero :('\n",
    "        else:\n",
    "            return result\n",
    "    else:\n",
    "        return'Invalid operation!'\n",
    "\n",
    "\n",
    "print(calculate(10,0,'add'))"
   ]
  },
  {
   "cell_type": "markdown",
   "id": "f6d97945-eafa-47e7-a37e-a9aaf5950646",
   "metadata": {},
   "source": [
    "# 🧩 6. Find Maximum of Three\n",
    "- Define a function max_of_three(a, b, c) that returns the largest number."
   ]
  },
  {
   "cell_type": "code",
   "execution_count": 33,
   "id": "65a0873a-5c1e-4f96-b2b0-d33a29462b1f",
   "metadata": {},
   "outputs": [
    {
     "name": "stdout",
     "output_type": "stream",
     "text": [
      " Largest  number is 9\n"
     ]
    }
   ],
   "source": [
    "def max_of_three(a,b,c):\n",
    "    return max(a, b, c)\n",
    "\n",
    "print(f' Largest  number is {max_of_three(4,7,9)}')"
   ]
  },
  {
   "cell_type": "markdown",
   "id": "d820df5d-70be-4f82-8c19-82fe1000cdd0",
   "metadata": {},
   "source": [
    "# 🧩 7. Palindrome Checker\n",
    "- Function is_palindrome(word) → returns True if the string is same when reversed.\n",
    "- Example: \"madam\", \"level\" → True"
   ]
  },
  {
   "cell_type": "code",
   "execution_count": 44,
   "id": "69ccab8d-79a1-414d-8685-2423dad33a78",
   "metadata": {},
   "outputs": [
    {
     "name": "stdout",
     "output_type": "stream",
     "text": [
      "True\n"
     ]
    }
   ],
   "source": [
    "def is_palindrome(word):\n",
    "    reverse_word = word[::-1]\n",
    "    if reverse_word == word:\n",
    "        return True\n",
    "    return False\n",
    "\n",
    "print(is_palindrome('madam'.lower()))"
   ]
  },
  {
   "cell_type": "markdown",
   "id": "9819eb9e-1e5f-4ea3-9e22-c1fe20baeec4",
   "metadata": {},
   "source": [
    "# 🧩 8. Prime Number Tester\n",
    "- Write a function is_prime(n) that returns whether a number is prime or not.\n",
    "- Then print all prime numbers between 1 and 50."
   ]
  },
  {
   "cell_type": "code",
   "execution_count": 92,
   "id": "985a5bae-b15a-4cc9-a992-eb00318dec0c",
   "metadata": {},
   "outputs": [
    {
     "name": "stdout",
     "output_type": "stream",
     "text": [
      "2 is prime number\n",
      "3 is prime number\n",
      "4 is not prime number\n",
      "5 is prime number\n",
      "6 is not prime number\n",
      "7 is prime number\n",
      "8 is not prime number\n",
      "9 is not prime number\n",
      "10 is not prime number\n",
      "11 is prime number\n",
      "12 is not prime number\n",
      "13 is prime number\n",
      "14 is not prime number\n",
      "15 is not prime number\n",
      "16 is not prime number\n",
      "17 is prime number\n",
      "18 is not prime number\n",
      "19 is prime number\n",
      "20 is not prime number\n",
      "21 is not prime number\n",
      "22 is not prime number\n",
      "23 is prime number\n",
      "24 is not prime number\n",
      "25 is not prime number\n",
      "26 is not prime number\n",
      "27 is not prime number\n",
      "28 is not prime number\n",
      "29 is prime number\n",
      "30 is not prime number\n",
      "31 is prime number\n",
      "32 is not prime number\n",
      "33 is not prime number\n",
      "34 is not prime number\n",
      "35 is not prime number\n",
      "36 is not prime number\n",
      "37 is prime number\n",
      "38 is not prime number\n",
      "39 is not prime number\n",
      "40 is not prime number\n",
      "41 is prime number\n",
      "42 is not prime number\n",
      "43 is prime number\n",
      "44 is not prime number\n",
      "45 is not prime number\n",
      "46 is not prime number\n",
      "47 is prime number\n",
      "48 is not prime number\n",
      "49 is not prime number\n",
      "50 is not prime number\n",
      "\n",
      "All the prime numbers between 1 and 50: [2, 3, 5, 7, 11, 13, 17, 19, 23, 29, 31, 37, 41, 43, 47]\n"
     ]
    }
   ],
   "source": [
    "def is_prime(numbers):\n",
    "    prime = list()\n",
    "    not_prime = list()\n",
    "    for number in range(1,numbers+1):\n",
    "        \n",
    "        if number == 1:\n",
    "            not_prime.append(number)\n",
    "        else:\n",
    "            count = 0\n",
    "            i = 2\n",
    "            while i < number:\n",
    "                if number % i == 0:\n",
    "                    count = count + 1\n",
    "                    break\n",
    "                i = i + 1\n",
    "            if count == 1:\n",
    "                print(f'{number} is not prime number')\n",
    "                not_prime.append(number)\n",
    "            else:\n",
    "                print(f'{number} is prime number')\n",
    "                prime.append(number)\n",
    "    print()\n",
    "    print(f'All the prime numbers between 1 and {numbers}: {prime}')\n",
    "    # print(f'All the non-prime numbers between 1 and {numbers}: {not_prime}')\n",
    "    \n",
    "\n",
    "is_prime(50)"
   ]
  },
  {
   "cell_type": "markdown",
   "id": "bdfed787-41d5-496d-9b97-48a4b935ea61",
   "metadata": {},
   "source": [
    "# 🧩 9. List Statistics\n",
    "- Define a function list_stats(numbers) that returns a tuple (sum, average, max, min)."
   ]
  },
  {
   "cell_type": "code",
   "execution_count": 101,
   "id": "a9bd9a4f-b1ff-4ac9-aa9f-8bbd8eb377e4",
   "metadata": {},
   "outputs": [
    {
     "name": "stdout",
     "output_type": "stream",
     "text": [
      "[182, 36.4, 89, 10]\n"
     ]
    }
   ],
   "source": [
    "def list_stats(numbers):\n",
    "    stats_list = list()\n",
    "    stats_list.append(sum(numbers))\n",
    "    stats_list.append((sum(numbers) / len(numbers)))\n",
    "    stats_list.append(max(numbers))\n",
    "    stats_list.append(min(numbers))\n",
    "    return (stats_list)\n",
    "numbers = [12,37,89,34,10]\n",
    "print(list_stats(numbers))"
   ]
  },
  {
   "cell_type": "markdown",
   "id": "3533451a-5d4c-4dbb-967c-2a38ebb9af86",
   "metadata": {},
   "source": [
    "# 🧩 10. Custom Greeting Function\n",
    "- Function greet(name=\"Guest\", age=None) that prints:\n",
    "\n",
    "    - \"Hello, Alice!\" if only name is given\n",
    "\n",
    "    - \"Hello, Alice! You are 25 years old.\" if age is provided"
   ]
  },
  {
   "cell_type": "code",
   "execution_count": 119,
   "id": "c830912a-7698-4c5d-b86e-3f0b37899ecb",
   "metadata": {},
   "outputs": [
    {
     "name": "stdout",
     "output_type": "stream",
     "text": [
      "\"Hello, Asaduzzaman!\"\n",
      "\"Hello, Asaduzzaman! You are 23 years old\"\n"
     ]
    }
   ],
   "source": [
    "def greet(name = 'Guest', age = 'None'):\n",
    "    if name and age != 'None':\n",
    "        print(f'\"Hello, {name}! You are {age} years old\"')\n",
    "    else:\n",
    "        print(f'\"Hello, {name}!\"')\n",
    "\n",
    "\n",
    "greet('Asaduzzaman')\n",
    "greet('Asaduzzaman',23)"
   ]
  }
 ],
 "metadata": {
  "kernelspec": {
   "display_name": "Python 3 (ipykernel)",
   "language": "python",
   "name": "python3"
  },
  "language_info": {
   "codemirror_mode": {
    "name": "ipython",
    "version": 3
   },
   "file_extension": ".py",
   "mimetype": "text/x-python",
   "name": "python",
   "nbconvert_exporter": "python",
   "pygments_lexer": "ipython3",
   "version": "3.13.5"
  }
 },
 "nbformat": 4,
 "nbformat_minor": 5
}
