{
 "cells": [
  {
   "cell_type": "markdown",
   "id": "8b68437c-994f-41b3-a17d-a73da4961201",
   "metadata": {},
   "source": [
    "# 🧩 1. Even or Odd Function\n",
    "\n",
    "- Write a function is_even(n) that returns True if a number is even, otherwise False.\n",
    "- Then test it for a list of numbers [1, 4, 7, 10, 15]."
   ]
  },
  {
   "cell_type": "code",
   "execution_count": 16,
   "id": "594a5a31-fa76-4991-abb6-ebb0b2459dde",
   "metadata": {},
   "outputs": [
    {
     "name": "stdout",
     "output_type": "stream",
     "text": [
      "2 is even? True\n",
      "1 is even? False\n",
      "4 is even? True\n",
      "7 is even? False\n",
      "10 is even? True\n",
      "15 is even? False\n",
      "\n"
     ]
    }
   ],
   "source": [
    "def is_even(n):\n",
    "    return n % 2 == 0\n",
    "print(f'2 is even? {is_even(2)}')\n",
    "\n",
    "numbers = [1,4,7,10,15]\n",
    "for number in numbers:\n",
    "    print(f'{number} is even? {is_even(number)}')\n",
    "print()\n",
    "# is_even = lambda n: n % 2 == 0\n",
    "# print(is_even(4))\n",
    "\n",
    "# for n in numbers:\n",
    "#     print(is_even(n))\n",
    "    "
   ]
  },
  {
   "cell_type": "markdown",
   "id": "5cec0bc3-02a8-42d6-93b0-af5198eee35d",
   "metadata": {},
   "source": [
    "# 🧩 2. Factorial Calculator\n",
    "- Create a function factorial(n) that returns the factorial of a number using a loop (not recursion).\n",
    "- Example: factorial(5) → 120"
   ]
  },
  {
   "cell_type": "code",
   "execution_count": 49,
   "id": "ca0f404e-2152-4472-ab41-28fc5d0ba07d",
   "metadata": {},
   "outputs": [
    {
     "name": "stdout",
     "output_type": "stream",
     "text": [
      "120\n"
     ]
    }
   ],
   "source": [
    "# Using while loop\n",
    "def factorial(n):\n",
    "    i = 1\n",
    "    result = 1\n",
    "    while i <= n:\n",
    "        result = result * i \n",
    "        i = i + 1\n",
    "    return result\n",
    "\n",
    "print(factorial(5))"
   ]
  },
  {
   "cell_type": "code",
   "execution_count": 50,
   "id": "87bc1410-c9a3-4aa7-a78d-d0131d4b8f02",
   "metadata": {},
   "outputs": [
    {
     "name": "stdout",
     "output_type": "stream",
     "text": [
      "120\n"
     ]
    }
   ],
   "source": [
    "# Without recursion using for loop\n",
    "def fact(n):\n",
    "    result = 1\n",
    "    for i in range(1,n + 1):\n",
    "        result = result * i\n",
    "    return result\n",
    "print(fact(5))\n",
    "\n",
    "# With recursion\n",
    "# def fact(n):\n",
    "#     if n == 0 or n == 1:\n",
    "#         return 1\n",
    "#     return n * fact(n - 1)\n",
    "# print(fact(5))"
   ]
  },
  {
   "cell_type": "code",
   "execution_count": 77,
   "id": "68083efd-7e79-4981-bbca-1de68ead9484",
   "metadata": {},
   "outputs": [
    {
     "name": "stdout",
     "output_type": "stream",
     "text": [
      "madaml\n"
     ]
    }
   ],
   "source": [
    "string = 'madam'\n",
    "reverse_string = string[-3:]\n",
    "print(reverse_string)"
   ]
  }
 ],
 "metadata": {
  "kernelspec": {
   "display_name": "Python 3 (ipykernel)",
   "language": "python",
   "name": "python3"
  },
  "language_info": {
   "codemirror_mode": {
    "name": "ipython",
    "version": 3
   },
   "file_extension": ".py",
   "mimetype": "text/x-python",
   "name": "python",
   "nbconvert_exporter": "python",
   "pygments_lexer": "ipython3",
   "version": "3.13.5"
  }
 },
 "nbformat": 4,
 "nbformat_minor": 5
}
