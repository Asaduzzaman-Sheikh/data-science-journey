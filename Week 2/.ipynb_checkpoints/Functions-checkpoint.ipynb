{
 "cells": [
  {
   "cell_type": "markdown",
   "id": "db14cda9-1f3e-49ba-9fde-7997c9c876ff",
   "metadata": {},
   "source": [
    "# Functions\n",
    "- A block of code which only runs when it is called"
   ]
  },
  {
   "cell_type": "code",
   "execution_count": 12,
   "id": "96c104c9-0e2d-432d-8eeb-dcd871ab01ef",
   "metadata": {},
   "outputs": [
    {
     "name": "stdout",
     "output_type": "stream",
     "text": [
      "First function\n"
     ]
    }
   ],
   "source": [
    "# Create a function\n",
    "def first_function():\n",
    "    print('First function')\n",
    "\n",
    "# Call the function\n",
    "first_function()"
   ]
  },
  {
   "cell_type": "code",
   "execution_count": 14,
   "id": "e2096797-9a7d-4276-bf55-08672888b3af",
   "metadata": {},
   "outputs": [
    {
     "name": "stdout",
     "output_type": "stream",
     "text": [
      "Return function\n"
     ]
    }
   ],
   "source": [
    "# Function with return statement\n",
    "def return_func():\n",
    "    return 'Return function'\n",
    "print(return_func())"
   ]
  },
  {
   "cell_type": "code",
   "execution_count": 17,
   "id": "6e6ea59a-fb40-4cd3-b1a3-480711569780",
   "metadata": {},
   "outputs": [
    {
     "name": "stdout",
     "output_type": "stream",
     "text": [
      "Result: 13\n",
      "Result: 1\n",
      "Result: 42\n",
      "Result: 1.17\n"
     ]
    }
   ],
   "source": [
    "# Function with parameters\n",
    "def add_func(x, y):\n",
    "    return f'Result: {x + y}'\n",
    "\n",
    "def subtract_func(x, y):\n",
    "    return f'Result: {x - y}'\n",
    "\n",
    "def multiply_func(x, y):\n",
    "    return f'Result: {x * y}'\n",
    "\n",
    "def division_func(x, y):\n",
    "    return f'Result: {x / y:.2f}'\n",
    "\n",
    "\n",
    "# Calling function\n",
    "print(add_func(7, 6))\n",
    "print(subtract_func(7, 6))\n",
    "print(multiply_func(7, 6))\n",
    "print(division_func(7, 6))"
   ]
  },
  {
   "cell_type": "code",
   "execution_count": 35,
   "id": "3890d661-6543-40c9-bd72-892049f7d4f3",
   "metadata": {},
   "outputs": [
    {
     "name": "stdout",
     "output_type": "stream",
     "text": [
      "Hello, Asaduzzaman\n",
      "You're 23 years old\n",
      "\n",
      "Passing the function\n"
     ]
    }
   ],
   "source": [
    "# Default parameter\n",
    "def default_func(name, age = 22):\n",
    "    print(f'Hello, {name}')\n",
    "    print(f'You\\'re {age} years old')\n",
    "\n",
    "default_func('Asaduzzaman', 23)\n",
    "\n",
    "# Pass a function\n",
    "def pass_func():\n",
    "    pass\n",
    "print()\n",
    "print('Passing the function')"
   ]
  },
  {
   "cell_type": "code",
   "execution_count": 41,
   "id": "41308195-4166-4d04-9515-c71a5977af98",
   "metadata": {},
   "outputs": [
    {
     "name": "stdout",
     "output_type": "stream",
     "text": [
      "1\n",
      "3\n",
      "6\n",
      "10\n",
      "15\n",
      "21\n"
     ]
    },
    {
     "data": {
      "text/plain": [
       "21"
      ]
     },
     "execution_count": 41,
     "metadata": {},
     "output_type": "execute_result"
    }
   ],
   "source": [
    "# Recursion\n",
    "def recursion_func(n):\n",
    "    if n > 0:\n",
    "        result = n + recursion_func(n - 1)\n",
    "        print(result)\n",
    "    else:\n",
    "        result = 0\n",
    "    return result\n",
    "\n",
    "# Calling function\n",
    "recursion_func(6)"
   ]
  }
 ],
 "metadata": {
  "kernelspec": {
   "display_name": "Python 3 (ipykernel)",
   "language": "python",
   "name": "python3"
  },
  "language_info": {
   "codemirror_mode": {
    "name": "ipython",
    "version": 3
   },
   "file_extension": ".py",
   "mimetype": "text/x-python",
   "name": "python",
   "nbconvert_exporter": "python",
   "pygments_lexer": "ipython3",
   "version": "3.13.5"
  }
 },
 "nbformat": 4,
 "nbformat_minor": 5
}
