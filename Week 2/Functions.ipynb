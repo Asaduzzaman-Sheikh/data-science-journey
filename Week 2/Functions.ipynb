{
 "cells": [
  {
   "cell_type": "markdown",
   "id": "db14cda9-1f3e-49ba-9fde-7997c9c876ff",
   "metadata": {},
   "source": [
    "# Functions\n",
    "- A block of code which only runs when it is called"
   ]
  },
  {
   "cell_type": "code",
   "execution_count": 12,
   "id": "96c104c9-0e2d-432d-8eeb-dcd871ab01ef",
   "metadata": {},
   "outputs": [
    {
     "name": "stdout",
     "output_type": "stream",
     "text": [
      "First function\n"
     ]
    }
   ],
   "source": [
    "# Create a function\n",
    "def first_function():\n",
    "    print('First function')\n",
    "\n",
    "# Call the function\n",
    "first_function()"
   ]
  },
  {
   "cell_type": "code",
   "execution_count": 14,
   "id": "e2096797-9a7d-4276-bf55-08672888b3af",
   "metadata": {},
   "outputs": [
    {
     "name": "stdout",
     "output_type": "stream",
     "text": [
      "Return function\n"
     ]
    }
   ],
   "source": [
    "# Function with return statement\n",
    "def return_func():\n",
    "    return 'Return function'\n",
    "print(return_func())"
   ]
  },
  {
   "cell_type": "code",
   "execution_count": 17,
   "id": "6e6ea59a-fb40-4cd3-b1a3-480711569780",
   "metadata": {},
   "outputs": [
    {
     "name": "stdout",
     "output_type": "stream",
     "text": [
      "Result: 13\n",
      "Result: 1\n",
      "Result: 42\n",
      "Result: 1.17\n"
     ]
    }
   ],
   "source": [
    "# Function with parameters\n",
    "def add_func(x, y):\n",
    "    return f'Result: {x + y}'\n",
    "\n",
    "def subtract_func(x, y):\n",
    "    return f'Result: {x - y}'\n",
    "\n",
    "def multiply_func(x, y):\n",
    "    return f'Result: {x * y}'\n",
    "\n",
    "def division_func(x, y):\n",
    "    return f'Result: {x / y:.2f}'\n",
    "\n",
    "\n",
    "# Calling function\n",
    "print(add_func(7, 6))\n",
    "print(subtract_func(7, 6))\n",
    "print(multiply_func(7, 6))\n",
    "print(division_func(7, 6))"
   ]
  },
  {
   "cell_type": "code",
   "execution_count": 35,
   "id": "3890d661-6543-40c9-bd72-892049f7d4f3",
   "metadata": {},
   "outputs": [
    {
     "name": "stdout",
     "output_type": "stream",
     "text": [
      "Hello, Asaduzzaman\n",
      "You're 23 years old\n",
      "\n",
      "Passing the function\n"
     ]
    }
   ],
   "source": [
    "# Default parameter\n",
    "def default_func(name, age = 22):\n",
    "    print(f'Hello, {name}')\n",
    "    print(f'You\\'re {age} years old')\n",
    "\n",
    "default_func('Asaduzzaman', 23)\n",
    "\n",
    "# Pass a function\n",
    "def pass_func():\n",
    "    pass\n",
    "print()\n",
    "print('Passing the function')"
   ]
  },
  {
   "cell_type": "code",
   "execution_count": 1,
   "id": "41308195-4166-4d04-9515-c71a5977af98",
   "metadata": {},
   "outputs": [
    {
     "name": "stdout",
     "output_type": "stream",
     "text": [
      "1\n",
      "3\n",
      "6\n",
      "10\n",
      "15\n",
      "21\n"
     ]
    },
    {
     "data": {
      "text/plain": [
       "21"
      ]
     },
     "execution_count": 1,
     "metadata": {},
     "output_type": "execute_result"
    }
   ],
   "source": [
    "# Recursion\n",
    "def recursion_func(n):\n",
    "    if n > 0:\n",
    "        result = n + recursion_func(n - 1)\n",
    "        print(result)\n",
    "    else:\n",
    "        result = 0\n",
    "    return result\n",
    "\n",
    "# Calling function\n",
    "recursion_func(6)"
   ]
  },
  {
   "cell_type": "code",
   "execution_count": 9,
   "id": "c24439d9-d288-4507-a22c-c90f6c3d732b",
   "metadata": {},
   "outputs": [
    {
     "name": "stdout",
     "output_type": "stream",
     "text": [
      "Hello, Asaduzzaman\n",
      "age: 23\n",
      "section: 9E\n",
      "department: CSE\n",
      "Hello, ALice\n",
      "age: 23\n",
      "section: 9E\n",
      "department: CSE\n",
      "Hello, John\n",
      "age: 23\n",
      "section: 9E\n",
      "department: CSE\n"
     ]
    }
   ],
   "source": [
    "# *arg and **kwargs\n",
    "def hello_func(*args, **kwargs):\n",
    "    for name in args:\n",
    "        print(f'Hello, {name}')\n",
    "        for key, value in kwargs.items():\n",
    "            print(f'{key}: {value}')\n",
    "\n",
    "hello_func('Asaduzzaman','ALice','John', age = 23, section = '9E', department = 'CSE')"
   ]
  },
  {
   "cell_type": "code",
   "execution_count": 20,
   "id": "bf4a4357-3189-483a-b7b7-ba91bcf0f75c",
   "metadata": {},
   "outputs": [
    {
     "name": "stdout",
     "output_type": "stream",
     "text": [
      "(['Math', 'Biology', 'Chemistry'], {'Math': 'John', 'Biology': 'Bob', 'Chemistry': 'Alice'})\n",
      "{}\n",
      "('Math', 'Biology', 'Chemistry')\n",
      "{'Math': 'John', 'Biology': 'Bob', 'Chemistry': 'Alice'}\n"
     ]
    }
   ],
   "source": [
    "# Unpacking args and kwargs\n",
    "def course_func(*args, **kwargs):\n",
    "    print(args)\n",
    "    print(kwargs)\n",
    "\n",
    "courses = ['Math','Biology','Chemistry']\n",
    "instructors = {\n",
    "    'Math':'John',\n",
    "    'Biology': 'Bob',\n",
    "    'Chemistry': 'Alice'\n",
    "}\n",
    "\n",
    "course_func(courses, instructors) # without unpacking\n",
    "course_func(*courses, **instructors) # unpacking"
   ]
  },
  {
   "cell_type": "markdown",
   "id": "b6122717-e67c-4dbb-bb73-b1ee2b61a154",
   "metadata": {},
   "source": [
    "# Lambda Function\n",
    "- A small anonymous function for one time use\n",
    "- But only one expression"
   ]
  },
  {
   "cell_type": "code",
   "execution_count": 45,
   "id": "1b7c0b38-8ca5-42f4-adcc-464805442c68",
   "metadata": {},
   "outputs": [
    {
     "name": "stdout",
     "output_type": "stream",
     "text": [
      "Result = 13\n",
      "Result = 7\n",
      "Product = 21\n",
      "Quotient = 7.0\n"
     ]
    }
   ],
   "source": [
    "\"\"\" Syntax- lambda parameter(s): expression \"\"\"\n",
    "add = lambda x,y: f'Result = {x + y}'\n",
    "print(add(7,6))\n",
    "\n",
    "subtract = lambda x,y: f'Result = {x - y}'\n",
    "print(subtract(10,3))\n",
    "\n",
    "multiply = lambda x,y: f'Product = {x * y}'\n",
    "print(multiply(7,3))\n",
    "\n",
    "division = lambda x,y: f'Quotient = {x / y}'\n",
    "print(division(49,7))"
   ]
  },
  {
   "cell_type": "code",
   "execution_count": 32,
   "id": "ef45655c-6923-4169-8c21-fa566b7eb8c6",
   "metadata": {},
   "outputs": [
    {
     "name": "stdout",
     "output_type": "stream",
     "text": [
      "Hello, Alice\n",
      "Hello, John Doe\n"
     ]
    }
   ],
   "source": [
    "name = lambda name: f'Hello, {name}'\n",
    "print(name('Alice'))\n",
    "\n",
    "full_name = lambda first, last: f'Hello, {first} {last}'\n",
    "print(full_name('John','Doe'))"
   ]
  },
  {
   "cell_type": "code",
   "execution_count": 38,
   "id": "6a7b2378-ce69-493b-8153-3d1c59069ec6",
   "metadata": {},
   "outputs": [
    {
     "name": "stdout",
     "output_type": "stream",
     "text": [
      "False\n",
      "True\n",
      "\n",
      "True\n",
      "True\n"
     ]
    }
   ],
   "source": [
    "is_even = lambda n: n % 2 == 0\n",
    "print(is_even(7))\n",
    "print(is_even(4))\n",
    "print()\n",
    "\n",
    "is_odd = lambda n: n % 2 != 0\n",
    "print(is_odd(7))\n",
    "print(is_even(4))\n"
   ]
  },
  {
   "cell_type": "code",
   "execution_count": 44,
   "id": "ceabd1bd-890f-4d05-932d-cb97ae7eaa22",
   "metadata": {},
   "outputs": [
    {
     "name": "stdout",
     "output_type": "stream",
     "text": [
      "17\n",
      "5\n"
     ]
    }
   ],
   "source": [
    "# Maximum number between two numbers\n",
    "max_number = lambda x,y: x if x > y else y\n",
    "print(max_number(17,8))\n",
    "\n",
    "# Minimum number between two numbers\n",
    "min_number = lambda x,y: x if x < y else y\n",
    "print(min_number(12,5))"
   ]
  },
  {
   "cell_type": "markdown",
   "id": "4c2fd6dc-08dc-411c-a976-101833be2229",
   "metadata": {},
   "source": [
    "# Map Function\n",
    "- Executes a specified function for each item in an iterable"
   ]
  },
  {
   "cell_type": "code",
   "execution_count": 53,
   "id": "490c0f15-d169-4b81-ab45-d4b5ffaa4dce",
   "metadata": {},
   "outputs": [
    {
     "name": "stdout",
     "output_type": "stream",
     "text": [
      "[10, 20, 30, 40, 50, 60, 70]\n",
      "[50.0, 68.0, 86.0, 104.0, 122.0, 140.0, 158.0]\n"
     ]
    }
   ],
   "source": [
    "\"\"\" Syntax - map(function, collections) \"\"\"\n",
    "\n",
    "# Using user defined function\n",
    "celsius_temp = [temp for temp in range(10,80,10)]\n",
    "print(celsius_temp)\n",
    "\n",
    "def celsius_to_fahrenheit(temp):\n",
    "    return ((temp/5)* 9) + 32\n",
    "\n",
    "fahrenheit_temp = map(celsius_to_fahrenheit, celsius_temp)\n",
    "# for temp in fahrenheit_temp:\n",
    "#     print(temp)\n",
    "print(list(fahrenheit_temp))"
   ]
  },
  {
   "cell_type": "code",
   "execution_count": 54,
   "id": "4f2edc14-1e12-4cef-9eff-662309dd61e5",
   "metadata": {},
   "outputs": [
    {
     "name": "stdout",
     "output_type": "stream",
     "text": [
      "[10, 20, 30, 40, 50, 60, 70]\n",
      "[50.0, 68.0, 86.0, 104.0, 122.0, 140.0, 158.0]\n"
     ]
    }
   ],
   "source": [
    "# Using lambda function\n",
    "celsius_temp = [temp for temp in range(10,80,10)]\n",
    "print(celsius_temp)\n",
    "\n",
    "fahrenheit_temp = map(lambda temp: ((temp/5) * 9) + 32, celsius_temp)\n",
    "# for temp in fahrenheit_temp:\n",
    "#     print(temp)\n",
    "print(list(fahrenheit_temp))"
   ]
  }
 ],
 "metadata": {
  "kernelspec": {
   "display_name": "Python 3 (ipykernel)",
   "language": "python",
   "name": "python3"
  },
  "language_info": {
   "codemirror_mode": {
    "name": "ipython",
    "version": 3
   },
   "file_extension": ".py",
   "mimetype": "text/x-python",
   "name": "python",
   "nbconvert_exporter": "python",
   "pygments_lexer": "ipython3",
   "version": "3.13.5"
  }
 },
 "nbformat": 4,
 "nbformat_minor": 5
}
