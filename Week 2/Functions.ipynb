{
 "cells": [
  {
   "cell_type": "markdown",
   "id": "db14cda9-1f3e-49ba-9fde-7997c9c876ff",
   "metadata": {},
   "source": [
    "# Functions\n",
    "- A block of code which only runs when it is called"
   ]
  },
  {
   "cell_type": "code",
   "execution_count": 12,
   "id": "96c104c9-0e2d-432d-8eeb-dcd871ab01ef",
   "metadata": {},
   "outputs": [
    {
     "name": "stdout",
     "output_type": "stream",
     "text": [
      "First function\n"
     ]
    }
   ],
   "source": [
    "# Create a function\n",
    "def first_function():\n",
    "    print('First function')\n",
    "\n",
    "# Call the function\n",
    "first_function()"
   ]
  },
  {
   "cell_type": "code",
   "execution_count": 14,
   "id": "e2096797-9a7d-4276-bf55-08672888b3af",
   "metadata": {},
   "outputs": [
    {
     "name": "stdout",
     "output_type": "stream",
     "text": [
      "Return function\n"
     ]
    }
   ],
   "source": [
    "# Function with return statement\n",
    "def return_func():\n",
    "    return 'Return function'\n",
    "print(return_func())"
   ]
  },
  {
   "cell_type": "code",
   "execution_count": 17,
   "id": "6e6ea59a-fb40-4cd3-b1a3-480711569780",
   "metadata": {},
   "outputs": [
    {
     "name": "stdout",
     "output_type": "stream",
     "text": [
      "Result: 13\n",
      "Result: 1\n",
      "Result: 42\n",
      "Result: 1.17\n"
     ]
    }
   ],
   "source": [
    "# Function with parameters\n",
    "def add_func(x, y):\n",
    "    return f'Result: {x + y}'\n",
    "\n",
    "def subtract_func(x, y):\n",
    "    return f'Result: {x - y}'\n",
    "\n",
    "def multiply_func(x, y):\n",
    "    return f'Result: {x * y}'\n",
    "\n",
    "def division_func(x, y):\n",
    "    return f'Result: {x / y:.2f}'\n",
    "\n",
    "\n",
    "# Calling function\n",
    "print(add_func(7, 6))\n",
    "print(subtract_func(7, 6))\n",
    "print(multiply_func(7, 6))\n",
    "print(division_func(7, 6))"
   ]
  },
  {
   "cell_type": "code",
   "execution_count": 35,
   "id": "3890d661-6543-40c9-bd72-892049f7d4f3",
   "metadata": {},
   "outputs": [
    {
     "name": "stdout",
     "output_type": "stream",
     "text": [
      "Hello, Asaduzzaman\n",
      "You're 23 years old\n",
      "\n",
      "Passing the function\n"
     ]
    }
   ],
   "source": [
    "# Default parameter\n",
    "def default_func(name, age = 22):\n",
    "    print(f'Hello, {name}')\n",
    "    print(f'You\\'re {age} years old')\n",
    "\n",
    "default_func('Asaduzzaman', 23)\n",
    "\n",
    "# Pass a function\n",
    "def pass_func():\n",
    "    pass\n",
    "print()\n",
    "print('Passing the function')"
   ]
  },
  {
   "cell_type": "code",
   "execution_count": 1,
   "id": "41308195-4166-4d04-9515-c71a5977af98",
   "metadata": {},
   "outputs": [
    {
     "name": "stdout",
     "output_type": "stream",
     "text": [
      "1\n",
      "3\n",
      "6\n",
      "10\n",
      "15\n",
      "21\n"
     ]
    },
    {
     "data": {
      "text/plain": [
       "21"
      ]
     },
     "execution_count": 1,
     "metadata": {},
     "output_type": "execute_result"
    }
   ],
   "source": [
    "# Recursion\n",
    "def recursion_func(n):\n",
    "    if n > 0:\n",
    "        result = n + recursion_func(n - 1)\n",
    "        print(result)\n",
    "    else:\n",
    "        result = 0\n",
    "    return result\n",
    "\n",
    "# Calling function\n",
    "recursion_func(6)"
   ]
  },
  {
   "cell_type": "code",
   "execution_count": 9,
   "id": "c24439d9-d288-4507-a22c-c90f6c3d732b",
   "metadata": {},
   "outputs": [
    {
     "name": "stdout",
     "output_type": "stream",
     "text": [
      "Hello, Asaduzzaman\n",
      "age: 23\n",
      "section: 9E\n",
      "department: CSE\n",
      "Hello, ALice\n",
      "age: 23\n",
      "section: 9E\n",
      "department: CSE\n",
      "Hello, John\n",
      "age: 23\n",
      "section: 9E\n",
      "department: CSE\n"
     ]
    }
   ],
   "source": [
    "# *arg and **kwargs\n",
    "def hello_func(*args, **kwargs):\n",
    "    for name in args:\n",
    "        print(f'Hello, {name}')\n",
    "        for key, value in kwargs.items():\n",
    "            print(f'{key}: {value}')\n",
    "\n",
    "hello_func('Asaduzzaman','ALice','John', age = 23, section = '9E', department = 'CSE')"
   ]
  },
  {
   "cell_type": "code",
   "execution_count": 20,
   "id": "bf4a4357-3189-483a-b7b7-ba91bcf0f75c",
   "metadata": {},
   "outputs": [
    {
     "name": "stdout",
     "output_type": "stream",
     "text": [
      "(['Math', 'Biology', 'Chemistry'], {'Math': 'John', 'Biology': 'Bob', 'Chemistry': 'Alice'})\n",
      "{}\n",
      "('Math', 'Biology', 'Chemistry')\n",
      "{'Math': 'John', 'Biology': 'Bob', 'Chemistry': 'Alice'}\n"
     ]
    }
   ],
   "source": [
    "# Unpacking args and kwargs\n",
    "def course_func(*args, **kwargs):\n",
    "    print(args)\n",
    "    print(kwargs)\n",
    "\n",
    "courses = ['Math','Biology','Chemistry']\n",
    "instructors = {\n",
    "    'Math':'John',\n",
    "    'Biology': 'Bob',\n",
    "    'Chemistry': 'Alice'\n",
    "}\n",
    "\n",
    "course_func(courses, instructors) # without unpacking\n",
    "course_func(*courses, **instructors) # unpacking"
   ]
  },
  {
   "cell_type": "markdown",
   "id": "b6122717-e67c-4dbb-bb73-b1ee2b61a154",
   "metadata": {},
   "source": [
    "# Lambda Function\n",
    "- A small anonymous function for one time use\n",
    "- But only one expression"
   ]
  },
  {
   "cell_type": "code",
   "execution_count": 45,
   "id": "1b7c0b38-8ca5-42f4-adcc-464805442c68",
   "metadata": {},
   "outputs": [
    {
     "name": "stdout",
     "output_type": "stream",
     "text": [
      "Result = 13\n",
      "Result = 7\n",
      "Product = 21\n",
      "Quotient = 7.0\n"
     ]
    }
   ],
   "source": [
    "\"\"\" Syntax- lambda parameter(s): expression \"\"\"\n",
    "add = lambda x,y: f'Result = {x + y}'\n",
    "print(add(7,6))\n",
    "\n",
    "subtract = lambda x,y: f'Result = {x - y}'\n",
    "print(subtract(10,3))\n",
    "\n",
    "multiply = lambda x,y: f'Product = {x * y}'\n",
    "print(multiply(7,3))\n",
    "\n",
    "division = lambda x,y: f'Quotient = {x / y}'\n",
    "print(division(49,7))"
   ]
  },
  {
   "cell_type": "code",
   "execution_count": 32,
   "id": "ef45655c-6923-4169-8c21-fa566b7eb8c6",
   "metadata": {},
   "outputs": [
    {
     "name": "stdout",
     "output_type": "stream",
     "text": [
      "Hello, Alice\n",
      "Hello, John Doe\n"
     ]
    }
   ],
   "source": [
    "name = lambda name: f'Hello, {name}'\n",
    "print(name('Alice'))\n",
    "\n",
    "full_name = lambda first, last: f'Hello, {first} {last}'\n",
    "print(full_name('John','Doe'))"
   ]
  },
  {
   "cell_type": "code",
   "execution_count": 38,
   "id": "6a7b2378-ce69-493b-8153-3d1c59069ec6",
   "metadata": {},
   "outputs": [
    {
     "name": "stdout",
     "output_type": "stream",
     "text": [
      "False\n",
      "True\n",
      "\n",
      "True\n",
      "True\n"
     ]
    }
   ],
   "source": [
    "is_even = lambda n: n % 2 == 0\n",
    "print(is_even(7))\n",
    "print(is_even(4))\n",
    "print()\n",
    "\n",
    "is_odd = lambda n: n % 2 != 0\n",
    "print(is_odd(7))\n",
    "print(is_even(4))\n"
   ]
  },
  {
   "cell_type": "code",
   "execution_count": 44,
   "id": "ceabd1bd-890f-4d05-932d-cb97ae7eaa22",
   "metadata": {},
   "outputs": [
    {
     "name": "stdout",
     "output_type": "stream",
     "text": [
      "17\n",
      "5\n"
     ]
    }
   ],
   "source": [
    "# Maximum number between two numbers\n",
    "max_number = lambda x,y: x if x > y else y\n",
    "print(max_number(17,8))\n",
    "\n",
    "# Minimum number between two numbers\n",
    "min_number = lambda x,y: x if x < y else y\n",
    "print(min_number(12,5))"
   ]
  },
  {
   "cell_type": "markdown",
   "id": "4c2fd6dc-08dc-411c-a976-101833be2229",
   "metadata": {},
   "source": [
    "# Map Function\n",
    "- Executes a specified function for each item in an iterable"
   ]
  },
  {
   "cell_type": "code",
   "execution_count": 63,
   "id": "490c0f15-d169-4b81-ab45-d4b5ffaa4dce",
   "metadata": {},
   "outputs": [
    {
     "name": "stdout",
     "output_type": "stream",
     "text": [
      "[10, 20, 30, 40, 50, 60, 70]\n",
      "[50.0, 68.0, 86.0, 104.0, 122.0, 140.0, 158.0]\n"
     ]
    }
   ],
   "source": [
    "\"\"\" Syntax - map(function, collections) \"\"\"\n",
    "\n",
    "# Using user-defined function\n",
    "celsius_temp = [temp for temp in range(10,80,10)]\n",
    "print(celsius_temp)\n",
    "\n",
    "def celsius_to_fahrenheit(temp):\n",
    "    return ((temp/5)* 9) + 32\n",
    "\n",
    "fahrenheit_temp = map(celsius_to_fahrenheit, celsius_temp)\n",
    "# for temp in fahrenheit_temp:\n",
    "#     print(temp)\n",
    "print(list(fahrenheit_temp))"
   ]
  },
  {
   "cell_type": "code",
   "execution_count": 54,
   "id": "4f2edc14-1e12-4cef-9eff-662309dd61e5",
   "metadata": {},
   "outputs": [
    {
     "name": "stdout",
     "output_type": "stream",
     "text": [
      "[10, 20, 30, 40, 50, 60, 70]\n",
      "[50.0, 68.0, 86.0, 104.0, 122.0, 140.0, 158.0]\n"
     ]
    }
   ],
   "source": [
    "# Using lambda function\n",
    "celsius_temp = [temp for temp in range(10,80,10)]\n",
    "print(celsius_temp)\n",
    "\n",
    "fahrenheit_temp = map(lambda temp: ((temp/5) * 9) + 32, celsius_temp)\n",
    "# for temp in fahrenheit_temp:\n",
    "#     print(temp)\n",
    "print(list(fahrenheit_temp))"
   ]
  },
  {
   "cell_type": "markdown",
   "id": "4fd66a33-cf99-431a-9532-ea0949003823",
   "metadata": {},
   "source": [
    "# Filter Function\n",
    "- Return all the element that passes a condition"
   ]
  },
  {
   "cell_type": "code",
   "execution_count": 64,
   "id": "95631e4c-e59d-4a52-937c-458a2d76f678",
   "metadata": {},
   "outputs": [
    {
     "name": "stdout",
     "output_type": "stream",
     "text": [
      "[60, 65, 70, 75, 80, 85, 90, 95]\n",
      "[75, 80, 85, 90, 95]\n"
     ]
    }
   ],
   "source": [
    "\"\"\" Syntax - filter(function, collection) \"\"\"\n",
    "# Using user-defined function\n",
    "marks = [mark for mark in range(60, 100, 5)]\n",
    "print(marks)\n",
    "\n",
    "def is_passed(mark):\n",
    "    return mark >= 75\n",
    "\n",
    "# Filter function\n",
    "passed_mark = list(filter(is_passed, marks))\n",
    "print(passed_mark)"
   ]
  },
  {
   "cell_type": "code",
   "execution_count": 66,
   "id": "d8c434df-ea01-4989-a6f3-424695ab1300",
   "metadata": {},
   "outputs": [
    {
     "name": "stdout",
     "output_type": "stream",
     "text": [
      "[60, 65, 70, 75, 80, 85, 90, 95]\n",
      "[75, 80, 85, 90, 95]\n"
     ]
    }
   ],
   "source": [
    "# Using lambda function\n",
    "marks = [mark for mark in range(60, 100, 5)]\n",
    "print(marks)\n",
    "\n",
    "# Filter function\n",
    "is_pass = list(filter(lambda mark: mark >= 75, marks))\n",
    "print(is_pass)"
   ]
  },
  {
   "cell_type": "markdown",
   "id": "b141c034-8312-4485-b40b-439c81306256",
   "metadata": {},
   "source": [
    "# Reduce Function\n",
    "- Reduces elements in a collection to a single value"
   ]
  },
  {
   "cell_type": "code",
   "execution_count": 2,
   "id": "cac9d362-a64e-454f-bc24-27a3f66c6eaf",
   "metadata": {},
   "outputs": [
    {
     "name": "stdout",
     "output_type": "stream",
     "text": [
      "373.9\n"
     ]
    }
   ],
   "source": [
    "\"\"\" Syntax - reduce(function, collection) \"\"\"\n",
    "\n",
    "# Import functools before using reduce\n",
    "from functools import reduce\n",
    "# Using user-defined function\n",
    "numbers = [10.7, 45, 60, 70.5, 22,55, 33.7,77]\n",
    "\n",
    "def add(x, y):\n",
    "    return x + y\n",
    "\n",
    "total = reduce(add, numbers)\n",
    "print(total)"
   ]
  },
  {
   "cell_type": "code",
   "execution_count": 3,
   "id": "d091fbd0-fbdd-4f3f-a878-a98a98d456e8",
   "metadata": {},
   "outputs": [
    {
     "name": "stdout",
     "output_type": "stream",
     "text": [
      "373.9\n"
     ]
    }
   ],
   "source": [
    "# Using lambda function\n",
    "total = reduce(lambda x, y: x + y, numbers)\n",
    "print(total)"
   ]
  },
  {
   "cell_type": "markdown",
   "id": "00ad92c3-f2e3-4862-8b9c-4f51c8956b14",
   "metadata": {},
   "source": [
    "# Sorted Function\n",
    "- Returns a sorted list of the specified iterable object"
   ]
  },
  {
   "cell_type": "code",
   "execution_count": 12,
   "id": "48548867-3e33-4009-a001-3db263637642",
   "metadata": {},
   "outputs": [
    {
     "name": "stdout",
     "output_type": "stream",
     "text": [
      "[1, 2, 3, 4, 5, 7, 8, 9]\n",
      "['apple', 'banana', 'kiwi', 'manogo', 'orange']\n",
      "\n",
      "['orange', 'manogo', 'kiwi', 'banana', 'apple']\n",
      "\n",
      "['kiwi', 'apple', 'banana', 'orange', 'manogo']\n"
     ]
    }
   ],
   "source": [
    "\"\"\" Syntax - sorted(iterable, key, reverse) \"\"\"\n",
    "unsorted_list = [5,7,2,3,4,9,8,1]\n",
    "\n",
    "# Without any optional parameter\n",
    "sorted_list = sorted(unsorted_list)\n",
    "print(sorted_list)\n",
    "\n",
    "# with optional parameter(s)\n",
    "fruits = ['banana','orange','apple','kiwi','manogo']\n",
    "sorted_fruits = sorted(fruits)\n",
    "print(sorted_fruits)\n",
    "print()\n",
    "\n",
    "sorted_fruits = sorted(fruits, reverse = True)\n",
    "print(sorted_fruits)\n",
    "print()\n",
    "\n",
    "sorted_fruits = sorted(fruits, key = len)\n",
    "print(sorted_fruits)"
   ]
  },
  {
   "cell_type": "code",
   "execution_count": 29,
   "id": "4d65b9a5-c725-445a-bc7c-8bc7b572375f",
   "metadata": {},
   "outputs": [
    {
     "name": "stdout",
     "output_type": "stream",
     "text": [
      "[1, 2, 3, 4, 5, 7, 8, 9]\n",
      "['apple', 'banana', 'kiwi', 'manogo', 'orange']\n",
      "\n",
      "['orange', 'manogo', 'kiwi', 'banana', 'apple']\n",
      "\n",
      "['kiwi', 'apple', 'banana', 'orange', 'manogo']\n"
     ]
    }
   ],
   "source": [
    "unsorted_tuple = (5,7,2,3,4,9,8,1)\n",
    "\n",
    "# Without any optional parameter\n",
    "sorted_tuple = sorted(unsorted_tuple)\n",
    "print(sorted_list)\n",
    "\n",
    "# with optional parameter(s)\n",
    "fruits = ('banana','orange','apple','kiwi','manogo')\n",
    "sorted_fruits = sorted(fruits)\n",
    "print(sorted_fruits)\n",
    "print()\n",
    "\n",
    "sorted_fruits = sorted(fruits, reverse = True)\n",
    "print(sorted_fruits)\n",
    "print()\n",
    "\n",
    "sorted_fruits = sorted(fruits, key = len)\n",
    "print(sorted_fruits)"
   ]
  },
  {
   "cell_type": "code",
   "execution_count": 39,
   "id": "0a0f3562-5e84-4b80-9243-d018dc49734c",
   "metadata": {},
   "outputs": [
    {
     "name": "stdout",
     "output_type": "stream",
     "text": [
      "['apple', 'banana', 'mango', 'oranage']\n",
      "\n",
      "{'apple': 15, 'banana': 10, 'mango': 13, 'oranage': 17}\n",
      "\n",
      "{'oranage': 17, 'mango': 13, 'banana': 10, 'apple': 15}\n",
      "\n",
      "{'oranage': 17, 'mango': 13, 'banana': 10, 'apple': 15}\n",
      "\n",
      "{'banana': 10, 'mango': 13, 'apple': 15, 'oranage': 17}\n",
      "\n",
      "{'oranage': 17, 'apple': 15, 'mango': 13, 'banana': 10}\n",
      "\n"
     ]
    }
   ],
   "source": [
    "fruits_info = {\n",
    "    'banana': 10,\n",
    "    'oranage': 17,\n",
    "    'apple': 15,\n",
    "    'mango': 13\n",
    "}\n",
    "\n",
    "sorted_dict = sorted(fruits_info) # return a list with only key\n",
    "print(sorted_dict)\n",
    "print()\n",
    "\n",
    "sorted_dict_2 = sorted(fruits_info.items()) # return a list with key:value as list of tuple\n",
    "print(dict(sorted_dict_2))\n",
    "print()\n",
    "\n",
    "sorted_dict_3 = sorted(fruits_info.items(), reverse = True) # sort based on key:value only\n",
    "print(dict(sorted_dict_3))\n",
    "print()\n",
    "\n",
    "sorted_dict_4 = sorted(fruits_info.items(), key = lambda item: item[0], reverse = True) # sort based on key only\n",
    "print(dict(sorted_dict_4))\n",
    "print()\n",
    "\n",
    "\n",
    "sorted_dict_5 = sorted(fruits_info.items(), key = lambda item: item[1]) # sort based on value only\n",
    "print(dict(sorted_dict_5))\n",
    "print()\n",
    "\n",
    "sorted_dict_6 = sorted(fruits_info.items(), key = lambda item: item[1], reverse = True) # sort based on value only\n",
    "print(dict(sorted_dict_6))\n",
    "print()"
   ]
  },
  {
   "cell_type": "code",
   "execution_count": 44,
   "id": "f243467c-8a99-4146-b8e6-20fb4b762630",
   "metadata": {},
   "outputs": [
    {
     "name": "stdout",
     "output_type": "stream",
     "text": [
      "[9, 8, 7, 5, 4, 3, 1]\n",
      "[9, 8, 7, 5, 4, 3, 1]\n"
     ]
    }
   ],
   "source": [
    "numbers = [3,5,4,1,7,8,9]\n",
    "sorted_numbers = sorted(numbers, key = lambda x : abs(10 - x))\n",
    "print(sorted_numbers)\n",
    "\n",
    "def func(x):\n",
    "    return abs(10 - x)\n",
    "\n",
    "sorted_numbers_2 = sorted(numbers, key = func)\n",
    "print(sorted_numbers_2)"
   ]
  }
 ],
 "metadata": {
  "kernelspec": {
   "display_name": "Python 3 (ipykernel)",
   "language": "python",
   "name": "python3"
  },
  "language_info": {
   "codemirror_mode": {
    "name": "ipython",
    "version": 3
   },
   "file_extension": ".py",
   "mimetype": "text/x-python",
   "name": "python",
   "nbconvert_exporter": "python",
   "pygments_lexer": "ipython3",
   "version": "3.13.5"
  }
 },
 "nbformat": 4,
 "nbformat_minor": 5
}
