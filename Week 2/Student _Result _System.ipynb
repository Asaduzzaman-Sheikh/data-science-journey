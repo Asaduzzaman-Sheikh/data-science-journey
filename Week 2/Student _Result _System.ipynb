{
 "cells": [
  {
   "attachments": {
    "2ddd7f96-512d-454f-8dfb-cbdda791350a.png": {
     "image/png": "[encoded data removed]"
    }
   },
   "cell_type": "markdown",
   "id": "894e8730-d001-493a-8012-e37938e11959",
   "metadata": {},
   "source": [
    "# Mini Project: “Student Result System” 🎓\n",
    "🎯 Objective\n",
    "\n",
    "- Build a function-based Python program that calculates total marks, percentage, and grade for multiple students.\n",
    "\n",
    "    - 🔧 Requirements\n",
    "\n",
    "    - Define a function calculate_result(name, marks)\n",
    "\n",
    "        - marks is a list of subject scores (e.g., [85, 90, 78])\n",
    "\n",
    "        - Calculate total, average, and grade based on:\n",
    "     \n",
    "        - ![{CBF32BA3-9617-44B1-95EE-7EC0DED64BF3}.png](attachment:2ddd7f96-512d-454f-8dfb-cbdda791350a.png)\n",
    "\n",
    "\n",
    "        - Return a dictionary with keys: name, total, average, grade\n",
    "\n",
    "    - Define another function display_result(result_dict)\n",
    "\n",
    "        - Nicely print the output\n",
    "\n",
    "        - Use a loop to take input for multiple students (e.g., 3 students).\n",
    "\n",
    "        - Store results in a list, then print all results."
   ]
  },
  {
   "cell_type": "code",
   "execution_count": 49,
   "id": "0bab6dd7-de16-4509-8d85-1689f15827f8",
   "metadata": {},
   "outputs": [
    {
     "name": "stdin",
     "output_type": "stream",
     "text": [
      "Enter the number of students want to add:  2\n",
      "Enter student name:  asaduzzaman\n",
      "Enter marks for different courses seperated by comma:  85,90,70\n"
     ]
    },
    {
     "name": "stdout",
     "output_type": "stream",
     "text": [
      "-----------------------------------------------------\n",
      "Name: Asaduzzaman\n",
      "Total: 245.0\n",
      "Average: 81.667\n",
      "Grade: A\n",
      "-----------------------------------------------------\n"
     ]
    },
    {
     "name": "stdin",
     "output_type": "stream",
     "text": [
      "Enter student name:  alice\n",
      "Enter marks for different courses seperated by comma:  55,60,58\n"
     ]
    },
    {
     "name": "stdout",
     "output_type": "stream",
     "text": [
      "-----------------------------------------------------\n",
      "Name: Alice\n",
      "Total: 173.0\n",
      "Average: 57.667\n",
      "Grade: F\n",
      "-----------------------------------------------------\n",
      "---------------------All Students----------------------\n",
      "Name: Asaduzzaman | Total: 245.0 | Average: 81.667 | Grade: A | \n",
      "Name: Alice | Total: 173.0 | Average: 57.667 | Grade: F | \n",
      "\n",
      "🎩 Class Topper: 💐💐💐 Asaduzzaman 💐💐💐\n"
     ]
    }
   ],
   "source": [
    "# Function for calculating the result\n",
    "\n",
    "def calculate_result(name, marks):\n",
    "    student_info = dict()\n",
    "    total = sum(marks)\n",
    "    average = round(total / len(marks),3)\n",
    "    grade = ''\n",
    "    \n",
    "    # 90 - 100 -> A+\n",
    "    # 80 - 89 -> A\n",
    "    # 70 - 79 -> B\n",
    "    # 60 - 69 -> C\n",
    "    # < 60 -> F\n",
    "\n",
    "    # Checking grade\n",
    "    if average < 60:\n",
    "        grade = 'F'\n",
    "    elif average < 70:\n",
    "        grade = 'C'\n",
    "    elif average < 80:\n",
    "        grade = 'B'\n",
    "    elif average < 90:\n",
    "        grade = 'A'\n",
    "    else:\n",
    "        grade = 'A+'\n",
    "\n",
    "    # Add student info to the dictionary\n",
    "    student_info.update({'Name':name, 'Total': total, 'Average': average, 'Grade': grade})\n",
    "    return student_info\n",
    "    \n",
    "# Function to display student info\n",
    "def display_result(student):\n",
    "    # Show each student's info\n",
    "    for key, value in student.items():\n",
    "        print(f'{key}: {value}')\n",
    "# Taking the number of students\n",
    "student_limit = int(input('Enter the number of students want to add: '))\n",
    "students_list = list()\n",
    "average_mark = list()\n",
    "for student in range(student_limit):\n",
    "    # Taking student information\n",
    "    name = input('Enter student name: ').title()\n",
    "    marks = input('Enter marks for different courses seperated by comma: ').split(',')\n",
    "    marks_number = [float(mark) for mark in marks]\n",
    "    print('-----------------------------------------------------')\n",
    "\n",
    "    # Calling the calculate result function for each student\n",
    "    student = calculate_result(name,marks_number)\n",
    "    average_mark.append(student['Average'])\n",
    "    # print(average_mark)\n",
    "    \n",
    "    # calling the display_result function to display each student's info\n",
    "    display_result(student)\n",
    "    print('-----------------------------------------------------')\n",
    "    \n",
    "\n",
    "    # Adding all the students to a list\n",
    "    students_list.append(student)\n",
    "\n",
    "\n",
    "# Get the class topper\n",
    "# print(average_mark)\n",
    "# print(max(average_mark))\n",
    "\n",
    "# Get the index of the highest mark\n",
    "max_mark = max(average_mark)\n",
    "# print(average_mark.index(max_mark))\n",
    "index = average_mark.index(max_mark)\n",
    "topper = students_list[index]\n",
    "# print(topper['Name'])\n",
    "    \n",
    "# Display all the students' info\n",
    "\n",
    "print('---------------------All Students----------------------')\n",
    "\n",
    "for student in students_list:\n",
    "    for key, value in student.items():\n",
    "        print(f'{key}: {value} | ',end='')\n",
    "    print()\n",
    "\n",
    "# Display the class topper's name\n",
    "print()\n",
    "print(f'🎩 Class Topper: 💐💐💐 {topper['Name']} 💐💐💐')"
   ]
  }
 ],
 "metadata": {
  "kernelspec": {
   "display_name": "Python 3 (ipykernel)",
   "language": "python",
   "name": "python3"
  },
  "language_info": {
   "codemirror_mode": {
    "name": "ipython",
    "version": 3
   },
   "file_extension": ".py",
   "mimetype": "text/x-python",
   "name": "python",
   "nbconvert_exporter": "python",
   "pygments_lexer": "ipython3",
   "version": "3.13.5"
  }
 },
 "nbformat": 4,
 "nbformat_minor": 5
}
