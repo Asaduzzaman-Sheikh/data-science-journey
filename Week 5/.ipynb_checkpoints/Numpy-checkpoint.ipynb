{
 "cells": [
  {
   "cell_type": "markdown",
   "id": "7d10b0c7-53a8-4e84-84f8-51aadb23d72c",
   "metadata": {},
   "source": [
    "# NumPy - Array Attributes\n"
   ]
  },
  {
   "cell_type": "code",
   "execution_count": 1,
   "id": "7e2d9477-a845-4055-81e7-1587047aa2fa",
   "metadata": {},
   "outputs": [
    {
     "name": "stdout",
     "output_type": "stream",
     "text": [
      "[[1 2 3]\n",
      " [4 5 6]]\n",
      "2\n",
      "(2, 3)\n",
      "6\n",
      "(24, 8)\n",
      "int64\n"
     ]
    }
   ],
   "source": [
    "import numpy as np\n",
    "\n",
    "array = np.array([[1,2,3],[4,5,6]])\n",
    "print(array)\n",
    "\n",
    "# CHECK DIMENSION OF THE ARRAY - ndim\n",
    "print(array.ndim)\n",
    "\n",
    "# CHECK THE SHAPE OF THE ARRAY- shape\n",
    "print(array.shape)\n",
    "\n",
    "# CHECK THE SIZE OF THE ARRAY - size\n",
    "print(array.size)\n",
    "\n",
    "# CHECK THE STEP DIFFERENCE BETWEEN EACH ROW AND COLUMN - strides\n",
    "print(array.strides)\n",
    "\n",
    "# CHECK THE DATA TYPE OF THE ARRAY - dtype\n",
    "print(array.dtype)"
   ]
  },
  {
   "cell_type": "markdown",
   "id": "f9be9a8b-a415-4daf-a8ab-76f0dbed2651",
   "metadata": {},
   "source": [
    "# NumPy - Create a Basic Array"
   ]
  },
  {
   "cell_type": "code",
   "execution_count": 2,
   "id": "c1e1e42d-8828-4f2c-9122-d592ac88e4b7",
   "metadata": {},
   "outputs": [
    {
     "name": "stdout",
     "output_type": "stream",
     "text": [
      "[[1 2 3]\n",
      " [4 5 6]\n",
      " [7 8 9]]\n",
      "\n",
      "[[0. 0. 0. 0.]\n",
      " [0. 0. 0. 0.]\n",
      " [0. 0. 0. 0.]]\n",
      "\n",
      "[[1. 1. 1.]\n",
      " [1. 1. 1.]\n",
      " [1. 1. 1.]\n",
      " [1. 1. 1.]]\n",
      "\n",
      "[[1. 0. 0.]\n",
      " [0. 1. 0.]\n",
      " [0. 0. 1.]]\n",
      "\n",
      "[[7 7 7]\n",
      " [7 7 7]\n",
      " [7 7 7]]\n",
      "\n",
      "[[0. 0. 0.]\n",
      " [0. 0. 0.]\n",
      " [0. 0. 0.]]\n",
      "\n",
      "[1 3 5 7 9]\n",
      "\n",
      "[1.   1.25 1.5  1.75 2.  ]\n",
      "\n",
      "[[0.15149492 0.7152959  0.71658771 0.65148064]\n",
      " [0.30124848 0.41382652 0.7325433  0.43387224]\n",
      " [0.44887261 0.7365172  0.69550046 0.8878795 ]]\n",
      "\n"
     ]
    }
   ],
   "source": [
    "# USING THE np.array() method\n",
    "np_array = np.array([[1,2,3],[4,5,6],[7,8,9]])\n",
    "print(np_array)\n",
    "print()\n",
    "\n",
    "# USING THE np.zeros() method\n",
    "zero = np.zeros((3,4))\n",
    "# zero = np.zeros((3,4), dtype = np.int64) # use dtype parameter to change the data type \n",
    "print(zero)\n",
    "print()\n",
    "\n",
    "# USING THE np.ones() method\n",
    "one = np.ones((4,3))\n",
    "print(one)\n",
    "print()\n",
    "\n",
    "# USING THE np.eye() method\n",
    "identity = np.eye(3)\n",
    "print(identity)\n",
    "print()\n",
    "\n",
    "# USING THE np.full() method\n",
    "constant = np.full((3,3), 7)\n",
    "print(constant)\n",
    "print()\n",
    "\n",
    "# USING THE np.empty() method - fills with random values\n",
    "empt = np.empty((3,3))\n",
    "print(empt)\n",
    "print()\n",
    "\n",
    "# USING THE np.arange() method - last not included\n",
    "custom_range = np.arange(1,11,2)\n",
    "print(custom_range)\n",
    "print()\n",
    "\n",
    "# USING THE np.linspace() method - last included\n",
    "linarray = np.linspace(1,2,num=5)\n",
    "print(linarray)\n",
    "print()\n",
    "\n",
    "# USING THE np.random.random() method - generate random number between 0 and 1; not include 1\n",
    "random = np.random.random((3,4))\n",
    "print(random)\n",
    "print()"
   ]
  },
  {
   "cell_type": "markdown",
   "id": "f1d210a5-79c3-4215-b892-90905d51acca",
   "metadata": {},
   "source": [
    "# NumPy - Array Indexing"
   ]
  },
  {
   "cell_type": "code",
   "execution_count": 21,
   "id": "a524e254-74b9-4582-98bf-253d251f88b7",
   "metadata": {},
   "outputs": [
    {
     "name": "stdout",
     "output_type": "stream",
     "text": [
      "3\n",
      "[4 5 6]\n",
      "3\n",
      "\n",
      "5\n",
      "\n",
      "[[1 2 3]\n",
      " [4 5 6]]\n",
      "\n",
      "[[1 2 3]]\n",
      "\n",
      "[[1 2 3]\n",
      " [4 5 6]]\n",
      "\n",
      "[[1 2]\n",
      " [4 5]]\n",
      "\n"
     ]
    }
   ],
   "source": [
    "array = np.array([[1,2,3],\n",
    "                  [4,5,6]])\n",
    "\n",
    "# ACCESS A SINGLE ELEMENT\n",
    "element = array[0, 2]\n",
    "# array[0, 2] = 7\n",
    "print(element)\n",
    "\n",
    "# ROW INDEXING\n",
    "row = array[1]\n",
    "print(row)\n",
    "\n",
    "# COLUMN INDEXING\n",
    "col = array[0,2]\n",
    "print(col)\n",
    "print()\n",
    "\n",
    "# NEGATIVE INDEXING\n",
    "print(array[-1,-2])\n",
    "print()\n",
    "\n",
    "# ROW SLICING\n",
    "row_slice = array[:] # Select all the rows\n",
    "print(row_slice)\n",
    "print()\n",
    "\n",
    "specified_row = array[0:1] # Select the first row\n",
    "print(specified_row)\n",
    "print()\n",
    "\n",
    "# COLUMN SLICING\n",
    "col_slicing = array[:, :] # Select all the columns\n",
    "print(col_slicing)\n",
    "print()\n",
    "\n",
    "specified_col = array[:, 0:2] # Selects the first two columns\n",
    "print(specified_col)\n",
    "print()"
   ]
  },
  {
   "cell_type": "markdown",
   "id": "6c8a483d-9fcb-4f32-958a-0181e3f0b96a",
   "metadata": {},
   "source": [
    "# NumPy - Adavnced Array Indexing"
   ]
  },
  {
   "cell_type": "code",
   "execution_count": 25,
   "id": "38971271-8712-4b30-b94e-7bbd316ccf8d",
   "metadata": {},
   "outputs": [
    {
     "name": "stdout",
     "output_type": "stream",
     "text": [
      "[10 40 60]\n",
      "\n",
      "[1 6]\n",
      "\n"
     ]
    }
   ],
   "source": [
    "arr = np.array([10,20,30,40,50,60,70])\n",
    "\n",
    "# INTEGER INDEXING - returns one dimensional array\n",
    "selected_elements = arr[[0,3,5]]\n",
    "print(selected_elements)\n",
    "print()\n",
    "\n",
    "arr2d = np.array([[1, 2, 3],\n",
    "                  [4, 5, 6],\n",
    "                  [7, 8, 9]])\n",
    "\n",
    "row_elements = [0,1]\n",
    "col_elements = [0,2]\n",
    "\n",
    "elements = arr2d[row_elements, col_elements]\n",
    "print(elements)\n",
    "print()"
   ]
  },
  {
   "cell_type": "code",
   "execution_count": 35,
   "id": "777b69ac-e9ea-4179-bbe4-72a4c10fd92f",
   "metadata": {},
   "outputs": [
    {
     "name": "stdout",
     "output_type": "stream",
     "text": [
      "[[False False]\n",
      " [False  True]\n",
      " [ True  True]]\n",
      "\n",
      "[4 5 6]\n",
      "\n"
     ]
    }
   ],
   "source": [
    "# BOOLEAN INDEXING - MASKING\n",
    "data = np.array([[1, 2], [3, 4], [5, 6]])\n",
    "\n",
    "# STEP 1: FIRST FILTER THE DATA\n",
    "filtered_data = data > 3 # Returns a boolen array\n",
    "# filtered_data = (data > 2) & (data < 6)\n",
    "print(filtered_data)\n",
    "print()\n",
    "\n",
    "# STEP 2: SELECT THE DATA\n",
    "selected_data = data[filtered_data] # Returns always a one dimensional array\n",
    "print(selected_data)\n",
    "print()"
   ]
  },
  {
   "cell_type": "code",
   "execution_count": 44,
   "id": "c92313ad-11d7-4580-8744-d51df15c1de8",
   "metadata": {},
   "outputs": [
    {
     "name": "stdout",
     "output_type": "stream",
     "text": [
      "[1 2 3]\n",
      "[4 5 6]\n",
      "\n",
      "[7 8 9]\n",
      "[10 11 12]\n",
      "\n",
      "1\n",
      "2\n",
      "3\n",
      "\n",
      "4\n",
      "5\n",
      "6\n",
      "\n",
      "7\n",
      "8\n",
      "9\n",
      "\n",
      "10\n",
      "11\n",
      "12\n",
      "\n"
     ]
    }
   ],
   "source": [
    "ar = np.array([[[1, 2, 3], [4, 5, 6]], \n",
    "                [[7, 8, 9], [10, 11, 12]]])\n",
    "print(ar[0, 0]) # Output: [1,2,3]\n",
    "print(ar[0, 1]) # Output: [4,5,6]\n",
    "print()\n",
    "\n",
    "print(ar[1,0]) # Output: [7,8,9]\n",
    "print(ar[1,1]) # Output: [10,11,12]\n",
    "print()\n",
    "\n",
    "print(ar[0,0,0]) # Output: 1\n",
    "print(ar[0,0,1]) # Output: 2\n",
    "print(ar[0,0,2]) # Output: 3\n",
    "print()\n",
    "\n",
    "print(ar[0,1,0]) # Output: 4\n",
    "print(ar[0,1,1]) # Output: 5\n",
    "print(ar[0,1,2]) # Output: 6\n",
    "print()\n",
    "\n",
    "print(ar[1,0,0]) # Output: 7\n",
    "print(ar[1,0,1]) # Output: 8\n",
    "print(ar[1,0,2]) # Output: 9\n",
    "print()\n",
    "\n",
    "print(ar[1,1,0]) # Output: 10\n",
    "print(ar[1,1,1]) # Output: 11\n",
    "print(ar[1,1,2]) # Outptu: 12\n",
    "print()"
   ]
  },
  {
   "cell_type": "code",
   "execution_count": 49,
   "id": "93f7f47b-9005-4ba2-b187-a08940c15b4d",
   "metadata": {},
   "outputs": [
    {
     "name": "stdout",
     "output_type": "stream",
     "text": [
      "[[[1]]]\n",
      "[[1 2 3]]\n"
     ]
    }
   ],
   "source": [
    "print(ar[0:1, 0:1, 0:1]) # Output: [[[1]]]\n",
    "print(ar[:1, 0]) # Outptu: [[1 2 3]]"
   ]
  }
 ],
 "metadata": {
  "kernelspec": {
   "display_name": "Python 3 (ipykernel)",
   "language": "python",
   "name": "python3"
  },
  "language_info": {
   "codemirror_mode": {
    "name": "ipython",
    "version": 3
   },
   "file_extension": ".py",
   "mimetype": "text/x-python",
   "name": "python",
   "nbconvert_exporter": "python",
   "pygments_lexer": "ipython3",
   "version": "3.13.5"
  }
 },
 "nbformat": 4,
 "nbformat_minor": 5
}
