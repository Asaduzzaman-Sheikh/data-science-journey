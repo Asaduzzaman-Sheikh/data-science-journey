{
 "cells": [
  {
   "cell_type": "markdown",
   "id": "7d10b0c7-53a8-4e84-84f8-51aadb23d72c",
   "metadata": {},
   "source": [
    "# NumPy - Array Attributes\n"
   ]
  },
  {
   "cell_type": "code",
   "execution_count": 8,
   "id": "7e2d9477-a845-4055-81e7-1587047aa2fa",
   "metadata": {},
   "outputs": [
    {
     "name": "stdout",
     "output_type": "stream",
     "text": [
      "[[1 2 3]\n",
      " [4 5 6]]\n",
      "2\n",
      "(2, 3)\n",
      "6\n",
      "(24, 8)\n",
      "int64\n"
     ]
    }
   ],
   "source": [
    "import numpy as np\n",
    "\n",
    "array = np.array([[1,2,3],[4,5,6]])\n",
    "print(array)\n",
    "\n",
    "# CHECK DIMENSION OF THE ARRAY - ndim\n",
    "print(array.ndim)\n",
    "\n",
    "# CHECK THE SHAPE OF THE ARRAY- shape\n",
    "print(array.shape)\n",
    "\n",
    "# CHECK THE SIZE OF THE ARRAY - size\n",
    "print(array.size)\n",
    "\n",
    "# CHECK THE STEP DIFFERENCE BETWEEN EACH ROW AND COLUMN - strides\n",
    "print(array.strides)\n",
    "\n",
    "# CHECK THE DATA TYPE OF THE ARRAY - dtype\n",
    "print(array.dtype)"
   ]
  },
  {
   "cell_type": "markdown",
   "id": "f9be9a8b-a415-4daf-a8ab-76f0dbed2651",
   "metadata": {},
   "source": [
    "# NumPy - Create a Basic Array"
   ]
  },
  {
   "cell_type": "code",
   "execution_count": 39,
   "id": "c1e1e42d-8828-4f2c-9122-d592ac88e4b7",
   "metadata": {},
   "outputs": [
    {
     "name": "stdout",
     "output_type": "stream",
     "text": [
      "[[1 2 3]\n",
      " [4 5 6]\n",
      " [7 8 9]]\n",
      "\n",
      "[[0. 0. 0. 0.]\n",
      " [0. 0. 0. 0.]\n",
      " [0. 0. 0. 0.]]\n",
      "\n",
      "[[1. 1. 1.]\n",
      " [1. 1. 1.]\n",
      " [1. 1. 1.]\n",
      " [1. 1. 1.]]\n",
      "\n",
      "[[1. 0. 0.]\n",
      " [0. 1. 0.]\n",
      " [0. 0. 1.]]\n",
      "\n",
      "[[7 7 7]\n",
      " [7 7 7]\n",
      " [7 7 7]]\n",
      "\n",
      "[[3.5e-323 3.5e-323 3.5e-323]\n",
      " [3.5e-323 3.5e-323 3.5e-323]\n",
      " [3.5e-323 3.5e-323 3.5e-323]]\n",
      "\n",
      "[1 3 5 7 9]\n",
      "\n",
      "[1.   1.25 1.5  1.75 2.  ]\n",
      "\n",
      "[[0.95114613 0.11105427 0.87044339 0.28836783]\n",
      " [0.65746    0.39589821 0.58506135 0.22901636]\n",
      " [0.96959509 0.68655715 0.25463739 0.29466631]]\n",
      "\n"
     ]
    }
   ],
   "source": [
    "# USING THE np.array() method\n",
    "np_array = np.array([[1,2,3],[4,5,6],[7,8,9]])\n",
    "print(np_array)\n",
    "print()\n",
    "\n",
    "# USING THE np.zeros() method\n",
    "zero = np.zeros((3,4))\n",
    "# zero = np.zeros((3,4), dtype = np.int64) # use dtype parameter to change the data type \n",
    "print(zero)\n",
    "print()\n",
    "\n",
    "# USING THE np.ones() method\n",
    "one = np.ones((4,3))\n",
    "print(one)\n",
    "print()\n",
    "\n",
    "# USING THE np.eye() method\n",
    "identity = np.eye(3)\n",
    "print(identity)\n",
    "print()\n",
    "\n",
    "# USING THE np.full() method\n",
    "constant = np.full((3,3), 7)\n",
    "print(constant)\n",
    "print()\n",
    "\n",
    "# USING THE np.empty() method - fills with random values\n",
    "empt = np.empty((3,3))\n",
    "print(empt)\n",
    "print()\n",
    "\n",
    "# USING THE np.arange() method - last not included\n",
    "custom_range = np.arange(1,11,2)\n",
    "print(custom_range)\n",
    "print()\n",
    "\n",
    "# USING THE np.linspace() method - last included\n",
    "linarray = np.linspace(1,2,num=5)\n",
    "print(linarray)\n",
    "print()\n",
    "\n",
    "# USING THE np.random.random() method - generate random number between 0 and 1; not include 1\n",
    "random = np.random.random((3,4))\n",
    "print(random)\n",
    "print()"
   ]
  }
 ],
 "metadata": {
  "kernelspec": {
   "display_name": "Python 3 (ipykernel)",
   "language": "python",
   "name": "python3"
  },
  "language_info": {
   "codemirror_mode": {
    "name": "ipython",
    "version": 3
   },
   "file_extension": ".py",
   "mimetype": "text/x-python",
   "name": "python",
   "nbconvert_exporter": "python",
   "pygments_lexer": "ipython3",
   "version": "3.13.5"
  }
 },
 "nbformat": 4,
 "nbformat_minor": 5
}
